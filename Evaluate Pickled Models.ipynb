{
 "cells": [
  {
   "cell_type": "markdown",
   "metadata": {},
   "source": [
    "# Evaluating on the Validation Set\n",
    "Data sets imported have already been created"
   ]
  },
  {
   "cell_type": "code",
   "execution_count": 2,
   "metadata": {},
   "outputs": [
    {
     "data": {
      "text/html": [
       "<div>\n",
       "<style scoped>\n",
       "    .dataframe tbody tr th:only-of-type {\n",
       "        vertical-align: middle;\n",
       "    }\n",
       "\n",
       "    .dataframe tbody tr th {\n",
       "        vertical-align: top;\n",
       "    }\n",
       "\n",
       "    .dataframe thead th {\n",
       "        text-align: right;\n",
       "    }\n",
       "</style>\n",
       "<table border=\"1\" class=\"dataframe\">\n",
       "  <thead>\n",
       "    <tr style=\"text-align: right;\">\n",
       "      <th></th>\n",
       "      <th>line_length</th>\n",
       "      <th>verb_percentage</th>\n",
       "      <th>stopword_percentage</th>\n",
       "      <th>punctuation_percentage</th>\n",
       "    </tr>\n",
       "  </thead>\n",
       "  <tbody>\n",
       "    <tr>\n",
       "      <th>0</th>\n",
       "      <td>15</td>\n",
       "      <td>0.0</td>\n",
       "      <td>0.0</td>\n",
       "      <td>0.0</td>\n",
       "    </tr>\n",
       "    <tr>\n",
       "      <th>1</th>\n",
       "      <td>71</td>\n",
       "      <td>14.3</td>\n",
       "      <td>4.2</td>\n",
       "      <td>1.4</td>\n",
       "    </tr>\n",
       "    <tr>\n",
       "      <th>2</th>\n",
       "      <td>18</td>\n",
       "      <td>0.0</td>\n",
       "      <td>0.0</td>\n",
       "      <td>5.6</td>\n",
       "    </tr>\n",
       "    <tr>\n",
       "      <th>3</th>\n",
       "      <td>7</td>\n",
       "      <td>0.0</td>\n",
       "      <td>0.0</td>\n",
       "      <td>0.0</td>\n",
       "    </tr>\n",
       "    <tr>\n",
       "      <th>4</th>\n",
       "      <td>42</td>\n",
       "      <td>0.0</td>\n",
       "      <td>4.8</td>\n",
       "      <td>7.1</td>\n",
       "    </tr>\n",
       "  </tbody>\n",
       "</table>\n",
       "</div>"
      ],
      "text/plain": [
       "   line_length  verb_percentage  stopword_percentage  punctuation_percentage\n",
       "0           15              0.0                  0.0                     0.0\n",
       "1           71             14.3                  4.2                     1.4\n",
       "2           18              0.0                  0.0                     5.6\n",
       "3            7              0.0                  0.0                     0.0\n",
       "4           42              0.0                  4.8                     7.1"
      ]
     },
     "execution_count": 2,
     "metadata": {},
     "output_type": "execute_result"
    }
   ],
   "source": [
    "import joblib\n",
    "import pandas as pd\n",
    "from sklearn.metrics import accuracy_score, precision_score, recall_score\n",
    "from time import time\n",
    "\n",
    "%matplotlib inline\n",
    "\n",
    "val_features_raw = pd.read_csv('output/val_features_raw.csv')\n",
    "val_features_trans = pd.read_csv('output/val_features_trans.csv')\n",
    "val_features_all = pd.read_csv('output/val_features_all.csv')\n",
    "\n",
    "val_labels = pd.read_csv('output/val_labels.csv')\n",
    "\n",
    "val_features_raw.head()\n"
   ]
  },
  {
   "cell_type": "markdown",
   "metadata": {},
   "source": [
    "## Read In Models"
   ]
  },
  {
   "cell_type": "code",
   "execution_count": 5,
   "metadata": {},
   "outputs": [],
   "source": [
    "models = {}\n",
    "\n",
    "for mdl in ['raw_original', 'transformed', 'all']:\n",
    "    models[mdl] = joblib.load('models/mdl_{}_features.pkl'.format(mdl))\n",
    "\n",
    "    "
   ]
  },
  {
   "cell_type": "code",
   "execution_count": 13,
   "metadata": {},
   "outputs": [],
   "source": [
    "def evaluate_model(name, model, features, labels):\n",
    "    start = time()\n",
    "    pred = model.predict(features)\n",
    "    end = time()\n",
    "    accuracy = round(accuracy_score(labels, pred), 3)\n",
    "    precision = round(precision_score(labels, pred), 3)\n",
    "    recall = round(recall_score(labels, pred), 3)\n",
    "    print('{}\\nAccuracy: {}\\nPrecision: {}\\nRecall: {}\\nLatency: {}ms\\n\\n'.format(name,\n",
    "                                                                              accuracy,\n",
    "                                                                              precision,\n",
    "                                                                              recall,\n",
    "                                                                              round((end-start),3)))"
   ]
  },
  {
   "cell_type": "code",
   "execution_count": 14,
   "metadata": {
    "scrolled": true
   },
   "outputs": [
    {
     "name": "stdout",
     "output_type": "stream",
     "text": [
      "Raw Features\n",
      "Accuracy: 0.832\n",
      "Precision: 0.861\n",
      "Recall: 0.721\n",
      "Latency: 0.03ms\n",
      "\n",
      "\n",
      "Transformed Features\n",
      "Accuracy: 0.837\n",
      "Precision: 0.873\n",
      "Recall: 0.721\n",
      "Latency: 0.014ms\n",
      "\n",
      "\n",
      "All Features\n",
      "Accuracy: 0.817\n",
      "Precision: 0.845\n",
      "Recall: 0.698\n",
      "Latency: 0.038ms\n",
      "\n",
      "\n"
     ]
    }
   ],
   "source": [
    "evaluate_model('Raw Features', models['raw_original'], val_features_raw, val_labels)\n",
    "evaluate_model('Transformed Features', models['transformed'], val_features_trans, val_labels)\n",
    "evaluate_model('All Features', models['all'], val_features_all, val_labels)"
   ]
  },
  {
   "cell_type": "markdown",
   "metadata": {},
   "source": [
    "### Evaluate on Test Set"
   ]
  },
  {
   "cell_type": "code",
   "execution_count": 16,
   "metadata": {},
   "outputs": [
    {
     "name": "stdout",
     "output_type": "stream",
     "text": [
      "Transformed Features\n",
      "Accuracy: 0.881\n",
      "Precision: 0.889\n",
      "Recall: 0.767\n",
      "Latency: 0.019ms\n",
      "\n",
      "\n"
     ]
    }
   ],
   "source": [
    "test_features = pd.read_csv('output/test_features_trans.csv')\n",
    "test_labels = pd.read_csv('output/test_labels.csv')\n",
    "\n",
    "evaluate_model('Transformed Features', models['transformed'], test_features, test_labels)"
   ]
  }
 ],
 "metadata": {
  "kernelspec": {
   "display_name": "Python 3",
   "language": "python",
   "name": "python3"
  },
  "language_info": {
   "codemirror_mode": {
    "name": "ipython",
    "version": 3
   },
   "file_extension": ".py",
   "mimetype": "text/x-python",
   "name": "python",
   "nbconvert_exporter": "python",
   "pygments_lexer": "ipython3",
   "version": "3.8.10"
  }
 },
 "nbformat": 4,
 "nbformat_minor": 4
}
