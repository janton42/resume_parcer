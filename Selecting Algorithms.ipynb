{
 "cells": [
  {
   "cell_type": "markdown",
   "metadata": {},
   "source": [
    "## Comparison\n",
    "Each of 5 ML algorithms (logistic regression, support vector machines, multilayer perceptron, random forest, boosted trees) will be compared on the following criteria:\n",
    "1. Problem Type\n",
    "2. Train Speed\n",
    "3. Predict Speed\n",
    "4. Interpretability\n",
    "5. Performance\n",
    "6. Performance with Limited Data\n",
    "\n",
    "### Read in Data"
   ]
  },
  {
   "cell_type": "code",
   "execution_count": 1,
   "metadata": {},
   "outputs": [],
   "source": [
    "import joblib\n",
    "import pandas as pd\n",
    "from sklearn.metrics import accuracy_score, precision_score, recall_score\n",
    "from time import time\n",
    "\n",
    "val_features = pd.read_csv('output/val_features.csv')\n",
    "val_labels = pd.read_csv('output/val_labels.csv')\n",
    "\n",
    "te_features = pd.read_csv('output/test_features.csv')\n",
    "te_labels = pd.read_csv('output/test_labels.csv')"
   ]
  },
  {
   "cell_type": "markdown",
   "metadata": {},
   "source": [
    "### Read in Models "
   ]
  },
  {
   "cell_type": "code",
   "execution_count": 2,
   "metadata": {},
   "outputs": [],
   "source": [
    "models = {}\n",
    "\n",
    "for mdl in ['lr', 'svm', 'mlp', 'rf', 'gb']:\n",
    "    models[mdl] = joblib.load('output/{}_model.pkl'.format(mdl))\n",
    "\n"
   ]
  },
  {
   "cell_type": "code",
   "execution_count": 3,
   "metadata": {},
   "outputs": [],
   "source": [
    "def evaluate_model(name, model, features, labels):\n",
    "    start = time()\n",
    "    pred = model.predict(features)\n",
    "    end = time()\n",
    "    accuracy = round(accuracy_score(labels, pred), 3)\n",
    "    precision = round(precision_score(labels, pred), 3)\n",
    "    recall = round(recall_score(labels, pred), 3)\n",
    "    print('{}\\nAccuracy: {}\\nPrecision: {}\\nRecall: {}\\nLatency: {}ms\\n\\n'.format(name,\n",
    "                                                                              accuracy,\n",
    "                                                                              precision,\n",
    "                                                                              recall,\n",
    "                                                                              round((end-start),3)))"
   ]
  },
  {
   "cell_type": "code",
   "execution_count": 4,
   "metadata": {
    "scrolled": true
   },
   "outputs": [
    {
     "name": "stdout",
     "output_type": "stream",
     "text": [
      "lr\n",
      "Accuracy: 0.851\n",
      "Precision: 0.833\n",
      "Recall: 0.814\n",
      "Latency: 0.002ms\n",
      "\n",
      "\n",
      "svm\n",
      "Accuracy: 0.807\n",
      "Precision: 0.831\n",
      "Recall: 0.686\n",
      "Latency: 0.01ms\n",
      "\n",
      "\n",
      "mlp\n",
      "Accuracy: 0.832\n",
      "Precision: 0.825\n",
      "Recall: 0.767\n",
      "Latency: 0.002ms\n",
      "\n",
      "\n",
      "rf\n",
      "Accuracy: 0.832\n",
      "Precision: 0.861\n",
      "Recall: 0.721\n",
      "Latency: 0.07ms\n",
      "\n",
      "\n",
      "gb\n",
      "Accuracy: 0.837\n",
      "Precision: 0.844\n",
      "Recall: 0.756\n",
      "Latency: 0.004ms\n",
      "\n",
      "\n"
     ]
    }
   ],
   "source": [
    " for name, mdl in models.items():\n",
    "        evaluate_model(name, mdl, val_features, val_labels)"
   ]
  },
  {
   "cell_type": "code",
   "execution_count": 5,
   "metadata": {},
   "outputs": [
    {
     "name": "stdout",
     "output_type": "stream",
     "text": [
      "Logistic Regression\n",
      "Accuracy: 0.866\n",
      "Precision: 0.848\n",
      "Recall: 0.767\n",
      "Latency: 0.004ms\n",
      "\n",
      "\n"
     ]
    }
   ],
   "source": [
    "evaluate_model('Logistic Regression', models['lr'], te_features, te_labels)"
   ]
  }
 ],
 "metadata": {
  "kernelspec": {
   "display_name": "Python 3",
   "language": "python",
   "name": "python3"
  },
  "language_info": {
   "codemirror_mode": {
    "name": "ipython",
    "version": 3
   },
   "file_extension": ".py",
   "mimetype": "text/x-python",
   "name": "python",
   "nbconvert_exporter": "python",
   "pygments_lexer": "ipython3",
   "version": "3.8.10"
  }
 },
 "nbformat": 4,
 "nbformat_minor": 4
}
