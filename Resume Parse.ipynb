{
 "cells": [
  {
   "cell_type": "markdown",
   "metadata": {},
   "source": [
    "   \n",
    "# Resume Parse\n",
    "## 1. Import packages\n",
    "  "
   ]
  },
  {
   "cell_type": "code",
   "execution_count": 1,
   "metadata": {},
   "outputs": [],
   "source": [
    "import re\n",
    "import string\n",
    "import nltk\n",
    "import time\n",
    "import numpy as np\n",
    "import pandas as pd\n",
    "import seaborn as sns\n",
    "from scipy import stats\n",
    "from matplotlib import pyplot\n",
    "from sklearn.feature_extraction.text import TfidfVectorizer\n",
    "from sklearn.model_selection import train_test_split\n",
    "from sklearn.ensemble import RandomForestClassifier, GradientBoostingClassifier\n",
    "from sklearn.metrics import precision_recall_fscore_support as score\n",
    "from sklearn.preprocessing import StandardScaler\n",
    "from statsmodels.graphics.gofplots import qqplot\n",
    "\n",
    "\n",
    "# supress sklearn warnings\n",
    "def warn(*args, **kwargs):\n",
    "    pass\n",
    "import warnings\n",
    "warnings.warn = warn\n",
    "\n",
    "%matplotlib inline"
   ]
  },
  {
   "cell_type": "markdown",
   "metadata": {},
   "source": [
    "## 2. Wrangle data\n",
    "1. Read data\n",
    "2. Clean data\n",
    "    1. Remove stops\n",
    "    2. Remove punctuation\n",
    "3. Stem data\n",
    "4. Add features\n",
    "    1. Line length: total non-whitespace characters\n",
    "    2. Verb percentage: portion of verbs per line\n",
    "    3. Stop word percentage: portion of stop words per line\n",
    "    4. Punctuation percentage: portion of punction per line"
   ]
  },
  {
   "cell_type": "code",
   "execution_count": 2,
   "metadata": {},
   "outputs": [
    {
     "data": {
      "text/html": [
       "<div>\n",
       "<style scoped>\n",
       "    .dataframe tbody tr th:only-of-type {\n",
       "        vertical-align: middle;\n",
       "    }\n",
       "\n",
       "    .dataframe tbody tr th {\n",
       "        vertical-align: top;\n",
       "    }\n",
       "\n",
       "    .dataframe thead th {\n",
       "        text-align: right;\n",
       "    }\n",
       "</style>\n",
       "<table border=\"1\" class=\"dataframe\">\n",
       "  <thead>\n",
       "    <tr style=\"text-align: right;\">\n",
       "      <th></th>\n",
       "      <th>line</th>\n",
       "      <th>label</th>\n",
       "    </tr>\n",
       "  </thead>\n",
       "  <tbody>\n",
       "    <tr>\n",
       "      <th>0</th>\n",
       "      <td>Bernard Foster</td>\n",
       "      <td>Name</td>\n",
       "    </tr>\n",
       "    <tr>\n",
       "      <th>1</th>\n",
       "      <td>Smyrna, GA 30082                              ...</td>\n",
       "      <td>Contact</td>\n",
       "    </tr>\n",
       "    <tr>\n",
       "      <th>2</th>\n",
       "      <td>Bernard Foster is a Solutions Architect with a...</td>\n",
       "      <td>Summary</td>\n",
       "    </tr>\n",
       "    <tr>\n",
       "      <th>3</th>\n",
       "      <td>Professional Experience</td>\n",
       "      <td>Heading</td>\n",
       "    </tr>\n",
       "    <tr>\n",
       "      <th>4</th>\n",
       "      <td>Research 1, Inc                              S...</td>\n",
       "      <td>Unknown</td>\n",
       "    </tr>\n",
       "    <tr>\n",
       "      <th>...</th>\n",
       "      <td>...</td>\n",
       "      <td>...</td>\n",
       "    </tr>\n",
       "    <tr>\n",
       "      <th>1001</th>\n",
       "      <td>November 2003 - March 2007</td>\n",
       "      <td>Date</td>\n",
       "    </tr>\n",
       "    <tr>\n",
       "      <th>1002</th>\n",
       "      <td>Earned $2344.00 in cash awards and 16 vacation...</td>\n",
       "      <td>Bullet</td>\n",
       "    </tr>\n",
       "    <tr>\n",
       "      <th>1003</th>\n",
       "      <td>EDUCATION</td>\n",
       "      <td>Heading</td>\n",
       "    </tr>\n",
       "    <tr>\n",
       "      <th>1004</th>\n",
       "      <td>Bachelor of Science, Business Information Syst...</td>\n",
       "      <td>Degree</td>\n",
       "    </tr>\n",
       "    <tr>\n",
       "      <th>1005</th>\n",
       "      <td>Commission, Officer Candidate School (OCS), Ne...</td>\n",
       "      <td>Degree</td>\n",
       "    </tr>\n",
       "  </tbody>\n",
       "</table>\n",
       "<p>1006 rows × 2 columns</p>\n",
       "</div>"
      ],
      "text/plain": [
       "                                                   line    label\n",
       "0                                        Bernard Foster     Name\n",
       "1     Smyrna, GA 30082                              ...  Contact\n",
       "2     Bernard Foster is a Solutions Architect with a...  Summary\n",
       "3                               Professional Experience  Heading\n",
       "4     Research 1, Inc                              S...  Unknown\n",
       "...                                                 ...      ...\n",
       "1001                         November 2003 - March 2007     Date\n",
       "1002  Earned $2344.00 in cash awards and 16 vacation...   Bullet\n",
       "1003                                          EDUCATION  Heading\n",
       "1004  Bachelor of Science, Business Information Syst...   Degree\n",
       "1005  Commission, Officer Candidate School (OCS), Ne...   Degree\n",
       "\n",
       "[1006 rows x 2 columns]"
      ]
     },
     "execution_count": 2,
     "metadata": {},
     "output_type": "execute_result"
    }
   ],
   "source": [
    "stopwords = nltk.corpus.stopwords.words('english')\n",
    "ps = nltk.PorterStemmer()\n",
    "wn = nltk.WordNetLemmatizer()\n",
    "verb_tags = ['VB','VBG','VBD', 'VBN','VBN-HL','VERB']\n",
    "data = pd.read_csv('./dev/raw_in.csv', sep=',')\n",
    "\n",
    "data\n"
   ]
  },
  {
   "cell_type": "markdown",
   "metadata": {},
   "source": [
    "## Clean and adjust data"
   ]
  },
  {
   "cell_type": "code",
   "execution_count": 3,
   "metadata": {},
   "outputs": [
    {
     "data": {
      "text/html": [
       "<div>\n",
       "<style scoped>\n",
       "    .dataframe tbody tr th:only-of-type {\n",
       "        vertical-align: middle;\n",
       "    }\n",
       "\n",
       "    .dataframe tbody tr th {\n",
       "        vertical-align: top;\n",
       "    }\n",
       "\n",
       "    .dataframe thead th {\n",
       "        text-align: right;\n",
       "    }\n",
       "</style>\n",
       "<table border=\"1\" class=\"dataframe\">\n",
       "  <thead>\n",
       "    <tr style=\"text-align: right;\">\n",
       "      <th></th>\n",
       "      <th>line</th>\n",
       "      <th>label</th>\n",
       "      <th>line_nostop</th>\n",
       "      <th>line_stemmed</th>\n",
       "      <th>line_length</th>\n",
       "      <th>tagged_line</th>\n",
       "      <th>verb_percentage</th>\n",
       "      <th>stopword_percentage</th>\n",
       "      <th>punctuation_percentage</th>\n",
       "      <th>is_bullet</th>\n",
       "    </tr>\n",
       "  </thead>\n",
       "  <tbody>\n",
       "    <tr>\n",
       "      <th>0</th>\n",
       "      <td>Bernard Foster</td>\n",
       "      <td>Name</td>\n",
       "      <td>[bernard, foster]</td>\n",
       "      <td>[bernard, foster]</td>\n",
       "      <td>13</td>\n",
       "      <td>[(Bernard, NNP), (Foster, NNP)]</td>\n",
       "      <td>0.0</td>\n",
       "      <td>0.0</td>\n",
       "      <td>0.0</td>\n",
       "      <td>0</td>\n",
       "    </tr>\n",
       "    <tr>\n",
       "      <th>1</th>\n",
       "      <td>Smyrna, GA 30082                              ...</td>\n",
       "      <td>Contact</td>\n",
       "      <td>[smyrna, ga, 30082, cell, 404, 6616742, bernar...</td>\n",
       "      <td>[smyrna, ga, 30082, cell, 404, 6616742, bernar...</td>\n",
       "      <td>57</td>\n",
       "      <td>[(Smyrna, NNP), (,, ,), (GA, NNP), (30082, CD)...</td>\n",
       "      <td>0.0</td>\n",
       "      <td>0.0</td>\n",
       "      <td>10.5</td>\n",
       "      <td>0</td>\n",
       "    </tr>\n",
       "    <tr>\n",
       "      <th>2</th>\n",
       "      <td>Bernard Foster is a Solutions Architect with a...</td>\n",
       "      <td>Summary</td>\n",
       "      <td>[bernard, foster, solutions, architect, vast, ...</td>\n",
       "      <td>[bernard, foster, solut, architect, vast, amou...</td>\n",
       "      <td>698</td>\n",
       "      <td>[(Bernard, NNP), (Foster, NNP), (is, VBZ), (a,...</td>\n",
       "      <td>4.1</td>\n",
       "      <td>4.9</td>\n",
       "      <td>2.7</td>\n",
       "      <td>0</td>\n",
       "    </tr>\n",
       "    <tr>\n",
       "      <th>3</th>\n",
       "      <td>Professional Experience</td>\n",
       "      <td>Heading</td>\n",
       "      <td>[professional, experience]</td>\n",
       "      <td>[profession, experi]</td>\n",
       "      <td>22</td>\n",
       "      <td>[(Professional, JJ), (Experience, NN)]</td>\n",
       "      <td>0.0</td>\n",
       "      <td>0.0</td>\n",
       "      <td>0.0</td>\n",
       "      <td>0</td>\n",
       "    </tr>\n",
       "    <tr>\n",
       "      <th>4</th>\n",
       "      <td>Research 1, Inc                              S...</td>\n",
       "      <td>Unknown</td>\n",
       "      <td>[research, 1, inc, salesforce, administratorco...</td>\n",
       "      <td>[research, 1, inc, salesforc, administratorcon...</td>\n",
       "      <td>67</td>\n",
       "      <td>[(Research, NN), (1, CD), (,, ,), (Inc, NNP), ...</td>\n",
       "      <td>10.0</td>\n",
       "      <td>1.5</td>\n",
       "      <td>3.0</td>\n",
       "      <td>0</td>\n",
       "    </tr>\n",
       "    <tr>\n",
       "      <th>...</th>\n",
       "      <td>...</td>\n",
       "      <td>...</td>\n",
       "      <td>...</td>\n",
       "      <td>...</td>\n",
       "      <td>...</td>\n",
       "      <td>...</td>\n",
       "      <td>...</td>\n",
       "      <td>...</td>\n",
       "      <td>...</td>\n",
       "      <td>...</td>\n",
       "    </tr>\n",
       "    <tr>\n",
       "      <th>1001</th>\n",
       "      <td>November 2003 - March 2007</td>\n",
       "      <td>Date</td>\n",
       "      <td>[november, 2003, march, 2007]</td>\n",
       "      <td>[novemb, 2003, march, 2007]</td>\n",
       "      <td>22</td>\n",
       "      <td>[(November, NNP), (2003, CD), (-, :), (March, ...</td>\n",
       "      <td>0.0</td>\n",
       "      <td>0.0</td>\n",
       "      <td>4.5</td>\n",
       "      <td>0</td>\n",
       "    </tr>\n",
       "    <tr>\n",
       "      <th>1002</th>\n",
       "      <td>Earned $2344.00 in cash awards and 16 vacation...</td>\n",
       "      <td>Bullet</td>\n",
       "      <td>[earned, 234400, cash, awards, 16, vacation, h...</td>\n",
       "      <td>[earn, 234400, cash, award, 16, vacat, hour, j...</td>\n",
       "      <td>62</td>\n",
       "      <td>[(Earned, VBD), ($, $), (2344.00, CD), (in, IN...</td>\n",
       "      <td>7.1</td>\n",
       "      <td>4.8</td>\n",
       "      <td>4.8</td>\n",
       "      <td>1</td>\n",
       "    </tr>\n",
       "    <tr>\n",
       "      <th>1003</th>\n",
       "      <td>EDUCATION</td>\n",
       "      <td>Heading</td>\n",
       "      <td>[education]</td>\n",
       "      <td>[educ]</td>\n",
       "      <td>9</td>\n",
       "      <td>[(EDUCATION, NN)]</td>\n",
       "      <td>0.0</td>\n",
       "      <td>0.0</td>\n",
       "      <td>0.0</td>\n",
       "      <td>0</td>\n",
       "    </tr>\n",
       "    <tr>\n",
       "      <th>1004</th>\n",
       "      <td>Bachelor of Science, Business Information Syst...</td>\n",
       "      <td>Degree</td>\n",
       "      <td>[bachelor, science, business, information, sys...</td>\n",
       "      <td>[bachelor, scienc, busi, inform, system, belle...</td>\n",
       "      <td>73</td>\n",
       "      <td>[(Bachelor, NN), (of, IN), (Science, NNP), (,,...</td>\n",
       "      <td>0.0</td>\n",
       "      <td>1.4</td>\n",
       "      <td>5.5</td>\n",
       "      <td>0</td>\n",
       "    </tr>\n",
       "    <tr>\n",
       "      <th>1005</th>\n",
       "      <td>Commission, Officer Candidate School (OCS), Ne...</td>\n",
       "      <td>Degree</td>\n",
       "      <td>[commission, officer, candidate, school, ocs, ...</td>\n",
       "      <td>[commiss, offic, candid, school, oc, nebraska,...</td>\n",
       "      <td>72</td>\n",
       "      <td>[(Commission, NNP), (,, ,), (Officer, NNP), (C...</td>\n",
       "      <td>0.0</td>\n",
       "      <td>0.0</td>\n",
       "      <td>8.3</td>\n",
       "      <td>0</td>\n",
       "    </tr>\n",
       "  </tbody>\n",
       "</table>\n",
       "<p>1006 rows × 10 columns</p>\n",
       "</div>"
      ],
      "text/plain": [
       "                                                   line    label  \\\n",
       "0                                        Bernard Foster     Name   \n",
       "1     Smyrna, GA 30082                              ...  Contact   \n",
       "2     Bernard Foster is a Solutions Architect with a...  Summary   \n",
       "3                               Professional Experience  Heading   \n",
       "4     Research 1, Inc                              S...  Unknown   \n",
       "...                                                 ...      ...   \n",
       "1001                         November 2003 - March 2007     Date   \n",
       "1002  Earned $2344.00 in cash awards and 16 vacation...   Bullet   \n",
       "1003                                          EDUCATION  Heading   \n",
       "1004  Bachelor of Science, Business Information Syst...   Degree   \n",
       "1005  Commission, Officer Candidate School (OCS), Ne...   Degree   \n",
       "\n",
       "                                            line_nostop  \\\n",
       "0                                     [bernard, foster]   \n",
       "1     [smyrna, ga, 30082, cell, 404, 6616742, bernar...   \n",
       "2     [bernard, foster, solutions, architect, vast, ...   \n",
       "3                            [professional, experience]   \n",
       "4     [research, 1, inc, salesforce, administratorco...   \n",
       "...                                                 ...   \n",
       "1001                      [november, 2003, march, 2007]   \n",
       "1002  [earned, 234400, cash, awards, 16, vacation, h...   \n",
       "1003                                        [education]   \n",
       "1004  [bachelor, science, business, information, sys...   \n",
       "1005  [commission, officer, candidate, school, ocs, ...   \n",
       "\n",
       "                                           line_stemmed  line_length  \\\n",
       "0                                     [bernard, foster]           13   \n",
       "1     [smyrna, ga, 30082, cell, 404, 6616742, bernar...           57   \n",
       "2     [bernard, foster, solut, architect, vast, amou...          698   \n",
       "3                                  [profession, experi]           22   \n",
       "4     [research, 1, inc, salesforc, administratorcon...           67   \n",
       "...                                                 ...          ...   \n",
       "1001                        [novemb, 2003, march, 2007]           22   \n",
       "1002  [earn, 234400, cash, award, 16, vacat, hour, j...           62   \n",
       "1003                                             [educ]            9   \n",
       "1004  [bachelor, scienc, busi, inform, system, belle...           73   \n",
       "1005  [commiss, offic, candid, school, oc, nebraska,...           72   \n",
       "\n",
       "                                            tagged_line  verb_percentage  \\\n",
       "0                       [(Bernard, NNP), (Foster, NNP)]              0.0   \n",
       "1     [(Smyrna, NNP), (,, ,), (GA, NNP), (30082, CD)...              0.0   \n",
       "2     [(Bernard, NNP), (Foster, NNP), (is, VBZ), (a,...              4.1   \n",
       "3                [(Professional, JJ), (Experience, NN)]              0.0   \n",
       "4     [(Research, NN), (1, CD), (,, ,), (Inc, NNP), ...             10.0   \n",
       "...                                                 ...              ...   \n",
       "1001  [(November, NNP), (2003, CD), (-, :), (March, ...              0.0   \n",
       "1002  [(Earned, VBD), ($, $), (2344.00, CD), (in, IN...              7.1   \n",
       "1003                                  [(EDUCATION, NN)]              0.0   \n",
       "1004  [(Bachelor, NN), (of, IN), (Science, NNP), (,,...              0.0   \n",
       "1005  [(Commission, NNP), (,, ,), (Officer, NNP), (C...              0.0   \n",
       "\n",
       "      stopword_percentage  punctuation_percentage  is_bullet  \n",
       "0                     0.0                     0.0          0  \n",
       "1                     0.0                    10.5          0  \n",
       "2                     4.9                     2.7          0  \n",
       "3                     0.0                     0.0          0  \n",
       "4                     1.5                     3.0          0  \n",
       "...                   ...                     ...        ...  \n",
       "1001                  0.0                     4.5          0  \n",
       "1002                  4.8                     4.8          1  \n",
       "1003                  0.0                     0.0          0  \n",
       "1004                  1.4                     5.5          0  \n",
       "1005                  0.0                     8.3          0  \n",
       "\n",
       "[1006 rows x 10 columns]"
      ]
     },
     "execution_count": 3,
     "metadata": {},
     "output_type": "execute_result"
    }
   ],
   "source": [
    "def clean_text(text):\n",
    "    text = ''.join([word for word in text if word not in string.punctuation])\n",
    "    tokens = re.split('\\W+',text)\n",
    "    text = [word for word in tokens if word not in stopwords]\n",
    "    return text\n",
    "\n",
    "def get_stems(tokenized_text):\n",
    "    text = [ps.stem(word) for word in tokenized_text]\n",
    "    return text\n",
    "\n",
    "def count_verbs(pos_tags: list) -> int:\n",
    "    count = sum([1 for pair in pos_tags if pair[1] in verb_tags])\n",
    "    return round(count/(len(pos_tags)),3)*100\n",
    "\n",
    "def count_stopwords(line: str) -> int:\n",
    "    count = sum([1 for word in nltk.word_tokenize(line) if word in nltk.corpus.stopwords.words('english')])\n",
    "    return round(count/(len(line) - line.count(' ')),3)*100\n",
    "\n",
    "def count_punct(line: str) -> int:\n",
    "    count = sum([1 for char in line if char in string.punctuation])\n",
    "    return round(count/(len(line) - line.count(' ')), 3)*100\n",
    "\n",
    "data['line_nostop'] = data['line'].apply(lambda x: clean_text(x.lower()))\n",
    "\n",
    "data['line_stemmed'] = data['line_nostop'].apply(lambda x: get_stems(x))\n",
    "\n",
    "data['line_length'] = data['line'].apply(lambda x: len(x) - x.count(' '))\n",
    "\n",
    "data['tagged_line'] = data['line'].apply(lambda x: nltk.pos_tag(nltk.word_tokenize(x)))\n",
    "\n",
    "data['verb_percentage'] = data['tagged_line'].apply(lambda x: count_verbs(x))\n",
    "\n",
    "data['stopword_percentage'] = data['line'].apply(lambda x: count_stopwords(x))\n",
    "\n",
    "data['punctuation_percentage'] = data['line'].apply(lambda x: count_punct(x))\n",
    "\n",
    "data['is_bullet'] = np.where(data['label'] == 'Bullet', 1, 0)\n",
    "\n",
    "\n",
    "data"
   ]
  },
  {
   "cell_type": "code",
   "execution_count": 4,
   "metadata": {
    "scrolled": true
   },
   "outputs": [
    {
     "data": {
      "text/plain": [
       "line                       object\n",
       "label                      object\n",
       "line_nostop                object\n",
       "line_stemmed               object\n",
       "line_length                 int64\n",
       "tagged_line                object\n",
       "verb_percentage           float64\n",
       "stopword_percentage       float64\n",
       "punctuation_percentage    float64\n",
       "is_bullet                   int64\n",
       "dtype: object"
      ]
     },
     "execution_count": 4,
     "metadata": {},
     "output_type": "execute_result"
    }
   ],
   "source": [
    "# Data types\n",
    "data.dtypes"
   ]
  },
  {
   "cell_type": "code",
   "execution_count": 5,
   "metadata": {
    "scrolled": true
   },
   "outputs": [
    {
     "data": {
      "text/plain": [
       "0    627\n",
       "1    379\n",
       "Name: is_bullet, dtype: int64"
      ]
     },
     "execution_count": 5,
     "metadata": {},
     "output_type": "execute_result"
    }
   ],
   "source": [
    "# See distrobution of target variable ('Bullet')\n",
    "data['is_bullet'].value_counts()"
   ]
  },
  {
   "cell_type": "code",
   "execution_count": 6,
   "metadata": {
    "scrolled": true
   },
   "outputs": [
    {
     "data": {
      "text/html": [
       "<div>\n",
       "<style scoped>\n",
       "    .dataframe tbody tr th:only-of-type {\n",
       "        vertical-align: middle;\n",
       "    }\n",
       "\n",
       "    .dataframe tbody tr th {\n",
       "        vertical-align: top;\n",
       "    }\n",
       "\n",
       "    .dataframe thead th {\n",
       "        text-align: right;\n",
       "    }\n",
       "</style>\n",
       "<table border=\"1\" class=\"dataframe\">\n",
       "  <thead>\n",
       "    <tr style=\"text-align: right;\">\n",
       "      <th></th>\n",
       "      <th>line</th>\n",
       "      <th>label</th>\n",
       "      <th>line_nostop</th>\n",
       "      <th>line_stemmed</th>\n",
       "      <th>line_length</th>\n",
       "      <th>tagged_line</th>\n",
       "      <th>verb_percentage</th>\n",
       "      <th>stopword_percentage</th>\n",
       "      <th>punctuation_percentage</th>\n",
       "      <th>is_bullet</th>\n",
       "    </tr>\n",
       "  </thead>\n",
       "  <tbody>\n",
       "    <tr>\n",
       "      <th>256</th>\n",
       "      <td>temporary</td>\n",
       "      <td>Bullet</td>\n",
       "      <td>[temporary]</td>\n",
       "      <td>[temporari]</td>\n",
       "      <td>9</td>\n",
       "      <td>[(temporary, JJ)]</td>\n",
       "      <td>0.0</td>\n",
       "      <td>0.0</td>\n",
       "      <td>0.0</td>\n",
       "      <td>1</td>\n",
       "    </tr>\n",
       "    <tr>\n",
       "      <th>266</th>\n",
       "      <td>previous year</td>\n",
       "      <td>Bullet</td>\n",
       "      <td>[previous, year]</td>\n",
       "      <td>[previou, year]</td>\n",
       "      <td>12</td>\n",
       "      <td>[(previous, JJ), (year, NN)]</td>\n",
       "      <td>0.0</td>\n",
       "      <td>0.0</td>\n",
       "      <td>0.0</td>\n",
       "      <td>1</td>\n",
       "    </tr>\n",
       "    <tr>\n",
       "      <th>282</th>\n",
       "      <td>assistant</td>\n",
       "      <td>Bullet</td>\n",
       "      <td>[assistant]</td>\n",
       "      <td>[assist]</td>\n",
       "      <td>9</td>\n",
       "      <td>[(assistant, NN)]</td>\n",
       "      <td>0.0</td>\n",
       "      <td>0.0</td>\n",
       "      <td>0.0</td>\n",
       "      <td>1</td>\n",
       "    </tr>\n",
       "    <tr>\n",
       "      <th>334</th>\n",
       "      <td>Units.</td>\n",
       "      <td>Bullet</td>\n",
       "      <td>[units]</td>\n",
       "      <td>[unit]</td>\n",
       "      <td>6</td>\n",
       "      <td>[(Units, NNS), (., .)]</td>\n",
       "      <td>0.0</td>\n",
       "      <td>0.0</td>\n",
       "      <td>16.7</td>\n",
       "      <td>1</td>\n",
       "    </tr>\n",
       "    <tr>\n",
       "      <th>392</th>\n",
       "      <td>Data Studio and Looker</td>\n",
       "      <td>Bullet</td>\n",
       "      <td>[data, studio, looker]</td>\n",
       "      <td>[data, studio, looker]</td>\n",
       "      <td>19</td>\n",
       "      <td>[(Data, NNP), (Studio, NNP), (and, CC), (Looke...</td>\n",
       "      <td>0.0</td>\n",
       "      <td>5.3</td>\n",
       "      <td>0.0</td>\n",
       "      <td>1</td>\n",
       "    </tr>\n",
       "    <tr>\n",
       "      <th>399</th>\n",
       "      <td>retrieval</td>\n",
       "      <td>Bullet</td>\n",
       "      <td>[retrieval]</td>\n",
       "      <td>[retriev]</td>\n",
       "      <td>9</td>\n",
       "      <td>[(retrieval, NN)]</td>\n",
       "      <td>0.0</td>\n",
       "      <td>0.0</td>\n",
       "      <td>0.0</td>\n",
       "      <td>1</td>\n",
       "    </tr>\n",
       "    <tr>\n",
       "      <th>402</th>\n",
       "      <td>platform.</td>\n",
       "      <td>Bullet</td>\n",
       "      <td>[platform]</td>\n",
       "      <td>[platform]</td>\n",
       "      <td>9</td>\n",
       "      <td>[(platform, NN), (., .)]</td>\n",
       "      <td>0.0</td>\n",
       "      <td>0.0</td>\n",
       "      <td>11.1</td>\n",
       "      <td>1</td>\n",
       "    </tr>\n",
       "    <tr>\n",
       "      <th>419</th>\n",
       "      <td>● Onboarding task</td>\n",
       "      <td>Bullet</td>\n",
       "      <td>[, onboarding, task]</td>\n",
       "      <td>[, onboard, task]</td>\n",
       "      <td>15</td>\n",
       "      <td>[(●, NN), (Onboarding, NNP), (task, NN)]</td>\n",
       "      <td>0.0</td>\n",
       "      <td>0.0</td>\n",
       "      <td>0.0</td>\n",
       "      <td>1</td>\n",
       "    </tr>\n",
       "    <tr>\n",
       "      <th>427</th>\n",
       "      <td>the world.</td>\n",
       "      <td>Bullet</td>\n",
       "      <td>[world]</td>\n",
       "      <td>[world]</td>\n",
       "      <td>9</td>\n",
       "      <td>[(the, DT), (world, NN), (., .)]</td>\n",
       "      <td>0.0</td>\n",
       "      <td>11.1</td>\n",
       "      <td>11.1</td>\n",
       "      <td>1</td>\n",
       "    </tr>\n",
       "    <tr>\n",
       "      <th>452</th>\n",
       "      <td>equipment.</td>\n",
       "      <td>Bullet</td>\n",
       "      <td>[equipment]</td>\n",
       "      <td>[equip]</td>\n",
       "      <td>10</td>\n",
       "      <td>[(equipment, NN), (., .)]</td>\n",
       "      <td>0.0</td>\n",
       "      <td>0.0</td>\n",
       "      <td>10.0</td>\n",
       "      <td>1</td>\n",
       "    </tr>\n",
       "    <tr>\n",
       "      <th>454</th>\n",
       "      <td>Forces units.</td>\n",
       "      <td>Bullet</td>\n",
       "      <td>[forces, units]</td>\n",
       "      <td>[forc, unit]</td>\n",
       "      <td>12</td>\n",
       "      <td>[(Forces, NNS), (units, NNS), (., .)]</td>\n",
       "      <td>0.0</td>\n",
       "      <td>0.0</td>\n",
       "      <td>8.3</td>\n",
       "      <td>1</td>\n",
       "    </tr>\n",
       "    <tr>\n",
       "      <th>479</th>\n",
       "      <td>• Created an Apex Class</td>\n",
       "      <td>Bullet</td>\n",
       "      <td>[, created, apex, class]</td>\n",
       "      <td>[, creat, apex, class]</td>\n",
       "      <td>19</td>\n",
       "      <td>[(•, RB), (Created, VBD), (an, DT), (Apex, NNP...</td>\n",
       "      <td>20.0</td>\n",
       "      <td>5.3</td>\n",
       "      <td>0.0</td>\n",
       "      <td>1</td>\n",
       "    </tr>\n",
       "    <tr>\n",
       "      <th>710</th>\n",
       "      <td>contractors.</td>\n",
       "      <td>Bullet</td>\n",
       "      <td>[contractors]</td>\n",
       "      <td>[contractor]</td>\n",
       "      <td>12</td>\n",
       "      <td>[(contractors, NNS), (., .)]</td>\n",
       "      <td>0.0</td>\n",
       "      <td>0.0</td>\n",
       "      <td>8.3</td>\n",
       "      <td>1</td>\n",
       "    </tr>\n",
       "    <tr>\n",
       "      <th>781</th>\n",
       "      <td>Workday platform</td>\n",
       "      <td>Bullet</td>\n",
       "      <td>[workday, platform]</td>\n",
       "      <td>[workday, platform]</td>\n",
       "      <td>15</td>\n",
       "      <td>[(Workday, JJ), (platform, NN)]</td>\n",
       "      <td>0.0</td>\n",
       "      <td>0.0</td>\n",
       "      <td>0.0</td>\n",
       "      <td>1</td>\n",
       "    </tr>\n",
       "    <tr>\n",
       "      <th>788</th>\n",
       "      <td>Accounting updates</td>\n",
       "      <td>Bullet</td>\n",
       "      <td>[accounting, updates]</td>\n",
       "      <td>[account, updat]</td>\n",
       "      <td>17</td>\n",
       "      <td>[(Accounting, NN), (updates, NNS)]</td>\n",
       "      <td>0.0</td>\n",
       "      <td>0.0</td>\n",
       "      <td>0.0</td>\n",
       "      <td>1</td>\n",
       "    </tr>\n",
       "    <tr>\n",
       "      <th>897</th>\n",
       "      <td>clean and accurate.</td>\n",
       "      <td>Bullet</td>\n",
       "      <td>[clean, accurate]</td>\n",
       "      <td>[clean, accur]</td>\n",
       "      <td>17</td>\n",
       "      <td>[(clean, JJ), (and, CC), (accurate, NN), (., .)]</td>\n",
       "      <td>0.0</td>\n",
       "      <td>5.9</td>\n",
       "      <td>5.9</td>\n",
       "      <td>1</td>\n",
       "    </tr>\n",
       "  </tbody>\n",
       "</table>\n",
       "</div>"
      ],
      "text/plain": [
       "                        line   label               line_nostop  \\\n",
       "256                temporary  Bullet               [temporary]   \n",
       "266            previous year  Bullet          [previous, year]   \n",
       "282                assistant  Bullet               [assistant]   \n",
       "334                   Units.  Bullet                   [units]   \n",
       "392   Data Studio and Looker  Bullet    [data, studio, looker]   \n",
       "399                retrieval  Bullet               [retrieval]   \n",
       "402                platform.  Bullet                [platform]   \n",
       "419        ● Onboarding task  Bullet      [, onboarding, task]   \n",
       "427               the world.  Bullet                   [world]   \n",
       "452               equipment.  Bullet               [equipment]   \n",
       "454            Forces units.  Bullet           [forces, units]   \n",
       "479  • Created an Apex Class  Bullet  [, created, apex, class]   \n",
       "710             contractors.  Bullet             [contractors]   \n",
       "781         Workday platform  Bullet       [workday, platform]   \n",
       "788       Accounting updates  Bullet     [accounting, updates]   \n",
       "897      clean and accurate.  Bullet         [clean, accurate]   \n",
       "\n",
       "               line_stemmed  line_length  \\\n",
       "256             [temporari]            9   \n",
       "266         [previou, year]           12   \n",
       "282                [assist]            9   \n",
       "334                  [unit]            6   \n",
       "392  [data, studio, looker]           19   \n",
       "399               [retriev]            9   \n",
       "402              [platform]            9   \n",
       "419       [, onboard, task]           15   \n",
       "427                 [world]            9   \n",
       "452                 [equip]           10   \n",
       "454            [forc, unit]           12   \n",
       "479  [, creat, apex, class]           19   \n",
       "710            [contractor]           12   \n",
       "781     [workday, platform]           15   \n",
       "788        [account, updat]           17   \n",
       "897          [clean, accur]           17   \n",
       "\n",
       "                                           tagged_line  verb_percentage  \\\n",
       "256                                  [(temporary, JJ)]              0.0   \n",
       "266                       [(previous, JJ), (year, NN)]              0.0   \n",
       "282                                  [(assistant, NN)]              0.0   \n",
       "334                             [(Units, NNS), (., .)]              0.0   \n",
       "392  [(Data, NNP), (Studio, NNP), (and, CC), (Looke...              0.0   \n",
       "399                                  [(retrieval, NN)]              0.0   \n",
       "402                           [(platform, NN), (., .)]              0.0   \n",
       "419           [(●, NN), (Onboarding, NNP), (task, NN)]              0.0   \n",
       "427                   [(the, DT), (world, NN), (., .)]              0.0   \n",
       "452                          [(equipment, NN), (., .)]              0.0   \n",
       "454              [(Forces, NNS), (units, NNS), (., .)]              0.0   \n",
       "479  [(•, RB), (Created, VBD), (an, DT), (Apex, NNP...             20.0   \n",
       "710                       [(contractors, NNS), (., .)]              0.0   \n",
       "781                    [(Workday, JJ), (platform, NN)]              0.0   \n",
       "788                 [(Accounting, NN), (updates, NNS)]              0.0   \n",
       "897   [(clean, JJ), (and, CC), (accurate, NN), (., .)]              0.0   \n",
       "\n",
       "     stopword_percentage  punctuation_percentage  is_bullet  \n",
       "256                  0.0                     0.0          1  \n",
       "266                  0.0                     0.0          1  \n",
       "282                  0.0                     0.0          1  \n",
       "334                  0.0                    16.7          1  \n",
       "392                  5.3                     0.0          1  \n",
       "399                  0.0                     0.0          1  \n",
       "402                  0.0                    11.1          1  \n",
       "419                  0.0                     0.0          1  \n",
       "427                 11.1                    11.1          1  \n",
       "452                  0.0                    10.0          1  \n",
       "454                  0.0                     8.3          1  \n",
       "479                  5.3                     0.0          1  \n",
       "710                  0.0                     8.3          1  \n",
       "781                  0.0                     0.0          1  \n",
       "788                  0.0                     0.0          1  \n",
       "897                  5.9                     5.9          1  "
      ]
     },
     "execution_count": 6,
     "metadata": {},
     "output_type": "execute_result"
    }
   ],
   "source": [
    "# Print all \"is_bullet\" with line_length < 20\n",
    "\n",
    "\n",
    "short_bullets = data[(data['is_bullet'] == 1) & (data['line_length'] < 20)]\n",
    "short_bullets"
   ]
  },
  {
   "cell_type": "code",
   "execution_count": 7,
   "metadata": {},
   "outputs": [
    {
     "data": {
      "text/html": [
       "<div>\n",
       "<style scoped>\n",
       "    .dataframe tbody tr th:only-of-type {\n",
       "        vertical-align: middle;\n",
       "    }\n",
       "\n",
       "    .dataframe tbody tr th {\n",
       "        vertical-align: top;\n",
       "    }\n",
       "\n",
       "    .dataframe thead th {\n",
       "        text-align: right;\n",
       "    }\n",
       "</style>\n",
       "<table border=\"1\" class=\"dataframe\">\n",
       "  <thead>\n",
       "    <tr style=\"text-align: right;\">\n",
       "      <th></th>\n",
       "      <th>line_length</th>\n",
       "      <th>verb_percentage</th>\n",
       "      <th>stopword_percentage</th>\n",
       "      <th>punctuation_percentage</th>\n",
       "      <th>is_bullet</th>\n",
       "    </tr>\n",
       "  </thead>\n",
       "  <tbody>\n",
       "    <tr>\n",
       "      <th>0</th>\n",
       "      <td>13</td>\n",
       "      <td>0.0</td>\n",
       "      <td>0.0</td>\n",
       "      <td>0.0</td>\n",
       "      <td>0</td>\n",
       "    </tr>\n",
       "    <tr>\n",
       "      <th>1</th>\n",
       "      <td>57</td>\n",
       "      <td>0.0</td>\n",
       "      <td>0.0</td>\n",
       "      <td>10.5</td>\n",
       "      <td>0</td>\n",
       "    </tr>\n",
       "    <tr>\n",
       "      <th>2</th>\n",
       "      <td>698</td>\n",
       "      <td>4.1</td>\n",
       "      <td>4.9</td>\n",
       "      <td>2.7</td>\n",
       "      <td>0</td>\n",
       "    </tr>\n",
       "    <tr>\n",
       "      <th>3</th>\n",
       "      <td>22</td>\n",
       "      <td>0.0</td>\n",
       "      <td>0.0</td>\n",
       "      <td>0.0</td>\n",
       "      <td>0</td>\n",
       "    </tr>\n",
       "    <tr>\n",
       "      <th>4</th>\n",
       "      <td>67</td>\n",
       "      <td>10.0</td>\n",
       "      <td>1.5</td>\n",
       "      <td>3.0</td>\n",
       "      <td>0</td>\n",
       "    </tr>\n",
       "    <tr>\n",
       "      <th>...</th>\n",
       "      <td>...</td>\n",
       "      <td>...</td>\n",
       "      <td>...</td>\n",
       "      <td>...</td>\n",
       "      <td>...</td>\n",
       "    </tr>\n",
       "    <tr>\n",
       "      <th>1001</th>\n",
       "      <td>22</td>\n",
       "      <td>0.0</td>\n",
       "      <td>0.0</td>\n",
       "      <td>4.5</td>\n",
       "      <td>0</td>\n",
       "    </tr>\n",
       "    <tr>\n",
       "      <th>1002</th>\n",
       "      <td>62</td>\n",
       "      <td>7.1</td>\n",
       "      <td>4.8</td>\n",
       "      <td>4.8</td>\n",
       "      <td>1</td>\n",
       "    </tr>\n",
       "    <tr>\n",
       "      <th>1003</th>\n",
       "      <td>9</td>\n",
       "      <td>0.0</td>\n",
       "      <td>0.0</td>\n",
       "      <td>0.0</td>\n",
       "      <td>0</td>\n",
       "    </tr>\n",
       "    <tr>\n",
       "      <th>1004</th>\n",
       "      <td>73</td>\n",
       "      <td>0.0</td>\n",
       "      <td>1.4</td>\n",
       "      <td>5.5</td>\n",
       "      <td>0</td>\n",
       "    </tr>\n",
       "    <tr>\n",
       "      <th>1005</th>\n",
       "      <td>72</td>\n",
       "      <td>0.0</td>\n",
       "      <td>0.0</td>\n",
       "      <td>8.3</td>\n",
       "      <td>0</td>\n",
       "    </tr>\n",
       "  </tbody>\n",
       "</table>\n",
       "<p>1006 rows × 5 columns</p>\n",
       "</div>"
      ],
      "text/plain": [
       "      line_length  verb_percentage  stopword_percentage  \\\n",
       "0              13              0.0                  0.0   \n",
       "1              57              0.0                  0.0   \n",
       "2             698              4.1                  4.9   \n",
       "3              22              0.0                  0.0   \n",
       "4              67             10.0                  1.5   \n",
       "...           ...              ...                  ...   \n",
       "1001           22              0.0                  0.0   \n",
       "1002           62              7.1                  4.8   \n",
       "1003            9              0.0                  0.0   \n",
       "1004           73              0.0                  1.4   \n",
       "1005           72              0.0                  0.0   \n",
       "\n",
       "      punctuation_percentage  is_bullet  \n",
       "0                        0.0          0  \n",
       "1                       10.5          0  \n",
       "2                        2.7          0  \n",
       "3                        0.0          0  \n",
       "4                        3.0          0  \n",
       "...                      ...        ...  \n",
       "1001                     4.5          0  \n",
       "1002                     4.8          1  \n",
       "1003                     0.0          0  \n",
       "1004                     5.5          0  \n",
       "1005                     8.3          0  \n",
       "\n",
       "[1006 rows x 5 columns]"
      ]
     },
     "execution_count": 7,
     "metadata": {},
     "output_type": "execute_result"
    }
   ],
   "source": [
    "# Get numeric features only by dropping categorical features.\n",
    "\n",
    "\n",
    "cat_feat = ['line', 'label','line_nostop','line_stemmed','tagged_line']\n",
    "numeric_only = data.drop(cat_feat, axis=1)\n",
    "numeric_only"
   ]
  },
  {
   "cell_type": "code",
   "execution_count": 8,
   "metadata": {
    "scrolled": true
   },
   "outputs": [
    {
     "data": {
      "text/html": [
       "<div>\n",
       "<style scoped>\n",
       "    .dataframe tbody tr th:only-of-type {\n",
       "        vertical-align: middle;\n",
       "    }\n",
       "\n",
       "    .dataframe tbody tr th {\n",
       "        vertical-align: top;\n",
       "    }\n",
       "\n",
       "    .dataframe thead th {\n",
       "        text-align: right;\n",
       "    }\n",
       "</style>\n",
       "<table border=\"1\" class=\"dataframe\">\n",
       "  <thead>\n",
       "    <tr style=\"text-align: right;\">\n",
       "      <th></th>\n",
       "      <th>line_length</th>\n",
       "      <th>verb_percentage</th>\n",
       "      <th>stopword_percentage</th>\n",
       "      <th>punctuation_percentage</th>\n",
       "      <th>is_bullet</th>\n",
       "    </tr>\n",
       "  </thead>\n",
       "  <tbody>\n",
       "    <tr>\n",
       "      <th>count</th>\n",
       "      <td>1006.000000</td>\n",
       "      <td>1006.000000</td>\n",
       "      <td>1006.000000</td>\n",
       "      <td>1006.000000</td>\n",
       "      <td>1006.00000</td>\n",
       "    </tr>\n",
       "    <tr>\n",
       "      <th>mean</th>\n",
       "      <td>67.814115</td>\n",
       "      <td>4.668787</td>\n",
       "      <td>2.017097</td>\n",
       "      <td>3.751690</td>\n",
       "      <td>0.37674</td>\n",
       "    </tr>\n",
       "    <tr>\n",
       "      <th>std</th>\n",
       "      <td>107.621847</td>\n",
       "      <td>9.020396</td>\n",
       "      <td>2.548894</td>\n",
       "      <td>8.561202</td>\n",
       "      <td>0.48481</td>\n",
       "    </tr>\n",
       "    <tr>\n",
       "      <th>min</th>\n",
       "      <td>3.000000</td>\n",
       "      <td>0.000000</td>\n",
       "      <td>0.000000</td>\n",
       "      <td>0.000000</td>\n",
       "      <td>0.00000</td>\n",
       "    </tr>\n",
       "    <tr>\n",
       "      <th>25%</th>\n",
       "      <td>19.000000</td>\n",
       "      <td>0.000000</td>\n",
       "      <td>0.000000</td>\n",
       "      <td>0.000000</td>\n",
       "      <td>0.00000</td>\n",
       "    </tr>\n",
       "    <tr>\n",
       "      <th>50%</th>\n",
       "      <td>40.000000</td>\n",
       "      <td>0.000000</td>\n",
       "      <td>0.000000</td>\n",
       "      <td>2.100000</td>\n",
       "      <td>0.00000</td>\n",
       "    </tr>\n",
       "    <tr>\n",
       "      <th>75%</th>\n",
       "      <td>80.000000</td>\n",
       "      <td>7.400000</td>\n",
       "      <td>3.800000</td>\n",
       "      <td>4.600000</td>\n",
       "      <td>1.00000</td>\n",
       "    </tr>\n",
       "    <tr>\n",
       "      <th>max</th>\n",
       "      <td>1682.000000</td>\n",
       "      <td>100.000000</td>\n",
       "      <td>20.000000</td>\n",
       "      <td>100.000000</td>\n",
       "      <td>1.00000</td>\n",
       "    </tr>\n",
       "  </tbody>\n",
       "</table>\n",
       "</div>"
      ],
      "text/plain": [
       "       line_length  verb_percentage  stopword_percentage  \\\n",
       "count  1006.000000      1006.000000          1006.000000   \n",
       "mean     67.814115         4.668787             2.017097   \n",
       "std     107.621847         9.020396             2.548894   \n",
       "min       3.000000         0.000000             0.000000   \n",
       "25%      19.000000         0.000000             0.000000   \n",
       "50%      40.000000         0.000000             0.000000   \n",
       "75%      80.000000         7.400000             3.800000   \n",
       "max    1682.000000       100.000000            20.000000   \n",
       "\n",
       "       punctuation_percentage   is_bullet  \n",
       "count             1006.000000  1006.00000  \n",
       "mean                 3.751690     0.37674  \n",
       "std                  8.561202     0.48481  \n",
       "min                  0.000000     0.00000  \n",
       "25%                  0.000000     0.00000  \n",
       "50%                  2.100000     0.00000  \n",
       "75%                  4.600000     1.00000  \n",
       "max                100.000000     1.00000  "
      ]
     },
     "execution_count": 8,
     "metadata": {},
     "output_type": "execute_result"
    }
   ],
   "source": [
    "# Look at general distrobution of these features\n",
    "numeric_only.describe()"
   ]
  },
  {
   "cell_type": "code",
   "execution_count": 9,
   "metadata": {
    "scrolled": true
   },
   "outputs": [
    {
     "data": {
      "text/html": [
       "<div>\n",
       "<style scoped>\n",
       "    .dataframe tbody tr th:only-of-type {\n",
       "        vertical-align: middle;\n",
       "    }\n",
       "\n",
       "    .dataframe tbody tr th {\n",
       "        vertical-align: top;\n",
       "    }\n",
       "\n",
       "    .dataframe thead th {\n",
       "        text-align: right;\n",
       "    }\n",
       "</style>\n",
       "<table border=\"1\" class=\"dataframe\">\n",
       "  <thead>\n",
       "    <tr style=\"text-align: right;\">\n",
       "      <th></th>\n",
       "      <th>line_length</th>\n",
       "      <th>verb_percentage</th>\n",
       "      <th>stopword_percentage</th>\n",
       "      <th>punctuation_percentage</th>\n",
       "      <th>is_bullet</th>\n",
       "    </tr>\n",
       "  </thead>\n",
       "  <tbody>\n",
       "    <tr>\n",
       "      <th>line_length</th>\n",
       "      <td>1.000000</td>\n",
       "      <td>0.176698</td>\n",
       "      <td>0.282802</td>\n",
       "      <td>0.017763</td>\n",
       "      <td>0.354091</td>\n",
       "    </tr>\n",
       "    <tr>\n",
       "      <th>verb_percentage</th>\n",
       "      <td>0.176698</td>\n",
       "      <td>1.000000</td>\n",
       "      <td>0.319386</td>\n",
       "      <td>-0.119124</td>\n",
       "      <td>0.320322</td>\n",
       "    </tr>\n",
       "    <tr>\n",
       "      <th>stopword_percentage</th>\n",
       "      <td>0.282802</td>\n",
       "      <td>0.319386</td>\n",
       "      <td>1.000000</td>\n",
       "      <td>-0.148704</td>\n",
       "      <td>0.568658</td>\n",
       "    </tr>\n",
       "    <tr>\n",
       "      <th>punctuation_percentage</th>\n",
       "      <td>0.017763</td>\n",
       "      <td>-0.119124</td>\n",
       "      <td>-0.148704</td>\n",
       "      <td>1.000000</td>\n",
       "      <td>-0.105720</td>\n",
       "    </tr>\n",
       "    <tr>\n",
       "      <th>is_bullet</th>\n",
       "      <td>0.354091</td>\n",
       "      <td>0.320322</td>\n",
       "      <td>0.568658</td>\n",
       "      <td>-0.105720</td>\n",
       "      <td>1.000000</td>\n",
       "    </tr>\n",
       "  </tbody>\n",
       "</table>\n",
       "</div>"
      ],
      "text/plain": [
       "                        line_length  verb_percentage  stopword_percentage  \\\n",
       "line_length                1.000000         0.176698             0.282802   \n",
       "verb_percentage            0.176698         1.000000             0.319386   \n",
       "stopword_percentage        0.282802         0.319386             1.000000   \n",
       "punctuation_percentage     0.017763        -0.119124            -0.148704   \n",
       "is_bullet                  0.354091         0.320322             0.568658   \n",
       "\n",
       "                        punctuation_percentage  is_bullet  \n",
       "line_length                           0.017763   0.354091  \n",
       "verb_percentage                      -0.119124   0.320322  \n",
       "stopword_percentage                  -0.148704   0.568658  \n",
       "punctuation_percentage                1.000000  -0.105720  \n",
       "is_bullet                            -0.105720   1.000000  "
      ]
     },
     "execution_count": 9,
     "metadata": {},
     "output_type": "execute_result"
    }
   ],
   "source": [
    "# Look at the correlation matrix. The best features have a strong correlation\n",
    "# with the target variable only. If there is a strong correlation between other\n",
    "# features, it can confuse the model. This must still be tested, but looking\n",
    "# at a simple correlation matrix is helpful.\n",
    "\n",
    "numeric_only.corr()"
   ]
  },
  {
   "cell_type": "code",
   "execution_count": 10,
   "metadata": {},
   "outputs": [],
   "source": [
    "# Group by the two levels of the 'is_bullet' column\n",
    "# Look at the distribution of each feature for bullets and non-bullets\n",
    "# Run a t-test on the two distributions to see if the difference\n",
    "#    is statistacally significant\n",
    "\n",
    "def describe_cont_feature(feature):\n",
    "    print('\\n*** Results for {}'.format(feature))\n",
    "    print(data.groupby('is_bullet')[feature].describe())\n",
    "    print(ttest(feature))\n",
    "    \n",
    "def ttest(feature):\n",
    "    bullet = data[data['is_bullet']==1][feature]\n",
    "    not_bullet = data[data['is_bullet']==0][feature]\n",
    "    tstat, pval = stats.ttest_ind(bullet, not_bullet, equal_var=False)\n",
    "    print('t-statistic: {:.1f}, p-value: {:.3}'.format(tstat,pval))"
   ]
  },
  {
   "cell_type": "code",
   "execution_count": 11,
   "metadata": {},
   "outputs": [
    {
     "name": "stdout",
     "output_type": "stream",
     "text": [
      "\n",
      "*** Results for line_length\n",
      "           count        mean         std  min   25%   50%    75%     max\n",
      "is_bullet                                                               \n",
      "0          627.0   38.200957   52.379371  3.0  14.0  24.0   43.0   698.0\n",
      "1          379.0  116.804749  149.632792  6.0  55.0  82.0  109.0  1682.0\n",
      "t-statistic: 9.9, p-value: 7.38e-21\n",
      "None\n",
      "\n",
      "*** Results for verb_percentage\n",
      "           count      mean       std  min  25%  50%   75%    max\n",
      "is_bullet                                                       \n",
      "0          627.0  2.423445  9.065079  0.0  0.0  0.0   0.0  100.0\n",
      "1          379.0  8.383377  7.618872  0.0  0.0  7.7  13.0   50.0\n",
      "t-statistic: 11.2, p-value: 2.89e-27\n",
      "None\n",
      "\n",
      "*** Results for stopword_percentage\n",
      "           count      mean       std  min  25%  50%  75%   max\n",
      "is_bullet                                                     \n",
      "0          627.0  0.890750  2.100276  0.0  0.0  0.0  0.0  20.0\n",
      "1          379.0  3.880475  2.093424  0.0  2.7  3.9  5.1  12.2\n",
      "t-statistic: 21.9, p-value: 8.87e-84\n",
      "None\n",
      "\n",
      "*** Results for punctuation_percentage\n",
      "           count      mean        std  min  25%  50%  75%    max\n",
      "is_bullet                                                       \n",
      "0          627.0  4.455024  10.651079  0.0  0.0  1.3  5.3  100.0\n",
      "1          379.0  2.588127   2.194568  0.0  1.1  2.3  3.6   16.7\n",
      "t-statistic: -4.2, p-value: 2.5e-05\n",
      "None\n",
      "\n",
      "*** Results for is_bullet\n",
      "           count  mean  std  min  25%  50%  75%  max\n",
      "is_bullet                                           \n",
      "0          627.0   0.0  0.0  0.0  0.0  0.0  0.0  0.0\n",
      "1          379.0   1.0  0.0  1.0  1.0  1.0  1.0  1.0\n",
      "t-statistic: inf, p-value: 0.0\n",
      "None\n"
     ]
    }
   ],
   "source": [
    "# Look at the distribution of each feature at each level of the target variable\n",
    "features = list(numeric_only.columns.values)\n",
    "\n",
    "for feature in features:\n",
    "    describe_cont_feature(feature)"
   ]
  },
  {
   "cell_type": "code",
   "execution_count": 12,
   "metadata": {},
   "outputs": [],
   "source": [
    "# Detect outliers\n",
    "def detect_outlier(feature):\n",
    "    outliers = []\n",
    "    data = numeric_only[feature]\n",
    "    mean = np.mean(data)\n",
    "    std = np.std(data)\n",
    "    \n",
    "    for y in data:\n",
    "        z_score = (y - mean)/std\n",
    "        if np.abs(z_score) > 3:\n",
    "            outliers.append(y)\n",
    "    print('\\nOutlier caps and floors for {}:'.format(feature))\n",
    "    print('   --95p: {:.1f} / {} values exceed that.'.format(data.quantile(.95),\n",
    "                                                            len([i for i in data\n",
    "                                                                if i > data.quantile(.95)])))\n",
    "    print('   --99p: {:.1f} / {} values exceed that.'.format(data.quantile(.99),\n",
    "                                                     len([i for i in data\n",
    "                                                            if i > data.quantile(.99)])))\n",
    "    print('   --3sd: {:.1f} / {} values exceed that.'.format(mean + 3*(std), len(outliers)))"
   ]
  },
  {
   "cell_type": "code",
   "execution_count": 13,
   "metadata": {
    "scrolled": false
   },
   "outputs": [
    {
     "name": "stdout",
     "output_type": "stream",
     "text": [
      "\n",
      "Outlier caps and floors for line_length:\n",
      "   --95p: 215.0 / 51 values exceed that.\n",
      "   --99p: 497.2 / 11 values exceed that.\n",
      "   --3sd: 390.5 / 20 values exceed that.\n",
      "\n",
      "Outlier caps and floors for verb_percentage:\n",
      "   --95p: 20.0 / 41 values exceed that.\n",
      "   --99p: 33.3 / 10 values exceed that.\n",
      "   --3sd: 31.7 / 20 values exceed that.\n",
      "\n",
      "Outlier caps and floors for stopword_percentage:\n",
      "   --95p: 6.5 / 51 values exceed that.\n",
      "   --99p: 10.0 / 7 values exceed that.\n",
      "   --3sd: 9.7 / 13 values exceed that.\n",
      "\n",
      "Outlier caps and floors for punctuation_percentage:\n",
      "   --95p: 13.0 / 50 values exceed that.\n",
      "   --99p: 23.4 / 11 values exceed that.\n",
      "   --3sd: 29.4 / 7 values exceed that.\n",
      "\n",
      "Outlier caps and floors for is_bullet:\n",
      "   --95p: 1.0 / 0 values exceed that.\n",
      "   --99p: 1.0 / 0 values exceed that.\n",
      "   --3sd: 1.8 / 0 values exceed that.\n"
     ]
    }
   ],
   "source": [
    "# Find upperbound for features\n",
    "for feat in numeric_only.columns:\n",
    "    detect_outlier(feat)"
   ]
  },
  {
   "cell_type": "markdown",
   "metadata": {},
   "source": [
    "### Cap features\n",
    "Remove all records that are more than 3 $\\sigma$ from $\\mu$.\n"
   ]
  },
  {
   "cell_type": "code",
   "execution_count": 14,
   "metadata": {
    "scrolled": true
   },
   "outputs": [
    {
     "data": {
      "text/html": [
       "<div>\n",
       "<style scoped>\n",
       "    .dataframe tbody tr th:only-of-type {\n",
       "        vertical-align: middle;\n",
       "    }\n",
       "\n",
       "    .dataframe tbody tr th {\n",
       "        vertical-align: top;\n",
       "    }\n",
       "\n",
       "    .dataframe thead th {\n",
       "        text-align: right;\n",
       "    }\n",
       "</style>\n",
       "<table border=\"1\" class=\"dataframe\">\n",
       "  <thead>\n",
       "    <tr style=\"text-align: right;\">\n",
       "      <th></th>\n",
       "      <th>line_length</th>\n",
       "      <th>verb_percentage</th>\n",
       "      <th>stopword_percentage</th>\n",
       "      <th>punctuation_percentage</th>\n",
       "      <th>is_bullet</th>\n",
       "    </tr>\n",
       "  </thead>\n",
       "  <tbody>\n",
       "    <tr>\n",
       "      <th>count</th>\n",
       "      <td>1006.000000</td>\n",
       "      <td>1006.000000</td>\n",
       "      <td>1006.000000</td>\n",
       "      <td>1006.000000</td>\n",
       "      <td>1006.00000</td>\n",
       "    </tr>\n",
       "    <tr>\n",
       "      <th>mean</th>\n",
       "      <td>62.879722</td>\n",
       "      <td>4.668787</td>\n",
       "      <td>2.017097</td>\n",
       "      <td>3.751690</td>\n",
       "      <td>0.37674</td>\n",
       "    </tr>\n",
       "    <tr>\n",
       "      <th>std</th>\n",
       "      <td>72.374279</td>\n",
       "      <td>9.020396</td>\n",
       "      <td>2.548894</td>\n",
       "      <td>8.561202</td>\n",
       "      <td>0.48481</td>\n",
       "    </tr>\n",
       "    <tr>\n",
       "      <th>min</th>\n",
       "      <td>3.000000</td>\n",
       "      <td>0.000000</td>\n",
       "      <td>0.000000</td>\n",
       "      <td>0.000000</td>\n",
       "      <td>0.00000</td>\n",
       "    </tr>\n",
       "    <tr>\n",
       "      <th>25%</th>\n",
       "      <td>19.000000</td>\n",
       "      <td>0.000000</td>\n",
       "      <td>0.000000</td>\n",
       "      <td>0.000000</td>\n",
       "      <td>0.00000</td>\n",
       "    </tr>\n",
       "    <tr>\n",
       "      <th>50%</th>\n",
       "      <td>40.000000</td>\n",
       "      <td>0.000000</td>\n",
       "      <td>0.000000</td>\n",
       "      <td>2.100000</td>\n",
       "      <td>0.00000</td>\n",
       "    </tr>\n",
       "    <tr>\n",
       "      <th>75%</th>\n",
       "      <td>80.000000</td>\n",
       "      <td>7.400000</td>\n",
       "      <td>3.800000</td>\n",
       "      <td>4.600000</td>\n",
       "      <td>1.00000</td>\n",
       "    </tr>\n",
       "    <tr>\n",
       "      <th>max</th>\n",
       "      <td>390.000000</td>\n",
       "      <td>100.000000</td>\n",
       "      <td>20.000000</td>\n",
       "      <td>100.000000</td>\n",
       "      <td>1.00000</td>\n",
       "    </tr>\n",
       "  </tbody>\n",
       "</table>\n",
       "</div>"
      ],
      "text/plain": [
       "       line_length  verb_percentage  stopword_percentage  \\\n",
       "count  1006.000000      1006.000000          1006.000000   \n",
       "mean     62.879722         4.668787             2.017097   \n",
       "std      72.374279         9.020396             2.548894   \n",
       "min       3.000000         0.000000             0.000000   \n",
       "25%      19.000000         0.000000             0.000000   \n",
       "50%      40.000000         0.000000             0.000000   \n",
       "75%      80.000000         7.400000             3.800000   \n",
       "max     390.000000       100.000000            20.000000   \n",
       "\n",
       "       punctuation_percentage   is_bullet  \n",
       "count             1006.000000  1006.00000  \n",
       "mean                 3.751690     0.37674  \n",
       "std                  8.561202     0.48481  \n",
       "min                  0.000000     0.00000  \n",
       "25%                  0.000000     0.00000  \n",
       "50%                  2.100000     0.00000  \n",
       "75%                  4.600000     1.00000  \n",
       "max                100.000000     1.00000  "
      ]
     },
     "execution_count": 14,
     "metadata": {},
     "output_type": "execute_result"
    }
   ],
   "source": [
    "numeric_only['line_length'].clip(upper=390,inplace=True)\n",
    "numeric_only.describe()"
   ]
  },
  {
   "cell_type": "markdown",
   "metadata": {},
   "source": [
    "## 3. Test Features"
   ]
  },
  {
   "cell_type": "markdown",
   "metadata": {},
   "source": [
    "### Testing Line Length"
   ]
  },
  {
   "cell_type": "code",
   "execution_count": 15,
   "metadata": {
    "scrolled": false
   },
   "outputs": [
    {
     "data": {
      "image/png": "[encoded data removed]",
      "text/plain": [
       "<Figure size 432x288 with 1 Axes>"
      ]
     },
     "metadata": {
      "needs_background": "light"
     },
     "output_type": "display_data"
    }
   ],
   "source": [
    "bins = np.linspace(0, 200, 14)\n",
    "\n",
    "pyplot.hist(numeric_only[numeric_only['is_bullet']==1]['line_length'], bins, alpha=0.5, label='Bullet')\n",
    "pyplot.hist(numeric_only[numeric_only['is_bullet']==0]['line_length'], bins, alpha=0.5, label='Not Bullet')\n",
    "pyplot.legend(loc='upper left')\n",
    "pyplot.show()"
   ]
  },
  {
   "cell_type": "code",
   "execution_count": 16,
   "metadata": {},
   "outputs": [],
   "source": [
    "# calculate skew"
   ]
  },
  {
   "cell_type": "markdown",
   "metadata": {},
   "source": [
    "### Testing verb percentage "
   ]
  },
  {
   "cell_type": "code",
   "execution_count": 17,
   "metadata": {
    "scrolled": false
   },
   "outputs": [
    {
     "data": {
      "image/png": "[encoded data removed]",
      "text/plain": [
       "<Figure size 432x288 with 1 Axes>"
      ]
     },
     "metadata": {
      "needs_background": "light"
     },
     "output_type": "display_data"
    }
   ],
   "source": [
    "bins = np.linspace(0, 10, 9)\n",
    "\n",
    "pyplot.hist(numeric_only[numeric_only['is_bullet']==1]['verb_percentage'], bins, alpha=0.5, label='Bullet')\n",
    "pyplot.hist(numeric_only[numeric_only['is_bullet']==0]['verb_percentage'], bins, alpha=0.5, label='Not Bullet')\n",
    "pyplot.legend(loc='upper left')\n",
    "pyplot.show()"
   ]
  },
  {
   "cell_type": "markdown",
   "metadata": {},
   "source": [
    "### Testing stop word percentage "
   ]
  },
  {
   "cell_type": "code",
   "execution_count": 18,
   "metadata": {},
   "outputs": [
    {
     "data": {
      "image/png": "[encoded data removed]",
      "text/plain": [
       "<Figure size 432x288 with 1 Axes>"
      ]
     },
     "metadata": {
      "needs_background": "light"
     },
     "output_type": "display_data"
    }
   ],
   "source": [
    "bins = np.linspace(0, 10, 11)\n",
    "\n",
    "pyplot.hist(numeric_only[numeric_only['is_bullet']==1]['stopword_percentage'], bins, alpha=0.5, label='Bullet')\n",
    "pyplot.hist(numeric_only[numeric_only['is_bullet']==0]['stopword_percentage'], bins, alpha=0.5, label='Not Bullet')\n",
    "pyplot.legend(loc='upper left')\n",
    "pyplot.show()"
   ]
  },
  {
   "cell_type": "markdown",
   "metadata": {},
   "source": [
    "### Testing punctuation percentage "
   ]
  },
  {
   "cell_type": "code",
   "execution_count": 19,
   "metadata": {},
   "outputs": [
    {
     "data": {
      "image/png": "[encoded data removed]",
      "text/plain": [
       "<Figure size 432x288 with 1 Axes>"
      ]
     },
     "metadata": {
      "needs_background": "light"
     },
     "output_type": "display_data"
    }
   ],
   "source": [
    "bins = np.linspace(0, 10, 11)\n",
    "\n",
    "pyplot.hist(numeric_only[numeric_only['is_bullet']==1]['punctuation_percentage'], bins, alpha=0.5, label='Bullet')\n",
    "pyplot.hist(numeric_only[numeric_only['is_bullet']==0]['punctuation_percentage'], bins, alpha=0.5, label='Not Bullet')\n",
    "pyplot.legend(loc='upper left')\n",
    "pyplot.show()"
   ]
  },
  {
   "cell_type": "markdown",
   "metadata": {},
   "source": [
    "## Transforming Skewed Data"
   ]
  },
  {
   "cell_type": "markdown",
   "metadata": {},
   "source": [
    "####  Process\n",
    "1. Determine what range of exponents to test\n",
    "2. Apply each transformation to each value of your chosen feature\n",
    "3. Use some criteria to determine which of the transformations yeild the best distributions"
   ]
  },
  {
   "cell_type": "code",
   "execution_count": 34,
   "metadata": {
    "scrolled": false
   },
   "outputs": [
    {
     "data": {
      "image/png": "[encoded data removed]",
      "text/plain": [
       "<Figure size 432x288 with 1 Axes>"
      ]
     },
     "metadata": {
      "needs_background": "light"
     },
     "output_type": "display_data"
    },
    {
     "data": {
      "image/png": "[encoded data removed]",
      "text/plain": [
       "<Figure size 432x288 with 1 Axes>"
      ]
     },
     "metadata": {
      "needs_background": "light"
     },
     "output_type": "display_data"
    },
    {
     "data": {
      "image/png": "[encoded data removed]",
      "text/plain": [
       "<Figure size 432x288 with 1 Axes>"
      ]
     },
     "metadata": {
      "needs_background": "light"
     },
     "output_type": "display_data"
    },
    {
     "data": {
      "image/png": "[encoded data removed]",
      "text/plain": [
       "<Figure size 432x288 with 1 Axes>"
      ]
     },
     "metadata": {
      "needs_background": "light"
     },
     "output_type": "display_data"
    },
    {
     "data": {
      "image/png": "[encoded data removed]",
      "text/plain": [
       "<Figure size 432x288 with 1 Axes>"
      ]
     },
     "metadata": {
      "needs_background": "light"
     },
     "output_type": "display_data"
    },
    {
     "data": {
      "image/png": "[encoded data removed]",
      "text/plain": [
       "<Figure size 432x288 with 1 Axes>"
      ]
     },
     "metadata": {
      "needs_background": "light"
     },
     "output_type": "display_data"
    },
    {
     "data": {
      "image/png": "[encoded data removed]",
      "text/plain": [
       "<Figure size 432x288 with 1 Axes>"
      ]
     },
     "metadata": {
      "needs_background": "light"
     },
     "output_type": "display_data"
    },
    {
     "data": {
      "image/png": "[encoded data removed]",
      "text/plain": [
       "<Figure size 432x288 with 1 Axes>"
      ]
     },
     "metadata": {
      "needs_background": "light"
     },
     "output_type": "display_data"
    },
    {
     "data": {
      "image/png": "[encoded data removed]",
      "text/plain": [
       "<Figure size 432x288 with 1 Axes>"
      ]
     },
     "metadata": {
      "needs_background": "light"
     },
     "output_type": "display_data"
    },
    {
     "data": {
      "image/png": "[encoded data removed]",
      "text/plain": [
       "<Figure size 432x288 with 1 Axes>"
      ]
     },
     "metadata": {
      "needs_background": "light"
     },
     "output_type": "display_data"
    },
    {
     "data": {
      "image/png": "[encoded data removed]",
      "text/plain": [
       "<Figure size 432x288 with 1 Axes>"
      ]
     },
     "metadata": {
      "needs_background": "light"
     },
     "output_type": "display_data"
    }
   ],
   "source": [
    "# Generate QQ plots\n",
    "for i in [0.5, 1, 2, 3, 4, 5, 6, 7, 8, 9, 10]:\n",
    "    data_t = numeric_only['line_length']**(1/i)\n",
    "    qqplot(data_t, line='s')\n",
    "    pyplot.title('Transformation: 1/{}'.format(str(i)))\n",
    "    "
   ]
  },
  {
   "cell_type": "code",
   "execution_count": 36,
   "metadata": {
    "scrolled": false
   },
   "outputs": [
    {
     "data": {
      "image/png": "[encoded data removed]",
      "text/plain": [
       "<Figure size 432x288 with 1 Axes>"
      ]
     },
     "metadata": {
      "needs_background": "light"
     },
     "output_type": "display_data"
    },
    {
     "data": {
      "image/png": "[encoded data removed]",
      "text/plain": [
       "<Figure size 432x288 with 1 Axes>"
      ]
     },
     "metadata": {
      "needs_background": "light"
     },
     "output_type": "display_data"
    },
    {
     "data": {
      "image/png": "[encoded data removed]",
      "text/plain": [
       "<Figure size 432x288 with 1 Axes>"
      ]
     },
     "metadata": {
      "needs_background": "light"
     },
     "output_type": "display_data"
    },
    {
     "data": {
      "image/png": "[encoded data removed]",
      "text/plain": [
       "<Figure size 432x288 with 1 Axes>"
      ]
     },
     "metadata": {
      "needs_background": "light"
     },
     "output_type": "display_data"
    },
    {
     "data": {
      "image/png": "[encoded data removed]",
      "text/plain": [
       "<Figure size 432x288 with 1 Axes>"
      ]
     },
     "metadata": {
      "needs_background": "light"
     },
     "output_type": "display_data"
    },
    {
     "data": {
      "image/png": "[encoded data removed]",
      "text/plain": [
       "<Figure size 432x288 with 1 Axes>"
      ]
     },
     "metadata": {
      "needs_background": "light"
     },
     "output_type": "display_data"
    },
    {
     "data": {
      "image/png": "[encoded data removed]",
      "text/plain": [
       "<Figure size 432x288 with 1 Axes>"
      ]
     },
     "metadata": {
      "needs_background": "light"
     },
     "output_type": "display_data"
    }
   ],
   "source": [
    "for i in range(4,11):\n",
    "    data_t = numeric_only['line_length']**(1/i)\n",
    "    n, bins, pathches = pyplot.hist(data_t, 50, density=True)\n",
    "    mu = np.mean(data_t)\n",
    "    sigma = np.std(data_t)\n",
    "    pyplot.plot(bins, stats.norm.pdf(bins, mu, sigma))\n",
    "    pyplot.title('Transformation: 1/{}'.format(str(i)))\n",
    "    pyplot.show()"
   ]
  },
  {
   "cell_type": "code",
   "execution_count": 22,
   "metadata": {},
   "outputs": [
    {
     "data": {
      "text/html": [
       "<div>\n",
       "<style scoped>\n",
       "    .dataframe tbody tr th:only-of-type {\n",
       "        vertical-align: middle;\n",
       "    }\n",
       "\n",
       "    .dataframe tbody tr th {\n",
       "        vertical-align: top;\n",
       "    }\n",
       "\n",
       "    .dataframe thead th {\n",
       "        text-align: right;\n",
       "    }\n",
       "</style>\n",
       "<table border=\"1\" class=\"dataframe\">\n",
       "  <thead>\n",
       "    <tr style=\"text-align: right;\">\n",
       "      <th></th>\n",
       "      <th>line_length</th>\n",
       "      <th>verb_percentage</th>\n",
       "      <th>stopword_percentage</th>\n",
       "      <th>punctuation_percentage</th>\n",
       "      <th>is_bullet</th>\n",
       "      <th>line_length_trans</th>\n",
       "      <th>stopword_percentage_trans</th>\n",
       "      <th>punctuation_percentage_trans</th>\n",
       "    </tr>\n",
       "  </thead>\n",
       "  <tbody>\n",
       "    <tr>\n",
       "      <th>0</th>\n",
       "      <td>13</td>\n",
       "      <td>0.0</td>\n",
       "      <td>0.0</td>\n",
       "      <td>0.0</td>\n",
       "      <td>0</td>\n",
       "      <td>1.292392</td>\n",
       "      <td>0.000000</td>\n",
       "      <td>0.000000</td>\n",
       "    </tr>\n",
       "    <tr>\n",
       "      <th>1</th>\n",
       "      <td>57</td>\n",
       "      <td>0.0</td>\n",
       "      <td>0.0</td>\n",
       "      <td>10.5</td>\n",
       "      <td>0</td>\n",
       "      <td>1.498261</td>\n",
       "      <td>0.000000</td>\n",
       "      <td>3.240370</td>\n",
       "    </tr>\n",
       "    <tr>\n",
       "      <th>2</th>\n",
       "      <td>390</td>\n",
       "      <td>4.1</td>\n",
       "      <td>4.9</td>\n",
       "      <td>2.7</td>\n",
       "      <td>0</td>\n",
       "      <td>1.815961</td>\n",
       "      <td>2.213594</td>\n",
       "      <td>1.643168</td>\n",
       "    </tr>\n",
       "    <tr>\n",
       "      <th>3</th>\n",
       "      <td>22</td>\n",
       "      <td>0.0</td>\n",
       "      <td>0.0</td>\n",
       "      <td>0.0</td>\n",
       "      <td>0</td>\n",
       "      <td>1.362204</td>\n",
       "      <td>0.000000</td>\n",
       "      <td>0.000000</td>\n",
       "    </tr>\n",
       "    <tr>\n",
       "      <th>4</th>\n",
       "      <td>67</td>\n",
       "      <td>10.0</td>\n",
       "      <td>1.5</td>\n",
       "      <td>3.0</td>\n",
       "      <td>0</td>\n",
       "      <td>1.522676</td>\n",
       "      <td>1.224745</td>\n",
       "      <td>1.732051</td>\n",
       "    </tr>\n",
       "  </tbody>\n",
       "</table>\n",
       "</div>"
      ],
      "text/plain": [
       "   line_length  verb_percentage  stopword_percentage  punctuation_percentage  \\\n",
       "0           13              0.0                  0.0                     0.0   \n",
       "1           57              0.0                  0.0                    10.5   \n",
       "2          390              4.1                  4.9                     2.7   \n",
       "3           22              0.0                  0.0                     0.0   \n",
       "4           67             10.0                  1.5                     3.0   \n",
       "\n",
       "   is_bullet  line_length_trans  stopword_percentage_trans  \\\n",
       "0          0           1.292392                   0.000000   \n",
       "1          0           1.498261                   0.000000   \n",
       "2          0           1.815961                   2.213594   \n",
       "3          0           1.362204                   0.000000   \n",
       "4          0           1.522676                   1.224745   \n",
       "\n",
       "   punctuation_percentage_trans  \n",
       "0                      0.000000  \n",
       "1                      3.240370  \n",
       "2                      1.643168  \n",
       "3                      0.000000  \n",
       "4                      1.732051  "
      ]
     },
     "execution_count": 22,
     "metadata": {},
     "output_type": "execute_result"
    }
   ],
   "source": [
    "numeric_only['line_length_trans'] = numeric_only['line_length'].apply(lambda x : x**(1/10))\n",
    "\n",
    "numeric_only['stopword_percentage_trans'] = numeric_only['stopword_percentage'].apply(lambda x : x**(1/2))\n",
    "\n",
    "numeric_only['punctuation_percentage_trans'] = numeric_only['punctuation_percentage'].apply(lambda x : x**(1/2))\n",
    "\n",
    "\n",
    "numeric_only.head()"
   ]
  },
  {
   "cell_type": "markdown",
   "metadata": {},
   "source": [
    "## 4. Split into training, validation, and test sets"
   ]
  },
  {
   "cell_type": "code",
   "execution_count": 23,
   "metadata": {},
   "outputs": [
    {
     "data": {
      "text/html": [
       "<div>\n",
       "<style scoped>\n",
       "    .dataframe tbody tr th:only-of-type {\n",
       "        vertical-align: middle;\n",
       "    }\n",
       "\n",
       "    .dataframe tbody tr th {\n",
       "        vertical-align: top;\n",
       "    }\n",
       "\n",
       "    .dataframe thead th {\n",
       "        text-align: right;\n",
       "    }\n",
       "</style>\n",
       "<table border=\"1\" class=\"dataframe\">\n",
       "  <thead>\n",
       "    <tr style=\"text-align: right;\">\n",
       "      <th></th>\n",
       "      <th>line_length</th>\n",
       "      <th>verb_percentage</th>\n",
       "      <th>stopword_percentage</th>\n",
       "      <th>punctuation_percentage</th>\n",
       "      <th>line_length_trans</th>\n",
       "      <th>stopword_percentage_trans</th>\n",
       "      <th>punctuation_percentage_trans</th>\n",
       "    </tr>\n",
       "  </thead>\n",
       "  <tbody>\n",
       "    <tr>\n",
       "      <th>650</th>\n",
       "      <td>9</td>\n",
       "      <td>0.0</td>\n",
       "      <td>0.0</td>\n",
       "      <td>0.0</td>\n",
       "      <td>1.245731</td>\n",
       "      <td>0.000000</td>\n",
       "      <td>0.000000</td>\n",
       "    </tr>\n",
       "    <tr>\n",
       "      <th>448</th>\n",
       "      <td>71</td>\n",
       "      <td>6.2</td>\n",
       "      <td>5.6</td>\n",
       "      <td>1.4</td>\n",
       "      <td>1.531531</td>\n",
       "      <td>2.366432</td>\n",
       "      <td>1.183216</td>\n",
       "    </tr>\n",
       "    <tr>\n",
       "      <th>533</th>\n",
       "      <td>5</td>\n",
       "      <td>0.0</td>\n",
       "      <td>20.0</td>\n",
       "      <td>0.0</td>\n",
       "      <td>1.174619</td>\n",
       "      <td>4.472136</td>\n",
       "      <td>0.000000</td>\n",
       "    </tr>\n",
       "    <tr>\n",
       "      <th>622</th>\n",
       "      <td>36</td>\n",
       "      <td>0.0</td>\n",
       "      <td>0.0</td>\n",
       "      <td>0.0</td>\n",
       "      <td>1.430969</td>\n",
       "      <td>0.000000</td>\n",
       "      <td>0.000000</td>\n",
       "    </tr>\n",
       "    <tr>\n",
       "      <th>752</th>\n",
       "      <td>15</td>\n",
       "      <td>0.0</td>\n",
       "      <td>0.0</td>\n",
       "      <td>6.7</td>\n",
       "      <td>1.311019</td>\n",
       "      <td>0.000000</td>\n",
       "      <td>2.588436</td>\n",
       "    </tr>\n",
       "  </tbody>\n",
       "</table>\n",
       "</div>"
      ],
      "text/plain": [
       "     line_length  verb_percentage  stopword_percentage  \\\n",
       "650            9              0.0                  0.0   \n",
       "448           71              6.2                  5.6   \n",
       "533            5              0.0                 20.0   \n",
       "622           36              0.0                  0.0   \n",
       "752           15              0.0                  0.0   \n",
       "\n",
       "     punctuation_percentage  line_length_trans  stopword_percentage_trans  \\\n",
       "650                     0.0           1.245731                   0.000000   \n",
       "448                     1.4           1.531531                   2.366432   \n",
       "533                     0.0           1.174619                   4.472136   \n",
       "622                     0.0           1.430969                   0.000000   \n",
       "752                     6.7           1.311019                   0.000000   \n",
       "\n",
       "     punctuation_percentage_trans  \n",
       "650                      0.000000  \n",
       "448                      1.183216  \n",
       "533                      0.000000  \n",
       "622                      0.000000  \n",
       "752                      2.588436  "
      ]
     },
     "execution_count": 23,
     "metadata": {},
     "output_type": "execute_result"
    }
   ],
   "source": [
    "features = numeric_only.drop('is_bullet', axis=1)\n",
    "labels = numeric_only['is_bullet']\n",
    "\n",
    "\n",
    "X_train, X_test, y_train, y_test = train_test_split(features, labels, test_size=0.4, random_state=42)\n",
    "X_test, X_val, y_test, y_val = train_test_split(X_test, y_test, test_size=0.5, random_state=42)\n",
    "\n",
    "X_train.head()\n"
   ]
  },
  {
   "cell_type": "code",
   "execution_count": 24,
   "metadata": {},
   "outputs": [
    {
     "name": "stdout",
     "output_type": "stream",
     "text": [
      "Total records: 1006\n",
      "Training set:\t603\n",
      "Validation set:\t202\n",
      "Test set:\t201\n"
     ]
    }
   ],
   "source": [
    "print('Total records: {}\\nTraining set:\\t{}\\nValidation set:\\t{}\\nTest set:\\t{}'.format(len(labels), len(y_train), len(y_val), len(y_test)))"
   ]
  },
  {
   "cell_type": "markdown",
   "metadata": {},
   "source": [
    "### Write out all data "
   ]
  },
  {
   "cell_type": "code",
   "execution_count": 26,
   "metadata": {},
   "outputs": [],
   "source": [
    "X_train.to_csv('output/train_features.csv', index=False)\n",
    "X_val.to_csv('output/val_features.csv', index=False) \n",
    "X_test.to_csv('output/test_features.csv', index=False)\n",
    "\n",
    "y_train.to_csv('output/train_labels.csv', index=False)\n",
    "y_val.to_csv('output/val_labels.csv', index=False) \n",
    "y_test.to_csv('output/test_labels.csv', index=False)"
   ]
  },
  {
   "cell_type": "code",
   "execution_count": 30,
   "metadata": {},
   "outputs": [
    {
     "data": {
      "text/html": [
       "<div>\n",
       "<style scoped>\n",
       "    .dataframe tbody tr th:only-of-type {\n",
       "        vertical-align: middle;\n",
       "    }\n",
       "\n",
       "    .dataframe tbody tr th {\n",
       "        vertical-align: top;\n",
       "    }\n",
       "\n",
       "    .dataframe thead th {\n",
       "        text-align: right;\n",
       "    }\n",
       "</style>\n",
       "<table border=\"1\" class=\"dataframe\">\n",
       "  <thead>\n",
       "    <tr style=\"text-align: right;\">\n",
       "      <th></th>\n",
       "      <th>line_length</th>\n",
       "      <th>verb_percentage</th>\n",
       "      <th>stopword_percentage</th>\n",
       "      <th>punctuation_percentage</th>\n",
       "      <th>line_length_trans</th>\n",
       "      <th>stopword_percentage_trans</th>\n",
       "      <th>punctuation_percentage_trans</th>\n",
       "    </tr>\n",
       "  </thead>\n",
       "  <tbody>\n",
       "    <tr>\n",
       "      <th>0</th>\n",
       "      <td>29</td>\n",
       "      <td>0.0</td>\n",
       "      <td>3.4</td>\n",
       "      <td>0.0</td>\n",
       "      <td>1.400360</td>\n",
       "      <td>1.843909</td>\n",
       "      <td>0.000000</td>\n",
       "    </tr>\n",
       "    <tr>\n",
       "      <th>1</th>\n",
       "      <td>19</td>\n",
       "      <td>20.0</td>\n",
       "      <td>5.3</td>\n",
       "      <td>0.0</td>\n",
       "      <td>1.342380</td>\n",
       "      <td>2.302173</td>\n",
       "      <td>0.000000</td>\n",
       "    </tr>\n",
       "    <tr>\n",
       "      <th>2</th>\n",
       "      <td>33</td>\n",
       "      <td>0.0</td>\n",
       "      <td>0.0</td>\n",
       "      <td>0.0</td>\n",
       "      <td>1.418572</td>\n",
       "      <td>0.000000</td>\n",
       "      <td>0.000000</td>\n",
       "    </tr>\n",
       "    <tr>\n",
       "      <th>3</th>\n",
       "      <td>51</td>\n",
       "      <td>20.0</td>\n",
       "      <td>5.9</td>\n",
       "      <td>2.0</td>\n",
       "      <td>1.481689</td>\n",
       "      <td>2.428992</td>\n",
       "      <td>1.414214</td>\n",
       "    </tr>\n",
       "    <tr>\n",
       "      <th>4</th>\n",
       "      <td>10</td>\n",
       "      <td>0.0</td>\n",
       "      <td>0.0</td>\n",
       "      <td>0.0</td>\n",
       "      <td>1.258925</td>\n",
       "      <td>0.000000</td>\n",
       "      <td>0.000000</td>\n",
       "    </tr>\n",
       "  </tbody>\n",
       "</table>\n",
       "</div>"
      ],
      "text/plain": [
       "   line_length  verb_percentage  stopword_percentage  punctuation_percentage  \\\n",
       "0           29              0.0                  3.4                     0.0   \n",
       "1           19             20.0                  5.3                     0.0   \n",
       "2           33              0.0                  0.0                     0.0   \n",
       "3           51             20.0                  5.9                     2.0   \n",
       "4           10              0.0                  0.0                     0.0   \n",
       "\n",
       "   line_length_trans  stopword_percentage_trans  punctuation_percentage_trans  \n",
       "0           1.400360                   1.843909                      0.000000  \n",
       "1           1.342380                   2.302173                      0.000000  \n",
       "2           1.418572                   0.000000                      0.000000  \n",
       "3           1.481689                   2.428992                      1.414214  \n",
       "4           1.258925                   0.000000                      0.000000  "
      ]
     },
     "execution_count": 30,
     "metadata": {},
     "output_type": "execute_result"
    }
   ],
   "source": [
    "# read in the data\n",
    "bullet_train = pd.read_csv('output/train_features.csv')\n",
    "bullet_val = pd.read_csv('output/val_features.csv')\n",
    "bullet_test = pd.read_csv('output/test_features.csv')\n",
    "\n",
    "bullet_test.head()"
   ]
  },
  {
   "cell_type": "code",
   "execution_count": 31,
   "metadata": {},
   "outputs": [
    {
     "data": {
      "text/html": [
       "<style>#sk-container-id-3 {color: black;background-color: white;}#sk-container-id-3 pre{padding: 0;}#sk-container-id-3 div.sk-toggleable {background-color: white;}#sk-container-id-3 label.sk-toggleable__label {cursor: pointer;display: block;width: 100%;margin-bottom: 0;padding: 0.3em;box-sizing: border-box;text-align: center;}#sk-container-id-3 label.sk-toggleable__label-arrow:before {content: \"▸\";float: left;margin-right: 0.25em;color: #696969;}#sk-container-id-3 label.sk-toggleable__label-arrow:hover:before {color: black;}#sk-container-id-3 div.sk-estimator:hover label.sk-toggleable__label-arrow:before {color: black;}#sk-container-id-3 div.sk-toggleable__content {max-height: 0;max-width: 0;overflow: hidden;text-align: left;background-color: #f0f8ff;}#sk-container-id-3 div.sk-toggleable__content pre {margin: 0.2em;color: black;border-radius: 0.25em;background-color: #f0f8ff;}#sk-container-id-3 input.sk-toggleable__control:checked~div.sk-toggleable__content {max-height: 200px;max-width: 100%;overflow: auto;}#sk-container-id-3 input.sk-toggleable__control:checked~label.sk-toggleable__label-arrow:before {content: \"▾\";}#sk-container-id-3 div.sk-estimator input.sk-toggleable__control:checked~label.sk-toggleable__label {background-color: #d4ebff;}#sk-container-id-3 div.sk-label input.sk-toggleable__control:checked~label.sk-toggleable__label {background-color: #d4ebff;}#sk-container-id-3 input.sk-hidden--visually {border: 0;clip: rect(1px 1px 1px 1px);clip: rect(1px, 1px, 1px, 1px);height: 1px;margin: -1px;overflow: hidden;padding: 0;position: absolute;width: 1px;}#sk-container-id-3 div.sk-estimator {font-family: monospace;background-color: #f0f8ff;border: 1px dotted black;border-radius: 0.25em;box-sizing: border-box;margin-bottom: 0.5em;}#sk-container-id-3 div.sk-estimator:hover {background-color: #d4ebff;}#sk-container-id-3 div.sk-parallel-item::after {content: \"\";width: 100%;border-bottom: 1px solid gray;flex-grow: 1;}#sk-container-id-3 div.sk-label:hover label.sk-toggleable__label {background-color: #d4ebff;}#sk-container-id-3 div.sk-serial::before {content: \"\";position: absolute;border-left: 1px solid gray;box-sizing: border-box;top: 0;bottom: 0;left: 50%;z-index: 0;}#sk-container-id-3 div.sk-serial {display: flex;flex-direction: column;align-items: center;background-color: white;padding-right: 0.2em;padding-left: 0.2em;position: relative;}#sk-container-id-3 div.sk-item {position: relative;z-index: 1;}#sk-container-id-3 div.sk-parallel {display: flex;align-items: stretch;justify-content: center;background-color: white;position: relative;}#sk-container-id-3 div.sk-item::before, #sk-container-id-3 div.sk-parallel-item::before {content: \"\";position: absolute;border-left: 1px solid gray;box-sizing: border-box;top: 0;bottom: 0;left: 50%;z-index: -1;}#sk-container-id-3 div.sk-parallel-item {display: flex;flex-direction: column;z-index: 1;position: relative;background-color: white;}#sk-container-id-3 div.sk-parallel-item:first-child::after {align-self: flex-end;width: 50%;}#sk-container-id-3 div.sk-parallel-item:last-child::after {align-self: flex-start;width: 50%;}#sk-container-id-3 div.sk-parallel-item:only-child::after {width: 0;}#sk-container-id-3 div.sk-dashed-wrapped {border: 1px dashed gray;margin: 0 0.4em 0.5em 0.4em;box-sizing: border-box;padding-bottom: 0.4em;background-color: white;}#sk-container-id-3 div.sk-label label {font-family: monospace;font-weight: bold;display: inline-block;line-height: 1.2em;}#sk-container-id-3 div.sk-label-container {text-align: center;}#sk-container-id-3 div.sk-container {/* jupyter's `normalize.less` sets `[hidden] { display: none; }` but bootstrap.min.css set `[hidden] { display: none !important; }` so we also need the `!important` here to be able to override the default hidden behavior on the sphinx rendered scikit-learn.org. See: https://github.com/scikit-learn/scikit-learn/issues/21755 */display: inline-block !important;position: relative;}#sk-container-id-3 div.sk-text-repr-fallback {display: none;}</style><div id=\"sk-container-id-3\" class=\"sk-top-container\"><div class=\"sk-text-repr-fallback\"><pre>StandardScaler()</pre><b>In a Jupyter environment, please rerun this cell to show the HTML representation or trust the notebook. <br />On GitHub, the HTML representation is unable to render, please try loading this page with nbviewer.org.</b></div><div class=\"sk-container\" hidden><div class=\"sk-item\"><div class=\"sk-estimator sk-toggleable\"><input class=\"sk-toggleable__control sk-hidden--visually\" id=\"sk-estimator-id-3\" type=\"checkbox\" checked><label for=\"sk-estimator-id-3\" class=\"sk-toggleable__label sk-toggleable__label-arrow\">StandardScaler</label><div class=\"sk-toggleable__content\"><pre>StandardScaler()</pre></div></div></div></div></div>"
      ],
      "text/plain": [
       "StandardScaler()"
      ]
     },
     "execution_count": 31,
     "metadata": {},
     "output_type": "execute_result"
    }
   ],
   "source": [
    "scaler = StandardScaler()\n",
    "scaler.fit(bullet_train)"
   ]
  },
  {
   "cell_type": "code",
   "execution_count": 33,
   "metadata": {},
   "outputs": [
    {
     "data": {
      "text/html": [
       "<div>\n",
       "<style scoped>\n",
       "    .dataframe tbody tr th:only-of-type {\n",
       "        vertical-align: middle;\n",
       "    }\n",
       "\n",
       "    .dataframe tbody tr th {\n",
       "        vertical-align: top;\n",
       "    }\n",
       "\n",
       "    .dataframe thead th {\n",
       "        text-align: right;\n",
       "    }\n",
       "</style>\n",
       "<table border=\"1\" class=\"dataframe\">\n",
       "  <thead>\n",
       "    <tr style=\"text-align: right;\">\n",
       "      <th></th>\n",
       "      <th>line_length</th>\n",
       "      <th>verb_percentage</th>\n",
       "      <th>stopword_percentage</th>\n",
       "      <th>punctuation_percentage</th>\n",
       "      <th>line_length_trans</th>\n",
       "      <th>stopword_percentage_trans</th>\n",
       "      <th>punctuation_percentage_trans</th>\n",
       "    </tr>\n",
       "  </thead>\n",
       "  <tbody>\n",
       "    <tr>\n",
       "      <th>0</th>\n",
       "      <td>-0.755070</td>\n",
       "      <td>-0.530730</td>\n",
       "      <td>-0.782720</td>\n",
       "      <td>-0.440978</td>\n",
       "      <td>-1.475953</td>\n",
       "      <td>-0.927611</td>\n",
       "      <td>-0.989339</td>\n",
       "    </tr>\n",
       "    <tr>\n",
       "      <th>1</th>\n",
       "      <td>0.095895</td>\n",
       "      <td>0.169036</td>\n",
       "      <td>1.352764</td>\n",
       "      <td>-0.285326</td>\n",
       "      <td>0.553027</td>\n",
       "      <td>1.325359</td>\n",
       "      <td>-0.153603</td>\n",
       "    </tr>\n",
       "    <tr>\n",
       "      <th>2</th>\n",
       "      <td>-0.809971</td>\n",
       "      <td>-0.530730</td>\n",
       "      <td>6.844007</td>\n",
       "      <td>-0.440978</td>\n",
       "      <td>-1.980797</td>\n",
       "      <td>3.330102</td>\n",
       "      <td>-0.989339</td>\n",
       "    </tr>\n",
       "    <tr>\n",
       "      <th>3</th>\n",
       "      <td>-0.384489</td>\n",
       "      <td>-0.530730</td>\n",
       "      <td>-0.782720</td>\n",
       "      <td>-0.440978</td>\n",
       "      <td>-0.160893</td>\n",
       "      <td>-0.927611</td>\n",
       "      <td>-0.989339</td>\n",
       "    </tr>\n",
       "    <tr>\n",
       "      <th>4</th>\n",
       "      <td>-0.672719</td>\n",
       "      <td>-0.530730</td>\n",
       "      <td>-0.782720</td>\n",
       "      <td>0.303929</td>\n",
       "      <td>-1.012450</td>\n",
       "      <td>-0.927611</td>\n",
       "      <td>0.838941</td>\n",
       "    </tr>\n",
       "  </tbody>\n",
       "</table>\n",
       "</div>"
      ],
      "text/plain": [
       "   line_length  verb_percentage  stopword_percentage  punctuation_percentage  \\\n",
       "0    -0.755070        -0.530730            -0.782720               -0.440978   \n",
       "1     0.095895         0.169036             1.352764               -0.285326   \n",
       "2    -0.809971        -0.530730             6.844007               -0.440978   \n",
       "3    -0.384489        -0.530730            -0.782720               -0.440978   \n",
       "4    -0.672719        -0.530730            -0.782720                0.303929   \n",
       "\n",
       "   line_length_trans  stopword_percentage_trans  punctuation_percentage_trans  \n",
       "0          -1.475953                  -0.927611                     -0.989339  \n",
       "1           0.553027                   1.325359                     -0.153603  \n",
       "2          -1.980797                   3.330102                     -0.989339  \n",
       "3          -0.160893                  -0.927611                     -0.989339  \n",
       "4          -1.012450                  -0.927611                      0.838941  "
      ]
     },
     "execution_count": 33,
     "metadata": {},
     "output_type": "execute_result"
    }
   ],
   "source": [
    "features = bullet_train.columns\n",
    "\n",
    "bullet_train[features] = scaler.transform(bullet_train[features])\n",
    "bullet_val[features] = scaler.transform(bullet_val[features])\n",
    "bullet_test[features] = scaler.transform(bullet_test[features])\n",
    "\n",
    "bullet_train.head()"
   ]
  },
  {
   "cell_type": "markdown",
   "metadata": {},
   "source": [
    "## 5. Vectorize text"
   ]
  },
  {
   "cell_type": "code",
   "execution_count": null,
   "metadata": {
    "scrolled": true
   },
   "outputs": [],
   "source": [
    "# tfidf_vect = TfidfVectorizer(analyzer=clean_text)\n",
    "# tfidf_vect_fit = tfidf_vect.fit(X_train['line'])\n",
    "\n",
    "# tfidf_train = tfidf_vect_fit.transform(X_train['line'])\n",
    "# tfidf_test = tfidf_vect_fit.transform(X_test['line'])\n",
    "\n",
    "# X_train_vect = pd.concat([X_train[['line_length','verb_percentage','stopword_percentage','punctuation_percentage']].reset_index(drop=True),\n",
    "#                          pd.DataFrame(tfidf_train.toarray())], axis=1)\n",
    "# X_test_vect = pd.concat([X_test[['line_length','verb_percentage','stopword_percentage','punctuation_percentage']].reset_index(drop=True),\n",
    "#                          pd.DataFrame(tfidf_test.toarray())], axis=1)\n",
    "\n",
    "# X_train_vect.head()"
   ]
  }
 ],
 "metadata": {
  "kernelspec": {
   "display_name": "Python 3",
   "language": "python",
   "name": "python3"
  },
  "language_info": {
   "codemirror_mode": {
    "name": "ipython",
    "version": 3
   },
   "file_extension": ".py",
   "mimetype": "text/x-python",
   "name": "python",
   "nbconvert_exporter": "python",
   "pygments_lexer": "ipython3",
   "version": "3.8.10"
  }
 },
 "nbformat": 4,
 "nbformat_minor": 4
}
