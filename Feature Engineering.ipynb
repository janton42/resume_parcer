{
 "cells": [
  {
   "cell_type": "markdown",
   "metadata": {},
   "source": [
    "# Feature Engineering 2\n",
    "Test features"
   ]
  },
  {
   "cell_type": "code",
   "execution_count": 1,
   "metadata": {},
   "outputs": [
    {
     "data": {
      "text/html": [
       "<div>\n",
       "<style scoped>\n",
       "    .dataframe tbody tr th:only-of-type {\n",
       "        vertical-align: middle;\n",
       "    }\n",
       "\n",
       "    .dataframe tbody tr th {\n",
       "        vertical-align: top;\n",
       "    }\n",
       "\n",
       "    .dataframe thead th {\n",
       "        text-align: right;\n",
       "    }\n",
       "</style>\n",
       "<table border=\"1\" class=\"dataframe\">\n",
       "  <thead>\n",
       "    <tr style=\"text-align: right;\">\n",
       "      <th></th>\n",
       "      <th>line_length</th>\n",
       "      <th>verb_percentage</th>\n",
       "      <th>stopword_percentage</th>\n",
       "      <th>punctuation_percentage</th>\n",
       "      <th>line_length_trans</th>\n",
       "      <th>stopword_percentage_trans</th>\n",
       "      <th>punctuation_percentage_trans</th>\n",
       "    </tr>\n",
       "  </thead>\n",
       "  <tbody>\n",
       "    <tr>\n",
       "      <th>0</th>\n",
       "      <td>9</td>\n",
       "      <td>0.0</td>\n",
       "      <td>0.0</td>\n",
       "      <td>0.0</td>\n",
       "      <td>1.245731</td>\n",
       "      <td>0.000000</td>\n",
       "      <td>0.000000</td>\n",
       "    </tr>\n",
       "    <tr>\n",
       "      <th>1</th>\n",
       "      <td>71</td>\n",
       "      <td>6.2</td>\n",
       "      <td>5.6</td>\n",
       "      <td>1.4</td>\n",
       "      <td>1.531531</td>\n",
       "      <td>2.366432</td>\n",
       "      <td>1.183216</td>\n",
       "    </tr>\n",
       "    <tr>\n",
       "      <th>2</th>\n",
       "      <td>5</td>\n",
       "      <td>0.0</td>\n",
       "      <td>20.0</td>\n",
       "      <td>0.0</td>\n",
       "      <td>1.174619</td>\n",
       "      <td>4.472136</td>\n",
       "      <td>0.000000</td>\n",
       "    </tr>\n",
       "    <tr>\n",
       "      <th>3</th>\n",
       "      <td>36</td>\n",
       "      <td>0.0</td>\n",
       "      <td>0.0</td>\n",
       "      <td>0.0</td>\n",
       "      <td>1.430969</td>\n",
       "      <td>0.000000</td>\n",
       "      <td>0.000000</td>\n",
       "    </tr>\n",
       "    <tr>\n",
       "      <th>4</th>\n",
       "      <td>15</td>\n",
       "      <td>0.0</td>\n",
       "      <td>0.0</td>\n",
       "      <td>6.7</td>\n",
       "      <td>1.311019</td>\n",
       "      <td>0.000000</td>\n",
       "      <td>2.588436</td>\n",
       "    </tr>\n",
       "  </tbody>\n",
       "</table>\n",
       "</div>"
      ],
      "text/plain": [
       "   line_length  verb_percentage  stopword_percentage  punctuation_percentage  \\\n",
       "0            9              0.0                  0.0                     0.0   \n",
       "1           71              6.2                  5.6                     1.4   \n",
       "2            5              0.0                 20.0                     0.0   \n",
       "3           36              0.0                  0.0                     0.0   \n",
       "4           15              0.0                  0.0                     6.7   \n",
       "\n",
       "   line_length_trans  stopword_percentage_trans  punctuation_percentage_trans  \n",
       "0           1.245731                   0.000000                      0.000000  \n",
       "1           1.531531                   2.366432                      1.183216  \n",
       "2           1.174619                   4.472136                      0.000000  \n",
       "3           1.430969                   0.000000                      0.000000  \n",
       "4           1.311019                   0.000000                      2.588436  "
      ]
     },
     "execution_count": 1,
     "metadata": {},
     "output_type": "execute_result"
    }
   ],
   "source": [
    "import pandas as pd\n",
    "from sklearn.preprocessing import StandardScaler\n",
    "import joblib\n",
    "import matplotlib.pyplot as plt\n",
    "import numpy as np\n",
    "import seaborn as sns\n",
    "from sklearn.ensemble import RandomForestClassifier\n",
    "from sklearn.model_selection import GridSearchCV\n",
    "%matplotlib inline\n",
    "\n",
    "bullet_train = pd.read_csv('output/train_features.csv')\n",
    "bullet_val = pd.read_csv('output/val_features.csv')\n",
    "bullet_test = pd.read_csv('output/test_features.csv')\n",
    "\n",
    "bullet_train.head()"
   ]
  },
  {
   "cell_type": "code",
   "execution_count": 2,
   "metadata": {},
   "outputs": [],
   "source": [
    "# Define a list of features to be used for each dataset\n",
    "raw_original_features = ['line_length', 'verb_percentage', 'stopword_percentage','punctuation_percentage']\n",
    "\n",
    "transformed_features = ['line_length_trans', 'stopword_percentage_trans', 'punctuation_percentage_trans']\n",
    "\n",
    "all_features = ['line_length', 'verb_percentage', 'stopword_percentage','punctuation_percentage', 'line_length_trans', 'stopword_percentage_trans', 'punctuation_percentage_trans']\n",
    "\n",
    "reduced_features = ['line_length_trans','verb_percentage','stopword_percentage_trans']"
   ]
  },
  {
   "cell_type": "code",
   "execution_count": 3,
   "metadata": {},
   "outputs": [],
   "source": [
    "# Write out all data\n",
    "bullet_train[raw_original_features].to_csv('output/train_features_raw.csv',index=False)\n",
    "bullet_val[raw_original_features].to_csv('output/val_features_raw.csv',index=False)\n",
    "bullet_test[raw_original_features].to_csv('output/test_features_raw.csv',index=False)\n",
    "\n",
    "bullet_train[transformed_features].to_csv('output/train_features_trans.csv',index=False)\n",
    "bullet_val[transformed_features].to_csv('output/val_features_trans.csv',index=False)\n",
    "bullet_test[transformed_features].to_csv('output/test_features_trans.csv',index=False)\n",
    "\n",
    "bullet_train[all_features].to_csv('output/train_features_all.csv',index=False)\n",
    "bullet_val[all_features].to_csv('output/val_features_all.csv',index=False)\n",
    "bullet_test[all_features].to_csv('output/test_features_all.csv',index=False)\n",
    "\n",
    "bullet_train[reduced_features].to_csv('output/train_features_reduced.csv',index=False)\n",
    "bullet_val[reduced_features].to_csv('output/val_features_reduced.csv',index=False)\n",
    "bullet_test[reduced_features].to_csv('output/test_features_reduced.csv',index=False)"
   ]
  },
  {
   "cell_type": "code",
   "execution_count": 4,
   "metadata": {
    "scrolled": true
   },
   "outputs": [
    {
     "data": {
      "text/html": [
       "<div>\n",
       "<style scoped>\n",
       "    .dataframe tbody tr th:only-of-type {\n",
       "        vertical-align: middle;\n",
       "    }\n",
       "\n",
       "    .dataframe tbody tr th {\n",
       "        vertical-align: top;\n",
       "    }\n",
       "\n",
       "    .dataframe thead th {\n",
       "        text-align: right;\n",
       "    }\n",
       "</style>\n",
       "<table border=\"1\" class=\"dataframe\">\n",
       "  <thead>\n",
       "    <tr style=\"text-align: right;\">\n",
       "      <th></th>\n",
       "      <th>Bullet</th>\n",
       "    </tr>\n",
       "  </thead>\n",
       "  <tbody>\n",
       "    <tr>\n",
       "      <th>0</th>\n",
       "      <td>0</td>\n",
       "    </tr>\n",
       "    <tr>\n",
       "      <th>1</th>\n",
       "      <td>1</td>\n",
       "    </tr>\n",
       "    <tr>\n",
       "      <th>2</th>\n",
       "      <td>0</td>\n",
       "    </tr>\n",
       "    <tr>\n",
       "      <th>3</th>\n",
       "      <td>0</td>\n",
       "    </tr>\n",
       "    <tr>\n",
       "      <th>4</th>\n",
       "      <td>0</td>\n",
       "    </tr>\n",
       "  </tbody>\n",
       "</table>\n",
       "</div>"
      ],
      "text/plain": [
       "   Bullet\n",
       "0       0\n",
       "1       1\n",
       "2       0\n",
       "3       0\n",
       "4       0"
      ]
     },
     "execution_count": 4,
     "metadata": {},
     "output_type": "execute_result"
    }
   ],
   "source": [
    "train_features = pd.read_csv('output/train_features_raw.csv')\n",
    "train_labels = pd.read_csv('output/train_labels.csv')\n",
    "\n",
    "train_labels.head()"
   ]
  },
  {
   "cell_type": "code",
   "execution_count": 5,
   "metadata": {},
   "outputs": [
    {
     "data": {
      "text/plain": [
       "<AxesSubplot:>"
      ]
     },
     "execution_count": 5,
     "metadata": {},
     "output_type": "execute_result"
    },
    {
     "data": {
      "image/png": "[encoded data removed]",
      "text/plain": [
       "<Figure size 432x288 with 2 Axes>"
      ]
     },
     "metadata": {
      "needs_background": "light"
     },
     "output_type": "display_data"
    }
   ],
   "source": [
    "# Generate correlation matrix heat map\n",
    "matrix = np.triu(train_features.corr())\n",
    "sns.heatmap(train_features.corr(), annot=True, fmt='.1f', vmin=-1, vmax=1, center=0, cmap='coolwarm', mask=matrix)"
   ]
  },
  {
   "cell_type": "markdown",
   "metadata": {},
   "source": [
    "## GridSearchCV\n",
    "\n",
    "This is LOGISTIC REGRESSION"
   ]
  },
  {
   "cell_type": "code",
   "execution_count": 6,
   "metadata": {},
   "outputs": [],
   "source": [
    "def print_results(results):\n",
    "    print('BEST PARAMS: {}\\n'.format(results.best_params_))\n",
    "    \n",
    "    means = results.cv_results_['mean_test_score']\n",
    "    stds = results.cv_results_['std_test_score']\n",
    "    for mean, std, params in zip(means, stds, results.cv_results_['params']):\n",
    "        print('{} (+/-{}) for {}.'.format(round(mean, 3), round(std*2, 3), params))"
   ]
  },
  {
   "cell_type": "code",
   "execution_count": 7,
   "metadata": {
    "scrolled": true
   },
   "outputs": [
    {
     "name": "stdout",
     "output_type": "stream",
     "text": [
      "BEST PARAMS: {'max_depth': 4, 'n_estimators': 64}\n",
      "\n",
      "0.852 (+/-0.065) for {'max_depth': 2, 'n_estimators': 8}.\n",
      "0.851 (+/-0.031) for {'max_depth': 2, 'n_estimators': 16}.\n",
      "0.854 (+/-0.058) for {'max_depth': 2, 'n_estimators': 32}.\n",
      "0.852 (+/-0.059) for {'max_depth': 2, 'n_estimators': 64}.\n",
      "0.852 (+/-0.065) for {'max_depth': 2, 'n_estimators': 128}.\n",
      "0.856 (+/-0.054) for {'max_depth': 2, 'n_estimators': 256}.\n",
      "0.854 (+/-0.048) for {'max_depth': 2, 'n_estimators': 512}.\n",
      "0.857 (+/-0.054) for {'max_depth': 4, 'n_estimators': 8}.\n",
      "0.857 (+/-0.053) for {'max_depth': 4, 'n_estimators': 16}.\n",
      "0.852 (+/-0.042) for {'max_depth': 4, 'n_estimators': 32}.\n",
      "0.861 (+/-0.048) for {'max_depth': 4, 'n_estimators': 64}.\n",
      "0.856 (+/-0.053) for {'max_depth': 4, 'n_estimators': 128}.\n",
      "0.861 (+/-0.047) for {'max_depth': 4, 'n_estimators': 256}.\n",
      "0.857 (+/-0.05) for {'max_depth': 4, 'n_estimators': 512}.\n",
      "0.831 (+/-0.047) for {'max_depth': 8, 'n_estimators': 8}.\n",
      "0.836 (+/-0.042) for {'max_depth': 8, 'n_estimators': 16}.\n",
      "0.842 (+/-0.04) for {'max_depth': 8, 'n_estimators': 32}.\n",
      "0.846 (+/-0.052) for {'max_depth': 8, 'n_estimators': 64}.\n",
      "0.847 (+/-0.029) for {'max_depth': 8, 'n_estimators': 128}.\n",
      "0.844 (+/-0.048) for {'max_depth': 8, 'n_estimators': 256}.\n",
      "0.846 (+/-0.043) for {'max_depth': 8, 'n_estimators': 512}.\n",
      "0.808 (+/-0.043) for {'max_depth': 16, 'n_estimators': 8}.\n",
      "0.826 (+/-0.053) for {'max_depth': 16, 'n_estimators': 16}.\n",
      "0.836 (+/-0.059) for {'max_depth': 16, 'n_estimators': 32}.\n",
      "0.847 (+/-0.05) for {'max_depth': 16, 'n_estimators': 64}.\n",
      "0.837 (+/-0.034) for {'max_depth': 16, 'n_estimators': 128}.\n",
      "0.841 (+/-0.056) for {'max_depth': 16, 'n_estimators': 256}.\n",
      "0.842 (+/-0.051) for {'max_depth': 16, 'n_estimators': 512}.\n",
      "0.829 (+/-0.064) for {'max_depth': 32, 'n_estimators': 8}.\n",
      "0.824 (+/-0.044) for {'max_depth': 32, 'n_estimators': 16}.\n",
      "0.839 (+/-0.05) for {'max_depth': 32, 'n_estimators': 32}.\n",
      "0.829 (+/-0.044) for {'max_depth': 32, 'n_estimators': 64}.\n",
      "0.841 (+/-0.058) for {'max_depth': 32, 'n_estimators': 128}.\n",
      "0.836 (+/-0.045) for {'max_depth': 32, 'n_estimators': 256}.\n",
      "0.841 (+/-0.056) for {'max_depth': 32, 'n_estimators': 512}.\n",
      "0.846 (+/-0.049) for {'max_depth': None, 'n_estimators': 8}.\n",
      "0.831 (+/-0.073) for {'max_depth': None, 'n_estimators': 16}.\n",
      "0.836 (+/-0.038) for {'max_depth': None, 'n_estimators': 32}.\n",
      "0.836 (+/-0.039) for {'max_depth': None, 'n_estimators': 64}.\n",
      "0.833 (+/-0.035) for {'max_depth': None, 'n_estimators': 128}.\n",
      "0.837 (+/-0.044) for {'max_depth': None, 'n_estimators': 256}.\n",
      "0.837 (+/-0.048) for {'max_depth': None, 'n_estimators': 512}.\n"
     ]
    }
   ],
   "source": [
    " # GridSearch\n",
    "# Instantiate a RandomForestClassifier\n",
    "rf = RandomForestClassifier()\n",
    "# Create a dictionary with the parameters to check\n",
    "parameters ={\n",
    "    'n_estimators':[2**i for i in range(3,10)],\n",
    "    'max_depth':[2, 4, 8, 16, 32, None]\n",
    "}\n",
    "# Instantiate a GridSearchCV object, passing the RandomForestClassifier, paramaters,\n",
    "# and number of \"K-folds\" (we are using 5)\n",
    "cv = GridSearchCV(rf, parameters, cv=5)\n",
    "\n",
    "# Like all scikit-learn objects, cv must be fit. Input values must be arrays\n",
    "cv.fit(train_features, train_labels.values.ravel())\n",
    "\n",
    "# This will give us the best hyperparameter settings given this set of data\n",
    "print_results(cv)"
   ]
  },
  {
   "cell_type": "markdown",
   "metadata": {},
   "source": [
    "### Feature Importance"
   ]
  },
  {
   "cell_type": "code",
   "execution_count": 8,
   "metadata": {},
   "outputs": [
    {
     "data": {
      "image/png": "[encoded data removed]",
      "text/plain": [
       "<Figure size 432x288 with 1 Axes>"
      ]
     },
     "metadata": {
      "needs_background": "light"
     },
     "output_type": "display_data"
    }
   ],
   "source": [
    "# Generate feature importance plot\n",
    "feat_imp = cv.best_estimator_.feature_importances_\n",
    "indices = np.argsort(feat_imp)\n",
    "plt.yticks(range(len(indices)), [train_features.columns[i] for i in indices])\n",
    "plt.barh(range(len(indices)), feat_imp[indices], color='r', align='center')\n",
    "plt.show()"
   ]
  },
  {
   "cell_type": "markdown",
   "metadata": {},
   "source": [
    "### Write Out Pickled Model "
   ]
  },
  {
   "cell_type": "code",
   "execution_count": 9,
   "metadata": {},
   "outputs": [
    {
     "data": {
      "text/plain": [
       "['models/mdl_raw_original_features.pkl']"
      ]
     },
     "execution_count": 9,
     "metadata": {},
     "output_type": "execute_result"
    }
   ],
   "source": [
    "# GridSearchCV automatically makes a best_estimator_ atrribute on a riffiting of the model on 100% of the data\n",
    "joblib.dump(cv.best_estimator_, 'models/mdl_raw_original_features.pkl')"
   ]
  },
  {
   "cell_type": "markdown",
   "metadata": {},
   "source": [
    "#### Repeat process for other models\n"
   ]
  },
  {
   "cell_type": "code",
   "execution_count": 10,
   "metadata": {},
   "outputs": [
    {
     "data": {
      "text/html": [
       "<div>\n",
       "<style scoped>\n",
       "    .dataframe tbody tr th:only-of-type {\n",
       "        vertical-align: middle;\n",
       "    }\n",
       "\n",
       "    .dataframe tbody tr th {\n",
       "        vertical-align: top;\n",
       "    }\n",
       "\n",
       "    .dataframe thead th {\n",
       "        text-align: right;\n",
       "    }\n",
       "</style>\n",
       "<table border=\"1\" class=\"dataframe\">\n",
       "  <thead>\n",
       "    <tr style=\"text-align: right;\">\n",
       "      <th></th>\n",
       "      <th>line_length_trans</th>\n",
       "      <th>stopword_percentage_trans</th>\n",
       "      <th>punctuation_percentage_trans</th>\n",
       "    </tr>\n",
       "  </thead>\n",
       "  <tbody>\n",
       "    <tr>\n",
       "      <th>0</th>\n",
       "      <td>1.245731</td>\n",
       "      <td>0.000000</td>\n",
       "      <td>0.000000</td>\n",
       "    </tr>\n",
       "    <tr>\n",
       "      <th>1</th>\n",
       "      <td>1.531531</td>\n",
       "      <td>2.366432</td>\n",
       "      <td>1.183216</td>\n",
       "    </tr>\n",
       "    <tr>\n",
       "      <th>2</th>\n",
       "      <td>1.174619</td>\n",
       "      <td>4.472136</td>\n",
       "      <td>0.000000</td>\n",
       "    </tr>\n",
       "    <tr>\n",
       "      <th>3</th>\n",
       "      <td>1.430969</td>\n",
       "      <td>0.000000</td>\n",
       "      <td>0.000000</td>\n",
       "    </tr>\n",
       "    <tr>\n",
       "      <th>4</th>\n",
       "      <td>1.311019</td>\n",
       "      <td>0.000000</td>\n",
       "      <td>2.588436</td>\n",
       "    </tr>\n",
       "  </tbody>\n",
       "</table>\n",
       "</div>"
      ],
      "text/plain": [
       "   line_length_trans  stopword_percentage_trans  punctuation_percentage_trans\n",
       "0           1.245731                   0.000000                      0.000000\n",
       "1           1.531531                   2.366432                      1.183216\n",
       "2           1.174619                   4.472136                      0.000000\n",
       "3           1.430969                   0.000000                      0.000000\n",
       "4           1.311019                   0.000000                      2.588436"
      ]
     },
     "execution_count": 10,
     "metadata": {},
     "output_type": "execute_result"
    }
   ],
   "source": [
    "# Transformed Features\n",
    "train_features = pd.read_csv('output/train_features_trans.csv')\n",
    "train_labels = pd.read_csv('output/train_labels.csv')\n",
    "\n",
    "train_features.head()"
   ]
  },
  {
   "cell_type": "code",
   "execution_count": 11,
   "metadata": {},
   "outputs": [
    {
     "data": {
      "text/plain": [
       "<AxesSubplot:>"
      ]
     },
     "execution_count": 11,
     "metadata": {},
     "output_type": "execute_result"
    },
    {
     "data": {
      "image/png": "[encoded data removed]",
      "text/plain": [
       "<Figure size 432x288 with 2 Axes>"
      ]
     },
     "metadata": {
      "needs_background": "light"
     },
     "output_type": "display_data"
    }
   ],
   "source": [
    "# Generate correlation matrix heat map\n",
    "matrix = np.triu(train_features.corr())\n",
    "sns.heatmap(train_features.corr(), annot=True, fmt='.1f', vmin=-1, vmax=1, center=0, cmap='coolwarm', mask=matrix)"
   ]
  },
  {
   "cell_type": "code",
   "execution_count": 12,
   "metadata": {},
   "outputs": [
    {
     "name": "stdout",
     "output_type": "stream",
     "text": [
      "BEST PARAMS: {'max_depth': 4, 'n_estimators': 32}\n",
      "\n",
      "0.837 (+/-0.062) for {'max_depth': 2, 'n_estimators': 8}.\n",
      "0.837 (+/-0.063) for {'max_depth': 2, 'n_estimators': 16}.\n",
      "0.844 (+/-0.079) for {'max_depth': 2, 'n_estimators': 32}.\n",
      "0.837 (+/-0.067) for {'max_depth': 2, 'n_estimators': 64}.\n",
      "0.839 (+/-0.07) for {'max_depth': 2, 'n_estimators': 128}.\n",
      "0.841 (+/-0.065) for {'max_depth': 2, 'n_estimators': 256}.\n",
      "0.841 (+/-0.069) for {'max_depth': 2, 'n_estimators': 512}.\n",
      "0.839 (+/-0.066) for {'max_depth': 4, 'n_estimators': 8}.\n",
      "0.847 (+/-0.039) for {'max_depth': 4, 'n_estimators': 16}.\n",
      "0.854 (+/-0.052) for {'max_depth': 4, 'n_estimators': 32}.\n",
      "0.849 (+/-0.05) for {'max_depth': 4, 'n_estimators': 64}.\n",
      "0.842 (+/-0.051) for {'max_depth': 4, 'n_estimators': 128}.\n",
      "0.852 (+/-0.056) for {'max_depth': 4, 'n_estimators': 256}.\n",
      "0.847 (+/-0.067) for {'max_depth': 4, 'n_estimators': 512}.\n",
      "0.831 (+/-0.083) for {'max_depth': 8, 'n_estimators': 8}.\n",
      "0.834 (+/-0.051) for {'max_depth': 8, 'n_estimators': 16}.\n",
      "0.844 (+/-0.044) for {'max_depth': 8, 'n_estimators': 32}.\n",
      "0.839 (+/-0.05) for {'max_depth': 8, 'n_estimators': 64}.\n",
      "0.839 (+/-0.062) for {'max_depth': 8, 'n_estimators': 128}.\n",
      "0.841 (+/-0.057) for {'max_depth': 8, 'n_estimators': 256}.\n",
      "0.842 (+/-0.056) for {'max_depth': 8, 'n_estimators': 512}.\n",
      "0.809 (+/-0.066) for {'max_depth': 16, 'n_estimators': 8}.\n",
      "0.813 (+/-0.046) for {'max_depth': 16, 'n_estimators': 16}.\n",
      "0.823 (+/-0.061) for {'max_depth': 16, 'n_estimators': 32}.\n",
      "0.821 (+/-0.054) for {'max_depth': 16, 'n_estimators': 64}.\n",
      "0.823 (+/-0.041) for {'max_depth': 16, 'n_estimators': 128}.\n",
      "0.823 (+/-0.053) for {'max_depth': 16, 'n_estimators': 256}.\n",
      "0.818 (+/-0.056) for {'max_depth': 16, 'n_estimators': 512}.\n",
      "0.803 (+/-0.059) for {'max_depth': 32, 'n_estimators': 8}.\n",
      "0.818 (+/-0.058) for {'max_depth': 32, 'n_estimators': 16}.\n",
      "0.823 (+/-0.056) for {'max_depth': 32, 'n_estimators': 32}.\n",
      "0.821 (+/-0.058) for {'max_depth': 32, 'n_estimators': 64}.\n",
      "0.823 (+/-0.051) for {'max_depth': 32, 'n_estimators': 128}.\n",
      "0.827 (+/-0.059) for {'max_depth': 32, 'n_estimators': 256}.\n",
      "0.826 (+/-0.051) for {'max_depth': 32, 'n_estimators': 512}.\n",
      "0.813 (+/-0.069) for {'max_depth': None, 'n_estimators': 8}.\n",
      "0.816 (+/-0.055) for {'max_depth': None, 'n_estimators': 16}.\n",
      "0.813 (+/-0.081) for {'max_depth': None, 'n_estimators': 32}.\n",
      "0.826 (+/-0.055) for {'max_depth': None, 'n_estimators': 64}.\n",
      "0.822 (+/-0.055) for {'max_depth': None, 'n_estimators': 128}.\n",
      "0.824 (+/-0.046) for {'max_depth': None, 'n_estimators': 256}.\n",
      "0.829 (+/-0.057) for {'max_depth': None, 'n_estimators': 512}.\n"
     ]
    }
   ],
   "source": [
    " # GridSearch\n",
    "rf = RandomForestClassifier()\n",
    "parameters ={\n",
    "    'n_estimators':[2**i for i in range(3,10)],\n",
    "    'max_depth':[2, 4, 8, 16, 32, None]\n",
    "}\n",
    "cv = GridSearchCV(rf, parameters, cv=5)\n",
    "cv.fit(train_features, train_labels.values.ravel())\n",
    "\n",
    "print_results(cv)"
   ]
  },
  {
   "cell_type": "code",
   "execution_count": 13,
   "metadata": {
    "scrolled": true
   },
   "outputs": [
    {
     "data": {
      "image/png": "[encoded data removed]",
      "text/plain": [
       "<Figure size 432x288 with 1 Axes>"
      ]
     },
     "metadata": {
      "needs_background": "light"
     },
     "output_type": "display_data"
    }
   ],
   "source": [
    "# Generate feature importance plot\n",
    "feat_imp = cv.best_estimator_.feature_importances_\n",
    "indices = np.argsort(feat_imp)\n",
    "plt.yticks(range(len(indices)), [train_features.columns[i] for i in indices])\n",
    "plt.barh(range(len(indices)), feat_imp[indices], color='r', align='center')\n",
    "plt.show()"
   ]
  },
  {
   "cell_type": "code",
   "execution_count": 14,
   "metadata": {},
   "outputs": [
    {
     "data": {
      "text/plain": [
       "['models/mdl_transformed_features.pkl']"
      ]
     },
     "execution_count": 14,
     "metadata": {},
     "output_type": "execute_result"
    }
   ],
   "source": [
    "# GridSearchCV automatically makes a best_estimator_ atrribute on a riffiting of the model on 100% of the data\n",
    "joblib.dump(cv.best_estimator_, 'models/mdl_transformed_features.pkl')"
   ]
  },
  {
   "cell_type": "code",
   "execution_count": 15,
   "metadata": {},
   "outputs": [
    {
     "data": {
      "text/html": [
       "<div>\n",
       "<style scoped>\n",
       "    .dataframe tbody tr th:only-of-type {\n",
       "        vertical-align: middle;\n",
       "    }\n",
       "\n",
       "    .dataframe tbody tr th {\n",
       "        vertical-align: top;\n",
       "    }\n",
       "\n",
       "    .dataframe thead th {\n",
       "        text-align: right;\n",
       "    }\n",
       "</style>\n",
       "<table border=\"1\" class=\"dataframe\">\n",
       "  <thead>\n",
       "    <tr style=\"text-align: right;\">\n",
       "      <th></th>\n",
       "      <th>line_length</th>\n",
       "      <th>verb_percentage</th>\n",
       "      <th>stopword_percentage</th>\n",
       "      <th>punctuation_percentage</th>\n",
       "      <th>line_length_trans</th>\n",
       "      <th>stopword_percentage_trans</th>\n",
       "      <th>punctuation_percentage_trans</th>\n",
       "    </tr>\n",
       "  </thead>\n",
       "  <tbody>\n",
       "    <tr>\n",
       "      <th>0</th>\n",
       "      <td>9</td>\n",
       "      <td>0.0</td>\n",
       "      <td>0.0</td>\n",
       "      <td>0.0</td>\n",
       "      <td>1.245731</td>\n",
       "      <td>0.000000</td>\n",
       "      <td>0.000000</td>\n",
       "    </tr>\n",
       "    <tr>\n",
       "      <th>1</th>\n",
       "      <td>71</td>\n",
       "      <td>6.2</td>\n",
       "      <td>5.6</td>\n",
       "      <td>1.4</td>\n",
       "      <td>1.531531</td>\n",
       "      <td>2.366432</td>\n",
       "      <td>1.183216</td>\n",
       "    </tr>\n",
       "    <tr>\n",
       "      <th>2</th>\n",
       "      <td>5</td>\n",
       "      <td>0.0</td>\n",
       "      <td>20.0</td>\n",
       "      <td>0.0</td>\n",
       "      <td>1.174619</td>\n",
       "      <td>4.472136</td>\n",
       "      <td>0.000000</td>\n",
       "    </tr>\n",
       "    <tr>\n",
       "      <th>3</th>\n",
       "      <td>36</td>\n",
       "      <td>0.0</td>\n",
       "      <td>0.0</td>\n",
       "      <td>0.0</td>\n",
       "      <td>1.430969</td>\n",
       "      <td>0.000000</td>\n",
       "      <td>0.000000</td>\n",
       "    </tr>\n",
       "    <tr>\n",
       "      <th>4</th>\n",
       "      <td>15</td>\n",
       "      <td>0.0</td>\n",
       "      <td>0.0</td>\n",
       "      <td>6.7</td>\n",
       "      <td>1.311019</td>\n",
       "      <td>0.000000</td>\n",
       "      <td>2.588436</td>\n",
       "    </tr>\n",
       "  </tbody>\n",
       "</table>\n",
       "</div>"
      ],
      "text/plain": [
       "   line_length  verb_percentage  stopword_percentage  punctuation_percentage  \\\n",
       "0            9              0.0                  0.0                     0.0   \n",
       "1           71              6.2                  5.6                     1.4   \n",
       "2            5              0.0                 20.0                     0.0   \n",
       "3           36              0.0                  0.0                     0.0   \n",
       "4           15              0.0                  0.0                     6.7   \n",
       "\n",
       "   line_length_trans  stopword_percentage_trans  punctuation_percentage_trans  \n",
       "0           1.245731                   0.000000                      0.000000  \n",
       "1           1.531531                   2.366432                      1.183216  \n",
       "2           1.174619                   4.472136                      0.000000  \n",
       "3           1.430969                   0.000000                      0.000000  \n",
       "4           1.311019                   0.000000                      2.588436  "
      ]
     },
     "execution_count": 15,
     "metadata": {},
     "output_type": "execute_result"
    }
   ],
   "source": [
    "# All Features\n",
    "train_features = pd.read_csv('output/train_features_all.csv')\n",
    "train_labels = pd.read_csv('output/train_labels.csv')\n",
    "\n",
    "train_features.head()"
   ]
  },
  {
   "cell_type": "code",
   "execution_count": 16,
   "metadata": {},
   "outputs": [
    {
     "data": {
      "text/plain": [
       "<AxesSubplot:>"
      ]
     },
     "execution_count": 16,
     "metadata": {},
     "output_type": "execute_result"
    },
    {
     "data": {
      "image/png": "[encoded data removed]",
      "text/plain": [
       "<Figure size 432x288 with 2 Axes>"
      ]
     },
     "metadata": {
      "needs_background": "light"
     },
     "output_type": "display_data"
    }
   ],
   "source": [
    "# Generate correlation matrix heat map\n",
    "matrix = np.triu(train_features.corr())\n",
    "sns.heatmap(train_features.corr(), annot=True, fmt='.1f', vmin=-1, vmax=1, center=0, cmap='coolwarm', mask=matrix)"
   ]
  },
  {
   "cell_type": "code",
   "execution_count": 17,
   "metadata": {},
   "outputs": [
    {
     "name": "stdout",
     "output_type": "stream",
     "text": [
      "BEST PARAMS: {'max_depth': 2, 'n_estimators': 512}\n",
      "\n",
      "0.849 (+/-0.063) for {'max_depth': 2, 'n_estimators': 8}.\n",
      "0.849 (+/-0.082) for {'max_depth': 2, 'n_estimators': 16}.\n",
      "0.861 (+/-0.065) for {'max_depth': 2, 'n_estimators': 32}.\n",
      "0.856 (+/-0.062) for {'max_depth': 2, 'n_estimators': 64}.\n",
      "0.862 (+/-0.063) for {'max_depth': 2, 'n_estimators': 128}.\n",
      "0.856 (+/-0.054) for {'max_depth': 2, 'n_estimators': 256}.\n",
      "0.862 (+/-0.058) for {'max_depth': 2, 'n_estimators': 512}.\n",
      "0.846 (+/-0.053) for {'max_depth': 4, 'n_estimators': 8}.\n",
      "0.854 (+/-0.056) for {'max_depth': 4, 'n_estimators': 16}.\n",
      "0.854 (+/-0.049) for {'max_depth': 4, 'n_estimators': 32}.\n",
      "0.859 (+/-0.047) for {'max_depth': 4, 'n_estimators': 64}.\n",
      "0.854 (+/-0.052) for {'max_depth': 4, 'n_estimators': 128}.\n",
      "0.856 (+/-0.052) for {'max_depth': 4, 'n_estimators': 256}.\n",
      "0.857 (+/-0.053) for {'max_depth': 4, 'n_estimators': 512}.\n",
      "0.842 (+/-0.046) for {'max_depth': 8, 'n_estimators': 8}.\n",
      "0.842 (+/-0.059) for {'max_depth': 8, 'n_estimators': 16}.\n",
      "0.839 (+/-0.046) for {'max_depth': 8, 'n_estimators': 32}.\n",
      "0.846 (+/-0.048) for {'max_depth': 8, 'n_estimators': 64}.\n",
      "0.842 (+/-0.039) for {'max_depth': 8, 'n_estimators': 128}.\n",
      "0.842 (+/-0.055) for {'max_depth': 8, 'n_estimators': 256}.\n",
      "0.839 (+/-0.048) for {'max_depth': 8, 'n_estimators': 512}.\n",
      "0.816 (+/-0.043) for {'max_depth': 16, 'n_estimators': 8}.\n",
      "0.836 (+/-0.046) for {'max_depth': 16, 'n_estimators': 16}.\n",
      "0.832 (+/-0.079) for {'max_depth': 16, 'n_estimators': 32}.\n",
      "0.834 (+/-0.045) for {'max_depth': 16, 'n_estimators': 64}.\n",
      "0.837 (+/-0.042) for {'max_depth': 16, 'n_estimators': 128}.\n",
      "0.836 (+/-0.051) for {'max_depth': 16, 'n_estimators': 256}.\n",
      "0.839 (+/-0.039) for {'max_depth': 16, 'n_estimators': 512}.\n",
      "0.818 (+/-0.09) for {'max_depth': 32, 'n_estimators': 8}.\n",
      "0.829 (+/-0.064) for {'max_depth': 32, 'n_estimators': 16}.\n",
      "0.839 (+/-0.06) for {'max_depth': 32, 'n_estimators': 32}.\n",
      "0.832 (+/-0.045) for {'max_depth': 32, 'n_estimators': 64}.\n",
      "0.844 (+/-0.039) for {'max_depth': 32, 'n_estimators': 128}.\n",
      "0.837 (+/-0.043) for {'max_depth': 32, 'n_estimators': 256}.\n",
      "0.842 (+/-0.046) for {'max_depth': 32, 'n_estimators': 512}.\n",
      "0.826 (+/-0.051) for {'max_depth': None, 'n_estimators': 8}.\n",
      "0.826 (+/-0.033) for {'max_depth': None, 'n_estimators': 16}.\n",
      "0.837 (+/-0.047) for {'max_depth': None, 'n_estimators': 32}.\n",
      "0.834 (+/-0.056) for {'max_depth': None, 'n_estimators': 64}.\n",
      "0.836 (+/-0.044) for {'max_depth': None, 'n_estimators': 128}.\n",
      "0.834 (+/-0.044) for {'max_depth': None, 'n_estimators': 256}.\n",
      "0.839 (+/-0.043) for {'max_depth': None, 'n_estimators': 512}.\n"
     ]
    }
   ],
   "source": [
    " # GridSearch\n",
    "rf = RandomForestClassifier()\n",
    "parameters ={\n",
    "    'n_estimators':[2**i for i in range(3,10)],\n",
    "    'max_depth':[2, 4, 8, 16, 32, None]\n",
    "}\n",
    "cv = GridSearchCV(rf, parameters, cv=5)\n",
    "cv.fit(train_features, train_labels.values.ravel())\n",
    "\n",
    "print_results(cv)"
   ]
  },
  {
   "cell_type": "code",
   "execution_count": 18,
   "metadata": {},
   "outputs": [
    {
     "data": {
      "image/png": "[encoded data removed]",
      "text/plain": [
       "<Figure size 432x288 with 1 Axes>"
      ]
     },
     "metadata": {
      "needs_background": "light"
     },
     "output_type": "display_data"
    }
   ],
   "source": [
    "# Generate feature importance plot\n",
    "feat_imp = cv.best_estimator_.feature_importances_\n",
    "indices = np.argsort(feat_imp)\n",
    "plt.yticks(range(len(indices)), [train_features.columns[i] for i in indices])\n",
    "plt.barh(range(len(indices)), feat_imp[indices], color='r', align='center')\n",
    "plt.show()"
   ]
  },
  {
   "cell_type": "code",
   "execution_count": 19,
   "metadata": {},
   "outputs": [
    {
     "data": {
      "text/plain": [
       "['models/mdl_all_features.pkl']"
      ]
     },
     "execution_count": 19,
     "metadata": {},
     "output_type": "execute_result"
    }
   ],
   "source": [
    "# GridSearchCV automatically makes a best_estimator_ atrribute on a riffiting of the model on 100% of the data\n",
    "joblib.dump(cv.best_estimator_, 'models/mdl_all_features.pkl')"
   ]
  },
  {
   "cell_type": "code",
   "execution_count": 20,
   "metadata": {},
   "outputs": [
    {
     "data": {
      "text/html": [
       "<div>\n",
       "<style scoped>\n",
       "    .dataframe tbody tr th:only-of-type {\n",
       "        vertical-align: middle;\n",
       "    }\n",
       "\n",
       "    .dataframe tbody tr th {\n",
       "        vertical-align: top;\n",
       "    }\n",
       "\n",
       "    .dataframe thead th {\n",
       "        text-align: right;\n",
       "    }\n",
       "</style>\n",
       "<table border=\"1\" class=\"dataframe\">\n",
       "  <thead>\n",
       "    <tr style=\"text-align: right;\">\n",
       "      <th></th>\n",
       "      <th>line_length_trans</th>\n",
       "      <th>verb_percentage</th>\n",
       "      <th>stopword_percentage_trans</th>\n",
       "    </tr>\n",
       "  </thead>\n",
       "  <tbody>\n",
       "    <tr>\n",
       "      <th>0</th>\n",
       "      <td>1.245731</td>\n",
       "      <td>0.0</td>\n",
       "      <td>0.000000</td>\n",
       "    </tr>\n",
       "    <tr>\n",
       "      <th>1</th>\n",
       "      <td>1.531531</td>\n",
       "      <td>6.2</td>\n",
       "      <td>2.366432</td>\n",
       "    </tr>\n",
       "    <tr>\n",
       "      <th>2</th>\n",
       "      <td>1.174619</td>\n",
       "      <td>0.0</td>\n",
       "      <td>4.472136</td>\n",
       "    </tr>\n",
       "    <tr>\n",
       "      <th>3</th>\n",
       "      <td>1.430969</td>\n",
       "      <td>0.0</td>\n",
       "      <td>0.000000</td>\n",
       "    </tr>\n",
       "    <tr>\n",
       "      <th>4</th>\n",
       "      <td>1.311019</td>\n",
       "      <td>0.0</td>\n",
       "      <td>0.000000</td>\n",
       "    </tr>\n",
       "  </tbody>\n",
       "</table>\n",
       "</div>"
      ],
      "text/plain": [
       "   line_length_trans  verb_percentage  stopword_percentage_trans\n",
       "0           1.245731              0.0                   0.000000\n",
       "1           1.531531              6.2                   2.366432\n",
       "2           1.174619              0.0                   4.472136\n",
       "3           1.430969              0.0                   0.000000\n",
       "4           1.311019              0.0                   0.000000"
      ]
     },
     "execution_count": 20,
     "metadata": {},
     "output_type": "execute_result"
    }
   ],
   "source": [
    "# Reduced Features\n",
    "train_features = pd.read_csv('output/train_features_reduced.csv')\n",
    "train_labels = pd.read_csv('output/train_labels.csv')\n",
    "\n",
    "train_features.head()"
   ]
  },
  {
   "cell_type": "code",
   "execution_count": 21,
   "metadata": {},
   "outputs": [
    {
     "data": {
      "text/plain": [
       "<AxesSubplot:>"
      ]
     },
     "execution_count": 21,
     "metadata": {},
     "output_type": "execute_result"
    },
    {
     "data": {
      "image/png": "[encoded data removed]",
      "text/plain": [
       "<Figure size 432x288 with 2 Axes>"
      ]
     },
     "metadata": {
      "needs_background": "light"
     },
     "output_type": "display_data"
    }
   ],
   "source": [
    "# Generate correlation matrix heat map\n",
    "matrix = np.triu(train_features.corr())\n",
    "sns.heatmap(train_features.corr(), annot=True, fmt='.1f', vmin=-1, vmax=1, center=0, cmap='coolwarm', mask=matrix)"
   ]
  },
  {
   "cell_type": "code",
   "execution_count": 22,
   "metadata": {},
   "outputs": [
    {
     "name": "stdout",
     "output_type": "stream",
     "text": [
      "BEST PARAMS: {'max_depth': 2, 'n_estimators': 16}\n",
      "\n",
      "0.854 (+/-0.04) for {'max_depth': 2, 'n_estimators': 8}.\n",
      "0.857 (+/-0.041) for {'max_depth': 2, 'n_estimators': 16}.\n",
      "0.854 (+/-0.048) for {'max_depth': 2, 'n_estimators': 32}.\n",
      "0.846 (+/-0.069) for {'max_depth': 2, 'n_estimators': 64}.\n",
      "0.857 (+/-0.046) for {'max_depth': 2, 'n_estimators': 128}.\n",
      "0.852 (+/-0.061) for {'max_depth': 2, 'n_estimators': 256}.\n",
      "0.849 (+/-0.068) for {'max_depth': 2, 'n_estimators': 512}.\n",
      "0.842 (+/-0.058) for {'max_depth': 4, 'n_estimators': 8}.\n",
      "0.851 (+/-0.053) for {'max_depth': 4, 'n_estimators': 16}.\n",
      "0.857 (+/-0.044) for {'max_depth': 4, 'n_estimators': 32}.\n",
      "0.854 (+/-0.034) for {'max_depth': 4, 'n_estimators': 64}.\n",
      "0.851 (+/-0.049) for {'max_depth': 4, 'n_estimators': 128}.\n",
      "0.856 (+/-0.045) for {'max_depth': 4, 'n_estimators': 256}.\n",
      "0.857 (+/-0.046) for {'max_depth': 4, 'n_estimators': 512}.\n",
      "0.839 (+/-0.056) for {'max_depth': 8, 'n_estimators': 8}.\n",
      "0.832 (+/-0.062) for {'max_depth': 8, 'n_estimators': 16}.\n",
      "0.832 (+/-0.056) for {'max_depth': 8, 'n_estimators': 32}.\n",
      "0.839 (+/-0.052) for {'max_depth': 8, 'n_estimators': 64}.\n",
      "0.837 (+/-0.067) for {'max_depth': 8, 'n_estimators': 128}.\n",
      "0.841 (+/-0.058) for {'max_depth': 8, 'n_estimators': 256}.\n",
      "0.837 (+/-0.07) for {'max_depth': 8, 'n_estimators': 512}.\n",
      "0.813 (+/-0.084) for {'max_depth': 16, 'n_estimators': 8}.\n",
      "0.831 (+/-0.061) for {'max_depth': 16, 'n_estimators': 16}.\n",
      "0.819 (+/-0.078) for {'max_depth': 16, 'n_estimators': 32}.\n",
      "0.834 (+/-0.07) for {'max_depth': 16, 'n_estimators': 64}.\n",
      "0.827 (+/-0.063) for {'max_depth': 16, 'n_estimators': 128}.\n",
      "0.834 (+/-0.06) for {'max_depth': 16, 'n_estimators': 256}.\n",
      "0.827 (+/-0.068) for {'max_depth': 16, 'n_estimators': 512}.\n",
      "0.821 (+/-0.105) for {'max_depth': 32, 'n_estimators': 8}.\n",
      "0.831 (+/-0.066) for {'max_depth': 32, 'n_estimators': 16}.\n",
      "0.837 (+/-0.07) for {'max_depth': 32, 'n_estimators': 32}.\n",
      "0.832 (+/-0.057) for {'max_depth': 32, 'n_estimators': 64}.\n",
      "0.826 (+/-0.076) for {'max_depth': 32, 'n_estimators': 128}.\n",
      "0.837 (+/-0.064) for {'max_depth': 32, 'n_estimators': 256}.\n",
      "0.829 (+/-0.074) for {'max_depth': 32, 'n_estimators': 512}.\n",
      "0.808 (+/-0.071) for {'max_depth': None, 'n_estimators': 8}.\n",
      "0.837 (+/-0.058) for {'max_depth': None, 'n_estimators': 16}.\n",
      "0.831 (+/-0.05) for {'max_depth': None, 'n_estimators': 32}.\n",
      "0.824 (+/-0.082) for {'max_depth': None, 'n_estimators': 64}.\n",
      "0.831 (+/-0.073) for {'max_depth': None, 'n_estimators': 128}.\n",
      "0.826 (+/-0.061) for {'max_depth': None, 'n_estimators': 256}.\n",
      "0.837 (+/-0.064) for {'max_depth': None, 'n_estimators': 512}.\n"
     ]
    }
   ],
   "source": [
    " # GridSearch\n",
    "rf = RandomForestClassifier()\n",
    "parameters ={\n",
    "    'n_estimators':[2**i for i in range(3,10)],\n",
    "    'max_depth':[2, 4, 8, 16, 32, None]\n",
    "}\n",
    "cv = GridSearchCV(rf, parameters, cv=5)\n",
    "cv.fit(train_features, train_labels.values.ravel())\n",
    "\n",
    "print_results(cv)"
   ]
  },
  {
   "cell_type": "code",
   "execution_count": 23,
   "metadata": {},
   "outputs": [
    {
     "data": {
      "image/png": "[encoded data removed]",
      "text/plain": [
       "<Figure size 432x288 with 1 Axes>"
      ]
     },
     "metadata": {
      "needs_background": "light"
     },
     "output_type": "display_data"
    }
   ],
   "source": [
    "# Generate feature importance plot\n",
    "feat_imp = cv.best_estimator_.feature_importances_\n",
    "indices = np.argsort(feat_imp)\n",
    "plt.yticks(range(len(indices)), [train_features.columns[i] for i in indices])\n",
    "plt.barh(range(len(indices)), feat_imp[indices], color='r', align='center')\n",
    "plt.show()"
   ]
  },
  {
   "cell_type": "code",
   "execution_count": 24,
   "metadata": {},
   "outputs": [
    {
     "data": {
      "text/plain": [
       "['models/mdl_reduced_features.pkl']"
      ]
     },
     "execution_count": 24,
     "metadata": {},
     "output_type": "execute_result"
    }
   ],
   "source": [
    "# GridSearchCV automatically makes a best_estimator_ atrribute on a riffiting of the model on 100% of the data\n",
    "joblib.dump(cv.best_estimator_, 'models/mdl_reduced_features.pkl')"
   ]
  }
 ],
 "metadata": {
  "kernelspec": {
   "display_name": "Python 3",
   "language": "python",
   "name": "python3"
  },
  "language_info": {
   "codemirror_mode": {
    "name": "ipython",
    "version": 3
   },
   "file_extension": ".py",
   "mimetype": "text/x-python",
   "name": "python",
   "nbconvert_exporter": "python",
   "pygments_lexer": "ipython3",
   "version": "3.8.10"
  }
 },
 "nbformat": 4,
 "nbformat_minor": 4
}
