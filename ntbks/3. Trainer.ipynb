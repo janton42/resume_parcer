{
 "cells": [
  {
   "cell_type": "markdown",
   "metadata": {},
   "source": [
    "# Test for the Best Features and Algorithms\n",
    "\n",
    "Below are five algorithms, each will process one set of input. The output can be used to test and select features and algorithms to be used in the final model.\n",
    "\n",
    "Using several algorithms, find the best hyperparameters for them, and save a model to be tested later. All models created on this page should be tested for the best overall model. "
   ]
  },
  {
   "cell_type": "markdown",
   "metadata": {},
   "source": [
    "## Logistic Regression\n",
    "### Definition\n",
    "Regression: Statistical process for estimating the relationships among variables, often to make a prediction about some outcome.\n",
    "\n",
    "Linear: \n",
    "1. used for:\n",
    "    1. continuous target variabls y=mx+b\n",
    " \n",
    "\n",
    "Logistic:\n",
    "1. Used for:\n",
    "    1. binary target variable\n",
    "    2. Well-behaved data\n",
    "    3. Quick benchmarking\n",
    "2. Not good for\n",
    "    1. Continuous data\n",
    "    2. Fat or Skinny data\n",
    "    3. Massive data sets\n",
    "    4. High performance\n",
    "\n",
    "\n",
    "### Hyperparameters\n",
    "##### C\n",
    "1. Considered a regularization parameter\n",
    "C=1/$\\lambda$\n",
    "If $\\lambda$ = 0, then C = $\\infity$\n",
    "Therefore, Low Regularizaion = High Complexity, and More Likely to OVERFIT\n",
    "\n",
    "The inverse leads to UNDERFIT"
   ]
  },
  {
   "cell_type": "code",
   "execution_count": 1,
   "metadata": {},
   "outputs": [],
   "source": [
    "import joblib\n",
    "import pandas as pd\n",
    "import numpy as np\n",
    "import matplotlib.pyplot as plt\n",
    "import seaborn as sns\n",
    "from sklearn.linear_model import LogisticRegression\n",
    "from sklearn.model_selection import GridSearchCV\n",
    "# supress sklearn warnings\n",
    "def warn(*args, **kwargs):\n",
    "    pass\n",
    "import warnings\n",
    "warnings.warn = warn\n",
    "\n",
    "%matplotlib inline"
   ]
  },
  {
   "cell_type": "code",
   "execution_count": 60,
   "metadata": {},
   "outputs": [
    {
     "data": {
      "text/html": [
       "<div>\n",
       "<style scoped>\n",
       "    .dataframe tbody tr th:only-of-type {\n",
       "        vertical-align: middle;\n",
       "    }\n",
       "\n",
       "    .dataframe tbody tr th {\n",
       "        vertical-align: top;\n",
       "    }\n",
       "\n",
       "    .dataframe thead th {\n",
       "        text-align: right;\n",
       "    }\n",
       "</style>\n",
       "<table border=\"1\" class=\"dataframe\">\n",
       "  <thead>\n",
       "    <tr style=\"text-align: right;\">\n",
       "      <th></th>\n",
       "      <th>line_length</th>\n",
       "      <th>word_count</th>\n",
       "      <th>verb_percentage_trans</th>\n",
       "      <th>adj_percentage</th>\n",
       "    </tr>\n",
       "  </thead>\n",
       "  <tbody>\n",
       "    <tr>\n",
       "      <th>0</th>\n",
       "      <td>9</td>\n",
       "      <td>1</td>\n",
       "      <td>0.000000</td>\n",
       "      <td>0.0</td>\n",
       "    </tr>\n",
       "    <tr>\n",
       "      <th>1</th>\n",
       "      <td>71</td>\n",
       "      <td>15</td>\n",
       "      <td>1.837091</td>\n",
       "      <td>0.0</td>\n",
       "    </tr>\n",
       "    <tr>\n",
       "      <th>2</th>\n",
       "      <td>5</td>\n",
       "      <td>2</td>\n",
       "      <td>0.000000</td>\n",
       "      <td>0.0</td>\n",
       "    </tr>\n",
       "    <tr>\n",
       "      <th>3</th>\n",
       "      <td>36</td>\n",
       "      <td>4</td>\n",
       "      <td>0.000000</td>\n",
       "      <td>50.0</td>\n",
       "    </tr>\n",
       "    <tr>\n",
       "      <th>4</th>\n",
       "      <td>15</td>\n",
       "      <td>1</td>\n",
       "      <td>0.000000</td>\n",
       "      <td>100.0</td>\n",
       "    </tr>\n",
       "  </tbody>\n",
       "</table>\n",
       "</div>"
      ],
      "text/plain": [
       "   line_length  word_count  verb_percentage_trans  adj_percentage\n",
       "0            9           1               0.000000             0.0\n",
       "1           71          15               1.837091             0.0\n",
       "2            5           2               0.000000             0.0\n",
       "3           36           4               0.000000            50.0\n",
       "4           15           1               0.000000           100.0"
      ]
     },
     "execution_count": 60,
     "metadata": {},
     "output_type": "execute_result"
    }
   ],
   "source": [
    "# For feature/algorithm modeling, select one of the following as feature_set:\n",
    "# all, raw, trans, or 'reduced'.\n",
    "\n",
    "feature_set = 'reduced'\n",
    "\n",
    "tr_features = pd.read_csv('../output/train_features_{}.csv'.format(feature_set))\n",
    "tr_labels = pd.read_csv('../output/train_labels.csv')\n",
    "\n",
    "\n",
    "\n",
    "tr_features.head()"
   ]
  },
  {
   "cell_type": "markdown",
   "metadata": {},
   "source": [
    "## Correlated Features\n",
    "Check for high (postive or negative) correlation between features. This could cause noise for the model, and confuse it.\n",
    "\n",
    "Reducing this noise can be done"
   ]
  },
  {
   "cell_type": "code",
   "execution_count": 61,
   "metadata": {},
   "outputs": [
    {
     "data": {
      "text/plain": [
       "<AxesSubplot:>"
      ]
     },
     "execution_count": 61,
     "metadata": {},
     "output_type": "execute_result"
    },
    {
     "data": {
      "image/png": "[encoded data removed]",
      "text/plain": [
       "<Figure size 432x288 with 2 Axes>"
      ]
     },
     "metadata": {
      "needs_background": "light"
     },
     "output_type": "display_data"
    }
   ],
   "source": [
    "# Generate correlation matrix heat map\n",
    "matrix = np.triu(tr_features.corr())\n",
    "sns.heatmap(tr_features.corr(), annot=True, fmt='.1f', vmin=-1, vmax=1, center=0, cmap='coolwarm', mask=matrix)"
   ]
  },
  {
   "cell_type": "code",
   "execution_count": 62,
   "metadata": {},
   "outputs": [],
   "source": [
    "def print_results(results):\n",
    "    print('BEST PARAMS: {}\\n'.format(results.best_params_))\n",
    "    \n",
    "    means = results.cv_results_['mean_test_score']\n",
    "    stds = results.cv_results_['std_test_score']\n",
    "    for mean, std, params in zip(means, stds, results.cv_results_['params']):\n",
    "        print('{} (+/-{}) for {}.'.format(round(mean, 3), round(std*2, 3), params))\n",
    "        "
   ]
  },
  {
   "cell_type": "code",
   "execution_count": 63,
   "metadata": {},
   "outputs": [
    {
     "name": "stdout",
     "output_type": "stream",
     "text": [
      "BEST PARAMS: {'C': 0.001}\n",
      "\n",
      "0.975 (+/-0.0) for {'C': 0.001}.\n",
      "0.975 (+/-0.0) for {'C': 0.01}.\n",
      "0.975 (+/-0.0) for {'C': 0.1}.\n",
      "0.975 (+/-0.0) for {'C': 1}.\n",
      "0.975 (+/-0.0) for {'C': 10}.\n",
      "0.975 (+/-0.0) for {'C': 100}.\n",
      "0.975 (+/-0.0) for {'C': 1000}.\n"
     ]
    }
   ],
   "source": [
    "lr = LogisticRegression()\n",
    "parameters = {\n",
    "    'C':[0.001, 0.01, 0.1, 1, 10, 100, 1000]\n",
    "}\n",
    "\n",
    "cv = GridSearchCV(lr, parameters, cv=5)\n",
    "\n",
    "cv.fit(tr_features, tr_labels.values.ravel())\n",
    "\n",
    "print_results(cv)"
   ]
  },
  {
   "cell_type": "code",
   "execution_count": 64,
   "metadata": {},
   "outputs": [
    {
     "data": {
      "text/plain": [
       "['../models/lr_mdl_reduced_features.pkl']"
      ]
     },
     "execution_count": 64,
     "metadata": {},
     "output_type": "execute_result"
    }
   ],
   "source": [
    "joblib.dump(cv.best_estimator_,'../models/lr_mdl_{}_features.pkl'.format(feature_set))\n"
   ]
  },
  {
   "cell_type": "markdown",
   "metadata": {},
   "source": [
    "## Support Vector Machine\n",
    "### Definition\n",
    "Classifier that finds an optimal hyperplane that maximizes the margin between two classes. SVM\n",
    "\n",
    "Kernel trick (or method) transforms data that is not linearly seperable in n-dimensional space to a higher dimension where it is linearly seperable.\n",
    "\n",
    "When to use SVM:\n",
    "1. Binary target variable\n",
    "2. Feature to tow ratio is high (Short and Fat data)\n",
    "3. Very complex relationships\n",
    "4. Lots of outliers\n",
    "\n",
    "When not to use it:\n",
    "1. Feature-to-row is very low\n",
    "2. Time or compute power are constraints\n",
    "3. Transparancy is important\n",
    "\n",
    "\n",
    "### Hyperperameters\n",
    "#### C\n",
    "Regularization parameter: it is a penalty term that dertimines how closely the model fits to the training set.\n",
    "#### Kernel\n",
    "Determines the time of transformation that makes the data linearly seperable"
   ]
  },
  {
   "cell_type": "code",
   "execution_count": 65,
   "metadata": {},
   "outputs": [
    {
     "data": {
      "text/html": [
       "<style>#sk-container-id-4 {color: black;background-color: white;}#sk-container-id-4 pre{padding: 0;}#sk-container-id-4 div.sk-toggleable {background-color: white;}#sk-container-id-4 label.sk-toggleable__label {cursor: pointer;display: block;width: 100%;margin-bottom: 0;padding: 0.3em;box-sizing: border-box;text-align: center;}#sk-container-id-4 label.sk-toggleable__label-arrow:before {content: \"▸\";float: left;margin-right: 0.25em;color: #696969;}#sk-container-id-4 label.sk-toggleable__label-arrow:hover:before {color: black;}#sk-container-id-4 div.sk-estimator:hover label.sk-toggleable__label-arrow:before {color: black;}#sk-container-id-4 div.sk-toggleable__content {max-height: 0;max-width: 0;overflow: hidden;text-align: left;background-color: #f0f8ff;}#sk-container-id-4 div.sk-toggleable__content pre {margin: 0.2em;color: black;border-radius: 0.25em;background-color: #f0f8ff;}#sk-container-id-4 input.sk-toggleable__control:checked~div.sk-toggleable__content {max-height: 200px;max-width: 100%;overflow: auto;}#sk-container-id-4 input.sk-toggleable__control:checked~label.sk-toggleable__label-arrow:before {content: \"▾\";}#sk-container-id-4 div.sk-estimator input.sk-toggleable__control:checked~label.sk-toggleable__label {background-color: #d4ebff;}#sk-container-id-4 div.sk-label input.sk-toggleable__control:checked~label.sk-toggleable__label {background-color: #d4ebff;}#sk-container-id-4 input.sk-hidden--visually {border: 0;clip: rect(1px 1px 1px 1px);clip: rect(1px, 1px, 1px, 1px);height: 1px;margin: -1px;overflow: hidden;padding: 0;position: absolute;width: 1px;}#sk-container-id-4 div.sk-estimator {font-family: monospace;background-color: #f0f8ff;border: 1px dotted black;border-radius: 0.25em;box-sizing: border-box;margin-bottom: 0.5em;}#sk-container-id-4 div.sk-estimator:hover {background-color: #d4ebff;}#sk-container-id-4 div.sk-parallel-item::after {content: \"\";width: 100%;border-bottom: 1px solid gray;flex-grow: 1;}#sk-container-id-4 div.sk-label:hover label.sk-toggleable__label {background-color: #d4ebff;}#sk-container-id-4 div.sk-serial::before {content: \"\";position: absolute;border-left: 1px solid gray;box-sizing: border-box;top: 0;bottom: 0;left: 50%;z-index: 0;}#sk-container-id-4 div.sk-serial {display: flex;flex-direction: column;align-items: center;background-color: white;padding-right: 0.2em;padding-left: 0.2em;position: relative;}#sk-container-id-4 div.sk-item {position: relative;z-index: 1;}#sk-container-id-4 div.sk-parallel {display: flex;align-items: stretch;justify-content: center;background-color: white;position: relative;}#sk-container-id-4 div.sk-item::before, #sk-container-id-4 div.sk-parallel-item::before {content: \"\";position: absolute;border-left: 1px solid gray;box-sizing: border-box;top: 0;bottom: 0;left: 50%;z-index: -1;}#sk-container-id-4 div.sk-parallel-item {display: flex;flex-direction: column;z-index: 1;position: relative;background-color: white;}#sk-container-id-4 div.sk-parallel-item:first-child::after {align-self: flex-end;width: 50%;}#sk-container-id-4 div.sk-parallel-item:last-child::after {align-self: flex-start;width: 50%;}#sk-container-id-4 div.sk-parallel-item:only-child::after {width: 0;}#sk-container-id-4 div.sk-dashed-wrapped {border: 1px dashed gray;margin: 0 0.4em 0.5em 0.4em;box-sizing: border-box;padding-bottom: 0.4em;background-color: white;}#sk-container-id-4 div.sk-label label {font-family: monospace;font-weight: bold;display: inline-block;line-height: 1.2em;}#sk-container-id-4 div.sk-label-container {text-align: center;}#sk-container-id-4 div.sk-container {/* jupyter's `normalize.less` sets `[hidden] { display: none; }` but bootstrap.min.css set `[hidden] { display: none !important; }` so we also need the `!important` here to be able to override the default hidden behavior on the sphinx rendered scikit-learn.org. See: https://github.com/scikit-learn/scikit-learn/issues/21755 */display: inline-block !important;position: relative;}#sk-container-id-4 div.sk-text-repr-fallback {display: none;}</style><div id=\"sk-container-id-4\" class=\"sk-top-container\"><div class=\"sk-text-repr-fallback\"><pre>SVC()</pre><b>In a Jupyter environment, please rerun this cell to show the HTML representation or trust the notebook. <br />On GitHub, the HTML representation is unable to render, please try loading this page with nbviewer.org.</b></div><div class=\"sk-container\" hidden><div class=\"sk-item\"><div class=\"sk-estimator sk-toggleable\"><input class=\"sk-toggleable__control sk-hidden--visually\" id=\"sk-estimator-id-4\" type=\"checkbox\" checked><label for=\"sk-estimator-id-4\" class=\"sk-toggleable__label sk-toggleable__label-arrow\">SVC</label><div class=\"sk-toggleable__content\"><pre>SVC()</pre></div></div></div></div></div>"
      ],
      "text/plain": [
       "SVC()"
      ]
     },
     "execution_count": 65,
     "metadata": {},
     "output_type": "execute_result"
    }
   ],
   "source": [
    "from sklearn.svm import SVC\n",
    "\n",
    "SVC()"
   ]
  },
  {
   "cell_type": "code",
   "execution_count": 66,
   "metadata": {
    "scrolled": true
   },
   "outputs": [
    {
     "name": "stdout",
     "output_type": "stream",
     "text": [
      "BEST PARAMS: {'C': 0.1, 'kernel': 'linear'}\n",
      "\n",
      "0.975 (+/-0.0) for {'C': 0.1, 'kernel': 'linear'}.\n",
      "0.975 (+/-0.0) for {'C': 0.1, 'kernel': 'rbf'}.\n",
      "0.975 (+/-0.0) for {'C': 1, 'kernel': 'linear'}.\n",
      "0.975 (+/-0.0) for {'C': 1, 'kernel': 'rbf'}.\n",
      "0.975 (+/-0.0) for {'C': 10, 'kernel': 'linear'}.\n",
      "0.973 (+/-0.007) for {'C': 10, 'kernel': 'rbf'}.\n"
     ]
    }
   ],
   "source": [
    "# Optimize hyperperameters\n",
    "svc = SVC()\n",
    "parameters = {\n",
    "    'kernel': ['linear', 'rbf'],\n",
    "    'C': [0.1, 1, 10]\n",
    "}\n",
    "\n",
    "cv = GridSearchCV(svc, parameters, cv=5)\n",
    "\n",
    "cv.fit(tr_features, tr_labels.values.ravel())\n",
    "print_results(cv)"
   ]
  },
  {
   "cell_type": "code",
   "execution_count": 67,
   "metadata": {},
   "outputs": [
    {
     "data": {
      "text/plain": [
       "['../models/svm_mdl_reduced_features.pkl']"
      ]
     },
     "execution_count": 67,
     "metadata": {},
     "output_type": "execute_result"
    }
   ],
   "source": [
    "joblib.dump(cv.best_estimator_,'../models/svm_mdl_{}_features.pkl'.format(feature_set))\n"
   ]
  },
  {
   "cell_type": "markdown",
   "metadata": {},
   "source": [
    "## Multilayer Perceptron\n",
    "### Definition\n",
    "Classic feed-forward artificial neural network, the core component of deep learning.\n",
    "\n",
    "Directed, a-cyclic graph\n",
    "\n",
    "What is it used for:\n",
    "1. Categorical or continuous target values (both classification and regression)\n",
    "2. Very complex relationships, care about performance above all else\n",
    "3. Control over the training process is important\n",
    "\n",
    "What is it not good for:\n",
    "1. Image recogniton, time series, etc.\n",
    "2. Transparency is important\n",
    "3. Quick benchmarking\n",
    "4. Small data sets\n",
    "\n",
    "### Hyperperameters\n",
    "\n",
    "#### Activation\n",
    "Non-linearity introduced into the model\n",
    "The functions in the hidden layers\n",
    "\n",
    "Types\n",
    "1. Sigmoid (s-curve)\n",
    "2. TanH\n",
    "3. ReLU (very popular\n",
    "\n",
    "#### Hidden Layer Size\n",
    "How many hidden layers there are, and how many nodes are in each\n",
    "Controls the complexity of the model\n",
    "\n",
    "#### Learning Rate\n",
    "Whether or not the algorithm will find the optimal solution, and quickly it should do so.\n",
    "\n",
    "High rate - won't find the optimal solution, but won't take long\n",
    "Low rate - will find the optimal solution, but will take a really long time. Too low of a rate will give false optimal solutions\n"
   ]
  },
  {
   "cell_type": "code",
   "execution_count": 68,
   "metadata": {},
   "outputs": [],
   "source": [
    "from sklearn.neural_network import MLPClassifier"
   ]
  },
  {
   "cell_type": "code",
   "execution_count": 69,
   "metadata": {
    "scrolled": true
   },
   "outputs": [
    {
     "name": "stdout",
     "output_type": "stream",
     "text": [
      "BEST PARAMS: {'activation': 'relu', 'hidden_layer_sizes': (50,), 'learning_rate': 'constant'}\n",
      "\n",
      "0.965 (+/-0.019) for {'activation': 'relu', 'hidden_layer_sizes': (10,), 'learning_rate': 'constant'}.\n",
      "0.973 (+/-0.007) for {'activation': 'relu', 'hidden_layer_sizes': (10,), 'learning_rate': 'invscaling'}.\n",
      "0.969 (+/-0.026) for {'activation': 'relu', 'hidden_layer_sizes': (10,), 'learning_rate': 'adaptive'}.\n",
      "0.975 (+/-0.0) for {'activation': 'relu', 'hidden_layer_sizes': (50,), 'learning_rate': 'constant'}.\n",
      "0.975 (+/-0.0) for {'activation': 'relu', 'hidden_layer_sizes': (50,), 'learning_rate': 'invscaling'}.\n",
      "0.975 (+/-0.0) for {'activation': 'relu', 'hidden_layer_sizes': (50,), 'learning_rate': 'adaptive'}.\n",
      "0.975 (+/-0.0) for {'activation': 'relu', 'hidden_layer_sizes': (100,), 'learning_rate': 'constant'}.\n",
      "0.975 (+/-0.0) for {'activation': 'relu', 'hidden_layer_sizes': (100,), 'learning_rate': 'invscaling'}.\n",
      "0.97 (+/-0.02) for {'activation': 'relu', 'hidden_layer_sizes': (100,), 'learning_rate': 'adaptive'}.\n",
      "0.975 (+/-0.0) for {'activation': 'tanh', 'hidden_layer_sizes': (10,), 'learning_rate': 'constant'}.\n",
      "0.975 (+/-0.0) for {'activation': 'tanh', 'hidden_layer_sizes': (10,), 'learning_rate': 'invscaling'}.\n",
      "0.975 (+/-0.0) for {'activation': 'tanh', 'hidden_layer_sizes': (10,), 'learning_rate': 'adaptive'}.\n",
      "0.975 (+/-0.0) for {'activation': 'tanh', 'hidden_layer_sizes': (50,), 'learning_rate': 'constant'}.\n",
      "0.975 (+/-0.0) for {'activation': 'tanh', 'hidden_layer_sizes': (50,), 'learning_rate': 'invscaling'}.\n",
      "0.975 (+/-0.0) for {'activation': 'tanh', 'hidden_layer_sizes': (50,), 'learning_rate': 'adaptive'}.\n",
      "0.975 (+/-0.0) for {'activation': 'tanh', 'hidden_layer_sizes': (100,), 'learning_rate': 'constant'}.\n",
      "0.975 (+/-0.0) for {'activation': 'tanh', 'hidden_layer_sizes': (100,), 'learning_rate': 'invscaling'}.\n",
      "0.975 (+/-0.0) for {'activation': 'tanh', 'hidden_layer_sizes': (100,), 'learning_rate': 'adaptive'}.\n",
      "0.975 (+/-0.0) for {'activation': 'logistic', 'hidden_layer_sizes': (10,), 'learning_rate': 'constant'}.\n",
      "0.975 (+/-0.0) for {'activation': 'logistic', 'hidden_layer_sizes': (10,), 'learning_rate': 'invscaling'}.\n",
      "0.975 (+/-0.0) for {'activation': 'logistic', 'hidden_layer_sizes': (10,), 'learning_rate': 'adaptive'}.\n",
      "0.975 (+/-0.0) for {'activation': 'logistic', 'hidden_layer_sizes': (50,), 'learning_rate': 'constant'}.\n",
      "0.975 (+/-0.0) for {'activation': 'logistic', 'hidden_layer_sizes': (50,), 'learning_rate': 'invscaling'}.\n",
      "0.975 (+/-0.0) for {'activation': 'logistic', 'hidden_layer_sizes': (50,), 'learning_rate': 'adaptive'}.\n",
      "0.975 (+/-0.0) for {'activation': 'logistic', 'hidden_layer_sizes': (100,), 'learning_rate': 'constant'}.\n",
      "0.975 (+/-0.0) for {'activation': 'logistic', 'hidden_layer_sizes': (100,), 'learning_rate': 'invscaling'}.\n",
      "0.975 (+/-0.0) for {'activation': 'logistic', 'hidden_layer_sizes': (100,), 'learning_rate': 'adaptive'}.\n"
     ]
    }
   ],
   "source": [
    "mlp = MLPClassifier()\n",
    "parameters = {\n",
    "    'hidden_layer_sizes': [(10,),(50,),(100,)],\n",
    "    'activation': ['relu', 'tanh', 'logistic'],\n",
    "    'learning_rate':['constant', 'invscaling', 'adaptive']\n",
    "}\n",
    "\n",
    "cv = GridSearchCV(mlp, parameters, cv=5)\n",
    "\n",
    "cv.fit(tr_features, tr_labels.values.ravel())\n",
    "print_results(cv)"
   ]
  },
  {
   "cell_type": "code",
   "execution_count": 70,
   "metadata": {},
   "outputs": [
    {
     "data": {
      "text/plain": [
       "['../models/mlp_mdl_reduced_features.pkl']"
      ]
     },
     "execution_count": 70,
     "metadata": {},
     "output_type": "execute_result"
    }
   ],
   "source": [
    "joblib.dump(cv.best_estimator_,'../models/mlp_mdl_{}_features.pkl'.format(feature_set))\n"
   ]
  },
  {
   "cell_type": "markdown",
   "metadata": {},
   "source": [
    "## Random Forest\n",
    "Merges a collection of independent decision trees to get a more accurate and stable prediction\n",
    "\n",
    "Is an ensamble method, which reduces bias and variance\n",
    "\n",
    "Independently built decision trees on separate samples of data\n",
    "\n",
    "When to use it:\n",
    "1. Categorical or continuous target variables\n",
    "2. Interested in significance of predictors\n",
    "3. Need a quick benchmark model\n",
    "4. Really messy data\n",
    "\n",
    "When not to use it:\n",
    "1. Probably not the best model for a problem. Can get you 90% there, but probably not 100%\n",
    "2. Quick to train, but not as quick to make predictions\n",
    "3. Good performance, but not the best\n",
    "4. Like a swiss army knife\n",
    "\n",
    "### Hyperperamters\n",
    "\n",
    "#### n_estimators\n",
    "How many independent decision trees are built\n",
    "Width of the model\n",
    "\n",
    "#### max_depth\n",
    "How deep the decision trees can go\n",
    "Depth of the model"
   ]
  },
  {
   "cell_type": "code",
   "execution_count": 71,
   "metadata": {},
   "outputs": [],
   "source": [
    "from sklearn.ensemble import RandomForestClassifier"
   ]
  },
  {
   "cell_type": "code",
   "execution_count": 72,
   "metadata": {},
   "outputs": [
    {
     "name": "stdout",
     "output_type": "stream",
     "text": [
      "BEST PARAMS: {'max_depth': 2, 'n_estimators': 5}\n",
      "\n",
      "0.975 (+/-0.0) for {'max_depth': 2, 'n_estimators': 5}.\n",
      "0.975 (+/-0.0) for {'max_depth': 2, 'n_estimators': 50}.\n",
      "0.975 (+/-0.0) for {'max_depth': 2, 'n_estimators': 250}.\n",
      "0.973 (+/-0.007) for {'max_depth': 4, 'n_estimators': 5}.\n",
      "0.975 (+/-0.0) for {'max_depth': 4, 'n_estimators': 50}.\n",
      "0.975 (+/-0.0) for {'max_depth': 4, 'n_estimators': 250}.\n",
      "0.965 (+/-0.016) for {'max_depth': 8, 'n_estimators': 5}.\n",
      "0.975 (+/-0.0) for {'max_depth': 8, 'n_estimators': 50}.\n",
      "0.975 (+/-0.0) for {'max_depth': 8, 'n_estimators': 250}.\n",
      "0.97 (+/-0.02) for {'max_depth': 16, 'n_estimators': 5}.\n",
      "0.975 (+/-0.0) for {'max_depth': 16, 'n_estimators': 50}.\n",
      "0.975 (+/-0.0) for {'max_depth': 16, 'n_estimators': 250}.\n",
      "0.97 (+/-0.013) for {'max_depth': 32, 'n_estimators': 5}.\n",
      "0.973 (+/-0.007) for {'max_depth': 32, 'n_estimators': 50}.\n",
      "0.975 (+/-0.0) for {'max_depth': 32, 'n_estimators': 250}.\n",
      "0.97 (+/-0.013) for {'max_depth': None, 'n_estimators': 5}.\n",
      "0.972 (+/-0.008) for {'max_depth': None, 'n_estimators': 50}.\n",
      "0.975 (+/-0.0) for {'max_depth': None, 'n_estimators': 250}.\n"
     ]
    }
   ],
   "source": [
    "rf = RandomForestClassifier()\n",
    "parameters = {\n",
    "    'n_estimators': [5, 50, 250],\n",
    "    'max_depth': [2, 4, 8, 16, 32, None]\n",
    "}\n",
    "\n",
    "cv = GridSearchCV(rf, parameters, cv=5)\n",
    "\n",
    "cv.fit(tr_features, tr_labels.values.ravel())\n",
    "print_results(cv)"
   ]
  },
  {
   "cell_type": "code",
   "execution_count": 73,
   "metadata": {},
   "outputs": [
    {
     "data": {
      "image/png": "[encoded data removed]",
      "text/plain": [
       "<Figure size 432x288 with 1 Axes>"
      ]
     },
     "metadata": {
      "needs_background": "light"
     },
     "output_type": "display_data"
    }
   ],
   "source": [
    "# Generate feature importance plot\n",
    "feat_imp = cv.best_estimator_.feature_importances_\n",
    "indices = np.argsort(feat_imp)\n",
    "plt.yticks(range(len(indices)), [tr_features.columns[i] for i in indices])\n",
    "plt.barh(range(len(indices)), feat_imp[indices], color='r', align='center')\n",
    "plt.show()"
   ]
  },
  {
   "cell_type": "code",
   "execution_count": 74,
   "metadata": {},
   "outputs": [
    {
     "data": {
      "text/plain": [
       "['../models/rf_mdl_reduced_features.pkl']"
      ]
     },
     "execution_count": 74,
     "metadata": {},
     "output_type": "execute_result"
    }
   ],
   "source": [
    "joblib.dump(cv.best_estimator_,'../models/rf_mdl_{}_features.pkl'.format(feature_set))\n"
   ]
  },
  {
   "cell_type": "markdown",
   "metadata": {},
   "source": [
    "## Boosting\n",
    "### Definition\n",
    "Ensemble method that aggregates a number of weak (just better than random guess) models to create a strong (highly correlated and predictive) one.\n",
    "\n",
    "Each model learns from the mistakes of the model before it. \n",
    "Slow to train, but fast to predict.\n",
    "One of the most-used in machine learning\n",
    "Tends to overfit.\n",
    "Trees for boosting should be shallower than they are for random forest\n",
    "\n",
    "When is it used:\n",
    "1. Both categorical or continuous target variable\n",
    "2. Useful on nearly any type of problem\n",
    "3. Interested in significance of predictors\n",
    "4. Prediction time is important\n",
    "\n",
    "When is it not used:\n",
    "1. Transparancy is important\n",
    "2. Training time or compute power are important\n",
    "3. Data is very noisy\n",
    "\n",
    "### Hyperparameters\n",
    "Gradient boosted trees, which is only one type of boosting\n",
    "\n",
    "#### n_estimators \n",
    "Same as random forest\n",
    "\n",
    "#### max_depth\n",
    "Same as random forest\n",
    "\n",
    "#### learning_rate\n",
    "Actual learning rate, but remains constant, unlike multilayer perceptrons\n",
    "\n"
   ]
  },
  {
   "cell_type": "code",
   "execution_count": 75,
   "metadata": {},
   "outputs": [],
   "source": [
    "from sklearn.ensemble import GradientBoostingClassifier"
   ]
  },
  {
   "cell_type": "code",
   "execution_count": 76,
   "metadata": {},
   "outputs": [
    {
     "name": "stdout",
     "output_type": "stream",
     "text": [
      "BEST PARAMS: {'learning_rate': 0.01, 'max_depth': 1, 'n_estimators': 5}\n",
      "\n",
      "0.975 (+/-0.0) for {'learning_rate': 0.01, 'max_depth': 1, 'n_estimators': 5}.\n",
      "0.975 (+/-0.0) for {'learning_rate': 0.01, 'max_depth': 1, 'n_estimators': 50}.\n",
      "0.975 (+/-0.0) for {'learning_rate': 0.01, 'max_depth': 1, 'n_estimators': 250}.\n",
      "0.975 (+/-0.0) for {'learning_rate': 0.01, 'max_depth': 1, 'n_estimators': 500}.\n",
      "0.975 (+/-0.0) for {'learning_rate': 0.01, 'max_depth': 3, 'n_estimators': 5}.\n",
      "0.975 (+/-0.0) for {'learning_rate': 0.01, 'max_depth': 3, 'n_estimators': 50}.\n",
      "0.972 (+/-0.013) for {'learning_rate': 0.01, 'max_depth': 3, 'n_estimators': 250}.\n",
      "0.973 (+/-0.007) for {'learning_rate': 0.01, 'max_depth': 3, 'n_estimators': 500}.\n",
      "0.975 (+/-0.0) for {'learning_rate': 0.01, 'max_depth': 5, 'n_estimators': 5}.\n",
      "0.975 (+/-0.0) for {'learning_rate': 0.01, 'max_depth': 5, 'n_estimators': 50}.\n",
      "0.968 (+/-0.019) for {'learning_rate': 0.01, 'max_depth': 5, 'n_estimators': 250}.\n",
      "0.964 (+/-0.017) for {'learning_rate': 0.01, 'max_depth': 5, 'n_estimators': 500}.\n",
      "0.975 (+/-0.0) for {'learning_rate': 0.01, 'max_depth': 7, 'n_estimators': 5}.\n",
      "0.975 (+/-0.0) for {'learning_rate': 0.01, 'max_depth': 7, 'n_estimators': 50}.\n",
      "0.965 (+/-0.016) for {'learning_rate': 0.01, 'max_depth': 7, 'n_estimators': 250}.\n",
      "0.962 (+/-0.02) for {'learning_rate': 0.01, 'max_depth': 7, 'n_estimators': 500}.\n",
      "0.975 (+/-0.0) for {'learning_rate': 0.01, 'max_depth': 9, 'n_estimators': 5}.\n",
      "0.975 (+/-0.0) for {'learning_rate': 0.01, 'max_depth': 9, 'n_estimators': 50}.\n",
      "0.965 (+/-0.016) for {'learning_rate': 0.01, 'max_depth': 9, 'n_estimators': 250}.\n",
      "0.964 (+/-0.022) for {'learning_rate': 0.01, 'max_depth': 9, 'n_estimators': 500}.\n",
      "0.975 (+/-0.0) for {'learning_rate': 0.1, 'max_depth': 1, 'n_estimators': 5}.\n",
      "0.975 (+/-0.0) for {'learning_rate': 0.1, 'max_depth': 1, 'n_estimators': 50}.\n",
      "0.972 (+/-0.008) for {'learning_rate': 0.1, 'max_depth': 1, 'n_estimators': 250}.\n",
      "0.973 (+/-0.007) for {'learning_rate': 0.1, 'max_depth': 1, 'n_estimators': 500}.\n",
      "0.97 (+/-0.013) for {'learning_rate': 0.1, 'max_depth': 3, 'n_estimators': 5}.\n",
      "0.972 (+/-0.013) for {'learning_rate': 0.1, 'max_depth': 3, 'n_estimators': 50}.\n",
      "0.972 (+/-0.013) for {'learning_rate': 0.1, 'max_depth': 3, 'n_estimators': 250}.\n",
      "0.97 (+/-0.013) for {'learning_rate': 0.1, 'max_depth': 3, 'n_estimators': 500}.\n",
      "0.97 (+/-0.022) for {'learning_rate': 0.1, 'max_depth': 5, 'n_estimators': 5}.\n",
      "0.967 (+/-0.015) for {'learning_rate': 0.1, 'max_depth': 5, 'n_estimators': 50}.\n",
      "0.968 (+/-0.012) for {'learning_rate': 0.1, 'max_depth': 5, 'n_estimators': 250}.\n",
      "0.97 (+/-0.013) for {'learning_rate': 0.1, 'max_depth': 5, 'n_estimators': 500}.\n",
      "0.962 (+/-0.034) for {'learning_rate': 0.1, 'max_depth': 7, 'n_estimators': 5}.\n",
      "0.955 (+/-0.017) for {'learning_rate': 0.1, 'max_depth': 7, 'n_estimators': 50}.\n",
      "0.962 (+/-0.02) for {'learning_rate': 0.1, 'max_depth': 7, 'n_estimators': 250}.\n",
      "0.962 (+/-0.02) for {'learning_rate': 0.1, 'max_depth': 7, 'n_estimators': 500}.\n",
      "0.95 (+/-0.031) for {'learning_rate': 0.1, 'max_depth': 9, 'n_estimators': 5}.\n",
      "0.96 (+/-0.019) for {'learning_rate': 0.1, 'max_depth': 9, 'n_estimators': 50}.\n",
      "0.964 (+/-0.027) for {'learning_rate': 0.1, 'max_depth': 9, 'n_estimators': 250}.\n",
      "0.96 (+/-0.024) for {'learning_rate': 0.1, 'max_depth': 9, 'n_estimators': 500}.\n",
      "0.972 (+/-0.008) for {'learning_rate': 1, 'max_depth': 1, 'n_estimators': 5}.\n",
      "0.972 (+/-0.013) for {'learning_rate': 1, 'max_depth': 1, 'n_estimators': 50}.\n",
      "0.975 (+/-0.011) for {'learning_rate': 1, 'max_depth': 1, 'n_estimators': 250}.\n",
      "0.975 (+/-0.011) for {'learning_rate': 1, 'max_depth': 1, 'n_estimators': 500}.\n",
      "0.952 (+/-0.049) for {'learning_rate': 1, 'max_depth': 3, 'n_estimators': 5}.\n",
      "0.939 (+/-0.034) for {'learning_rate': 1, 'max_depth': 3, 'n_estimators': 50}.\n",
      "0.939 (+/-0.034) for {'learning_rate': 1, 'max_depth': 3, 'n_estimators': 250}.\n",
      "0.922 (+/-0.044) for {'learning_rate': 1, 'max_depth': 3, 'n_estimators': 500}.\n",
      "0.95 (+/-0.036) for {'learning_rate': 1, 'max_depth': 5, 'n_estimators': 5}.\n",
      "0.954 (+/-0.017) for {'learning_rate': 1, 'max_depth': 5, 'n_estimators': 50}.\n",
      "0.959 (+/-0.015) for {'learning_rate': 1, 'max_depth': 5, 'n_estimators': 250}.\n",
      "0.965 (+/-0.007) for {'learning_rate': 1, 'max_depth': 5, 'n_estimators': 500}.\n",
      "0.949 (+/-0.041) for {'learning_rate': 1, 'max_depth': 7, 'n_estimators': 5}.\n",
      "0.952 (+/-0.035) for {'learning_rate': 1, 'max_depth': 7, 'n_estimators': 50}.\n",
      "0.952 (+/-0.038) for {'learning_rate': 1, 'max_depth': 7, 'n_estimators': 250}.\n",
      "0.954 (+/-0.037) for {'learning_rate': 1, 'max_depth': 7, 'n_estimators': 500}.\n",
      "0.955 (+/-0.031) for {'learning_rate': 1, 'max_depth': 9, 'n_estimators': 5}.\n",
      "0.957 (+/-0.03) for {'learning_rate': 1, 'max_depth': 9, 'n_estimators': 50}.\n",
      "0.952 (+/-0.03) for {'learning_rate': 1, 'max_depth': 9, 'n_estimators': 250}.\n",
      "0.957 (+/-0.026) for {'learning_rate': 1, 'max_depth': 9, 'n_estimators': 500}.\n",
      "0.184 (+/-0.206) for {'learning_rate': 10, 'max_depth': 1, 'n_estimators': 5}.\n",
      "0.184 (+/-0.206) for {'learning_rate': 10, 'max_depth': 1, 'n_estimators': 50}.\n",
      "0.184 (+/-0.206) for {'learning_rate': 10, 'max_depth': 1, 'n_estimators': 250}.\n",
      "0.184 (+/-0.206) for {'learning_rate': 10, 'max_depth': 1, 'n_estimators': 500}.\n",
      "0.292 (+/-0.268) for {'learning_rate': 10, 'max_depth': 3, 'n_estimators': 5}.\n",
      "0.298 (+/-0.259) for {'learning_rate': 10, 'max_depth': 3, 'n_estimators': 50}.\n",
      "0.295 (+/-0.27) for {'learning_rate': 10, 'max_depth': 3, 'n_estimators': 250}.\n",
      "0.298 (+/-0.259) for {'learning_rate': 10, 'max_depth': 3, 'n_estimators': 500}.\n",
      "0.844 (+/-0.408) for {'learning_rate': 10, 'max_depth': 5, 'n_estimators': 5}.\n",
      "0.843 (+/-0.406) for {'learning_rate': 10, 'max_depth': 5, 'n_estimators': 50}.\n",
      "0.844 (+/-0.408) for {'learning_rate': 10, 'max_depth': 5, 'n_estimators': 250}.\n",
      "0.843 (+/-0.407) for {'learning_rate': 10, 'max_depth': 5, 'n_estimators': 500}.\n",
      "0.947 (+/-0.029) for {'learning_rate': 10, 'max_depth': 7, 'n_estimators': 5}.\n",
      "0.947 (+/-0.03) for {'learning_rate': 10, 'max_depth': 7, 'n_estimators': 50}.\n",
      "0.952 (+/-0.024) for {'learning_rate': 10, 'max_depth': 7, 'n_estimators': 250}.\n",
      "0.95 (+/-0.023) for {'learning_rate': 10, 'max_depth': 7, 'n_estimators': 500}.\n",
      "0.95 (+/-0.028) for {'learning_rate': 10, 'max_depth': 9, 'n_estimators': 5}.\n",
      "0.949 (+/-0.024) for {'learning_rate': 10, 'max_depth': 9, 'n_estimators': 50}.\n",
      "0.949 (+/-0.016) for {'learning_rate': 10, 'max_depth': 9, 'n_estimators': 250}.\n",
      "0.949 (+/-0.026) for {'learning_rate': 10, 'max_depth': 9, 'n_estimators': 500}.\n",
      "0.025 (+/-0.0) for {'learning_rate': 100, 'max_depth': 1, 'n_estimators': 5}.\n",
      "0.025 (+/-0.0) for {'learning_rate': 100, 'max_depth': 1, 'n_estimators': 50}.\n",
      "0.025 (+/-0.0) for {'learning_rate': 100, 'max_depth': 1, 'n_estimators': 250}.\n",
      "0.025 (+/-0.0) for {'learning_rate': 100, 'max_depth': 1, 'n_estimators': 500}.\n",
      "0.181 (+/-0.321) for {'learning_rate': 100, 'max_depth': 3, 'n_estimators': 5}.\n",
      "0.182 (+/-0.328) for {'learning_rate': 100, 'max_depth': 3, 'n_estimators': 50}.\n",
      "0.182 (+/-0.328) for {'learning_rate': 100, 'max_depth': 3, 'n_estimators': 250}.\n",
      "0.182 (+/-0.328) for {'learning_rate': 100, 'max_depth': 3, 'n_estimators': 500}.\n",
      "0.846 (+/-0.2) for {'learning_rate': 100, 'max_depth': 5, 'n_estimators': 5}.\n",
      "0.866 (+/-0.165) for {'learning_rate': 100, 'max_depth': 5, 'n_estimators': 50}.\n",
      "0.861 (+/-0.153) for {'learning_rate': 100, 'max_depth': 5, 'n_estimators': 250}.\n",
      "0.861 (+/-0.153) for {'learning_rate': 100, 'max_depth': 5, 'n_estimators': 500}.\n",
      "0.94 (+/-0.037) for {'learning_rate': 100, 'max_depth': 7, 'n_estimators': 5}.\n",
      "0.937 (+/-0.045) for {'learning_rate': 100, 'max_depth': 7, 'n_estimators': 50}.\n",
      "0.934 (+/-0.046) for {'learning_rate': 100, 'max_depth': 7, 'n_estimators': 250}.\n",
      "0.942 (+/-0.041) for {'learning_rate': 100, 'max_depth': 7, 'n_estimators': 500}.\n",
      "0.947 (+/-0.022) for {'learning_rate': 100, 'max_depth': 9, 'n_estimators': 5}.\n",
      "0.94 (+/-0.019) for {'learning_rate': 100, 'max_depth': 9, 'n_estimators': 50}.\n",
      "0.945 (+/-0.022) for {'learning_rate': 100, 'max_depth': 9, 'n_estimators': 250}.\n",
      "0.947 (+/-0.027) for {'learning_rate': 100, 'max_depth': 9, 'n_estimators': 500}.\n"
     ]
    }
   ],
   "source": [
    "gb = GradientBoostingClassifier()\n",
    "parameters = {\n",
    "    'n_estimators': [5, 50, 250, 500],\n",
    "    'max_depth': [1, 3, 5, 7, 9],\n",
    "    'learning_rate':[0.01, 0.1, 1, 10, 100]\n",
    "}\n",
    "\n",
    "cv = GridSearchCV(gb, parameters, cv=5)\n",
    "\n",
    "cv.fit(tr_features, tr_labels.values.ravel())\n",
    "print_results(cv)"
   ]
  },
  {
   "cell_type": "code",
   "execution_count": 77,
   "metadata": {},
   "outputs": [
    {
     "data": {
      "image/png": "[encoded data removed]",
      "text/plain": [
       "<Figure size 432x288 with 1 Axes>"
      ]
     },
     "metadata": {
      "needs_background": "light"
     },
     "output_type": "display_data"
    }
   ],
   "source": [
    "# Generate feature importance plot\n",
    "feat_imp = cv.best_estimator_.feature_importances_\n",
    "indices = np.argsort(feat_imp)\n",
    "plt.yticks(range(len(indices)), [tr_features.columns[i] for i in indices])\n",
    "plt.barh(range(len(indices)), feat_imp[indices], color='r', align='center')\n",
    "plt.show()"
   ]
  },
  {
   "cell_type": "code",
   "execution_count": 78,
   "metadata": {},
   "outputs": [
    {
     "data": {
      "text/plain": [
       "['../models/gb_mdl_reduced_features.pkl']"
      ]
     },
     "execution_count": 78,
     "metadata": {},
     "output_type": "execute_result"
    }
   ],
   "source": [
    "joblib.dump(cv.best_estimator_,'../models/gb_mdl_{}_features.pkl'.format(feature_set))"
   ]
  }
 ],
 "metadata": {
  "kernelspec": {
   "display_name": "Python 3",
   "language": "python",
   "name": "python3"
  },
  "language_info": {
   "codemirror_mode": {
    "name": "ipython",
    "version": 3
   },
   "file_extension": ".py",
   "mimetype": "text/x-python",
   "name": "python",
   "nbconvert_exporter": "python",
   "pygments_lexer": "ipython3",
   "version": "3.8.10"
  }
 },
 "nbformat": 4,
 "nbformat_minor": 4
}
