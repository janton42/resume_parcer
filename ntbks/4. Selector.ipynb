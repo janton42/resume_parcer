{
 "cells": [
  {
   "cell_type": "markdown",
   "metadata": {},
   "source": [
    "## Evaluate Models\n",
    "\n",
    "\n",
    "### Read in Data"
   ]
  },
  {
   "cell_type": "code",
   "execution_count": 1,
   "metadata": {},
   "outputs": [],
   "source": [
    "import joblib\n",
    "import pandas as pd\n",
    "from sklearn.metrics import accuracy_score, precision_score, recall_score\n",
    "from time import time\n",
    "\n",
    "# supress sklearn warnings\n",
    "def warn(*args, **kwargs):\n",
    "    pass\n",
    "import warnings\n",
    "warnings.warn = warn\n"
   ]
  },
  {
   "cell_type": "markdown",
   "metadata": {},
   "source": [
    "### Read in Feature Models "
   ]
  },
  {
   "cell_type": "code",
   "execution_count": 2,
   "metadata": {},
   "outputs": [],
   "source": [
    "# Load all the models that were made to compare FEATURES in step 4. Trainer  \n",
    "feature_models = {}\n",
    "\n",
    "for mdl in ['all','raw','trans','reduced']:\n",
    "    feature_models[mdl+'_lr'] = joblib.load('../models/lr_mdl_{}_features.pkl'.format(mdl))\n",
    "    feature_models[mdl+'_svm'] = joblib.load('../models/svm_mdl_{}_features.pkl'.format(mdl))\n",
    "    feature_models[mdl+'_mlp'] = joblib.load('../models/mlp_mdl_{}_features.pkl'.format(mdl))\n",
    "    feature_models[mdl+'_rf'] = joblib.load('../models/rf_mdl_{}_features.pkl'.format(mdl))\n",
    "    feature_models[mdl+'_gb'] = joblib.load('../models/gb_mdl_{}_features.pkl'.format(mdl))\n"
   ]
  },
  {
   "cell_type": "code",
   "execution_count": 3,
   "metadata": {},
   "outputs": [],
   "source": [
    "def evaluate_model(name, model, features, labels):\n",
    "    start = time()\n",
    "    pred = model.predict(features)\n",
    "    end = time()\n",
    "    accuracy = round(accuracy_score(labels, pred), 3)\n",
    "    precision = round(precision_score(labels, pred), 3)\n",
    "    recall = round(recall_score(labels, pred), 3)\n",
    "    print('{}\\nAccuracy: {}\\nPrecision: {}\\nRecall: {}\\nLatency: {}ms\\n\\n'.format(name,\n",
    "                                                                              accuracy,\n",
    "                                                                              precision,\n",
    "                                                                              recall,\n",
    "                                                                              round((end-start),3)))"
   ]
  },
  {
   "cell_type": "markdown",
   "metadata": {},
   "source": [
    "## Evaluate Features on Validation Set "
   ]
  },
  {
   "cell_type": "code",
   "execution_count": 4,
   "metadata": {
    "scrolled": true
   },
   "outputs": [
    {
     "name": "stdout",
     "output_type": "stream",
     "text": [
      "all_lr\n",
      "Accuracy: 0.99\n",
      "Precision: 0.0\n",
      "Recall: 0.0\n",
      "Latency: 0.002ms\n",
      "\n",
      "\n",
      "all_svm\n",
      "Accuracy: 0.99\n",
      "Precision: 0.0\n",
      "Recall: 0.0\n",
      "Latency: 0.002ms\n",
      "\n",
      "\n",
      "all_mlp\n",
      "Accuracy: 0.985\n",
      "Precision: 0.333\n",
      "Recall: 0.5\n",
      "Latency: 0.002ms\n",
      "\n",
      "\n",
      "all_rf\n",
      "Accuracy: 0.99\n",
      "Precision: 0.0\n",
      "Recall: 0.0\n",
      "Latency: 0.002ms\n",
      "\n",
      "\n",
      "all_gb\n",
      "Accuracy: 0.99\n",
      "Precision: 0.0\n",
      "Recall: 0.0\n",
      "Latency: 0.001ms\n",
      "\n",
      "\n",
      "raw_lr\n",
      "Accuracy: 0.99\n",
      "Precision: 0.0\n",
      "Recall: 0.0\n",
      "Latency: 0.001ms\n",
      "\n",
      "\n",
      "raw_svm\n",
      "Accuracy: 0.99\n",
      "Precision: 0.0\n",
      "Recall: 0.0\n",
      "Latency: 0.001ms\n",
      "\n",
      "\n",
      "raw_mlp\n",
      "Accuracy: 0.99\n",
      "Precision: 0.0\n",
      "Recall: 0.0\n",
      "Latency: 0.001ms\n",
      "\n",
      "\n",
      "raw_rf\n",
      "Accuracy: 0.99\n",
      "Precision: 0.0\n",
      "Recall: 0.0\n",
      "Latency: 0.004ms\n",
      "\n",
      "\n",
      "raw_gb\n",
      "Accuracy: 0.99\n",
      "Precision: 0.0\n",
      "Recall: 0.0\n",
      "Latency: 0.003ms\n",
      "\n",
      "\n",
      "trans_lr\n",
      "Accuracy: 0.99\n",
      "Precision: 0.0\n",
      "Recall: 0.0\n",
      "Latency: 0.002ms\n",
      "\n",
      "\n",
      "trans_svm\n",
      "Accuracy: 0.99\n",
      "Precision: 0.0\n",
      "Recall: 0.0\n",
      "Latency: 0.003ms\n",
      "\n",
      "\n",
      "trans_mlp\n",
      "Accuracy: 0.99\n",
      "Precision: 0.0\n",
      "Recall: 0.0\n",
      "Latency: 0.002ms\n",
      "\n",
      "\n",
      "trans_rf\n",
      "Accuracy: 0.99\n",
      "Precision: 0.0\n",
      "Recall: 0.0\n",
      "Latency: 0.003ms\n",
      "\n",
      "\n",
      "trans_gb\n",
      "Accuracy: 0.99\n",
      "Precision: 0.0\n",
      "Recall: 0.0\n",
      "Latency: 0.002ms\n",
      "\n",
      "\n",
      "reduced_lr\n",
      "Accuracy: 0.985\n",
      "Precision: 0.0\n",
      "Recall: 0.0\n",
      "Latency: 0.002ms\n",
      "\n",
      "\n",
      "reduced_svm\n",
      "Accuracy: 0.99\n",
      "Precision: 0.0\n",
      "Recall: 0.0\n",
      "Latency: 0.003ms\n",
      "\n",
      "\n",
      "reduced_mlp\n",
      "Accuracy: 0.99\n",
      "Precision: 0.0\n",
      "Recall: 0.0\n",
      "Latency: 0.003ms\n",
      "\n",
      "\n",
      "reduced_rf\n",
      "Accuracy: 0.99\n",
      "Precision: 0.0\n",
      "Recall: 0.0\n",
      "Latency: 0.003ms\n",
      "\n",
      "\n",
      "reduced_gb\n",
      "Accuracy: 0.99\n",
      "Precision: 0.0\n",
      "Recall: 0.0\n",
      "Latency: 0.002ms\n",
      "\n",
      "\n"
     ]
    }
   ],
   "source": [
    " for name, mdl in feature_models.items():\n",
    "        feature_set = name.split('_')[0]\n",
    "        val_features = pd.read_csv('../output/val_features_{}.csv'.format(feature_set))\n",
    "        val_labels = pd.read_csv('../output/val_labels.csv')\n",
    "        evaluate_model(name, mdl, val_features, val_labels)"
   ]
  },
  {
   "cell_type": "markdown",
   "metadata": {},
   "source": [
    "## Evaluate Best Features on Test Set\n",
    "\n",
    "Based on the results above, choose the model_name of the best performing feature/algorithm combination to solve the problem with the gieven data set. "
   ]
  },
  {
   "cell_type": "code",
   "execution_count": 5,
   "metadata": {},
   "outputs": [],
   "source": [
    "# model_name = 'raw_rf'\n",
    "# feature_set = model_name.split('_')[0]\n",
    "# te_features = pd.read_csv('../output/test_features_{}.csv'.format(feature_set))\n",
    "# te_labels = pd.read_csv('../output/test_labels.csv')\n",
    "# evaluate_model(model_name, feature_models[model_name], te_features, te_labels)"
   ]
  },
  {
   "cell_type": "markdown",
   "metadata": {},
   "source": [
    "## Evaluate Algorithms on Validation Set"
   ]
  },
  {
   "cell_type": "code",
   "execution_count": 6,
   "metadata": {},
   "outputs": [],
   "source": [
    "# # For algorithm model testing, select one of the following as feature_set:\n",
    "# # all, raw, trans, or 'reduced'.\n",
    "\n",
    "# # This decision should be the result of feature testing above. \n",
    "\n",
    "# # Once a feature set is selected, set feature_set to that value, and switch algorithm_test to True\n",
    "\n",
    "# feature_set = 'reduced'\n",
    "\n",
    "# val_features = pd.read_csv('../output/val_features_{}.csv'.format(feature_set))\n",
    "# val_labels = pd.read_csv('../output/val_labels.csv')\n",
    "\n",
    "# te_features = pd.read_csv('../output/test_features_{}.csv'.format(feature_set))\n",
    "# te_labels = pd.read_csv('../output/test_labels.csv')\n",
    "\n",
    "# # Load all the models that were made to compare ALGORITHMS in step 4. Trainer\n",
    "\n",
    "# algorithm_models = {}\n",
    "\n",
    "# for mdl in ['lr', 'svm', 'mlp', 'rf', 'gb']:\n",
    "#     algorithm_models[mdl] = joblib.load('../models/{}_model.pkl'.format(mdl))"
   ]
  },
  {
   "cell_type": "code",
   "execution_count": 7,
   "metadata": {},
   "outputs": [],
   "source": [
    "#  for name, mdl in algorithm_models.items():\n",
    "#         evaluate_model(name, mdl, val_features, val_labels)"
   ]
  },
  {
   "cell_type": "markdown",
   "metadata": {},
   "source": [
    "## Evaluate Best Algorithm on Test Set "
   ]
  },
  {
   "cell_type": "code",
   "execution_count": 8,
   "metadata": {},
   "outputs": [],
   "source": [
    "# evaluate_model('Logistic Regression', models['lr'], te_features, te_labels)"
   ]
  }
 ],
 "metadata": {
  "kernelspec": {
   "display_name": "Python 3",
   "language": "python",
   "name": "python3"
  },
  "language_info": {
   "codemirror_mode": {
    "name": "ipython",
    "version": 3
   },
   "file_extension": ".py",
   "mimetype": "text/x-python",
   "name": "python",
   "nbconvert_exporter": "python",
   "pygments_lexer": "ipython3",
   "version": "3.8.10"
  }
 },
 "nbformat": 4,
 "nbformat_minor": 4
}
