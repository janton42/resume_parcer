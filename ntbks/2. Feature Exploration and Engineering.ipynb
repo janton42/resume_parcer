{
 "cells": [
  {
   "cell_type": "markdown",
   "metadata": {},
   "source": [
    "## Import Packages "
   ]
  },
  {
   "cell_type": "code",
   "execution_count": 1,
   "metadata": {},
   "outputs": [],
   "source": [
    "import re\n",
    "import string\n",
    "import nltk\n",
    "import time\n",
    "import numpy as np\n",
    "import pandas as pd\n",
    "import seaborn as sns\n",
    "from scipy import stats\n",
    "from matplotlib import pyplot\n",
    "from sklearn.feature_extraction.text import TfidfVectorizer\n",
    "from sklearn.model_selection import train_test_split\n",
    "from sklearn.ensemble import RandomForestClassifier, GradientBoostingClassifier\n",
    "from sklearn.metrics import precision_recall_fscore_support as score\n",
    "from sklearn.preprocessing import StandardScaler, LabelBinarizer\n",
    "from statsmodels.graphics.gofplots import qqplot\n",
    "\n",
    "\n",
    "# supress sklearn warnings\n",
    "def warn(*args, **kwargs):\n",
    "    pass\n",
    "import warnings\n",
    "warnings.warn = warn\n",
    "\n",
    "%matplotlib inline"
   ]
  },
  {
   "cell_type": "markdown",
   "metadata": {},
   "source": [
    "## Read in Data "
   ]
  },
  {
   "cell_type": "code",
   "execution_count": 2,
   "metadata": {},
   "outputs": [
    {
     "data": {
      "text/plain": [
       "array(['Name', 'Contact', 'Summary', 'Heading', 'Unknown', 'Bullet',\n",
       "       'Degree', 'Certification', 'Skill', 'Title', 'Training',\n",
       "       'Organization', 'Date', 'Volunteer', 'Award', 'Location',\n",
       "       'Interest'], dtype=object)"
      ]
     },
     "execution_count": 2,
     "metadata": {},
     "output_type": "execute_result"
    }
   ],
   "source": [
    "# Bring the entire data set to get the label list\n",
    "clean_data = pd.read_csv('../output/clean_data.csv')\n",
    "numeric_only = pd.read_csv('../output/numeric_only.csv')\n",
    "\n",
    "# Retreive the labels for later use\n",
    "label_list = clean_data['label'].unique()\n",
    "\n",
    "label_list"
   ]
  },
  {
   "cell_type": "code",
   "execution_count": 3,
   "metadata": {
    "scrolled": true
   },
   "outputs": [],
   "source": [
    "# Sellect a target feature from the available labels to be used in analysis and training\n",
    "target = 'Summary'\n",
    "\n",
    "# Create data frames for features and labels.\n",
    "features = numeric_only.drop(label_list, axis=1)\n",
    "labels = numeric_only[target]\n",
    "\n",
    "target_only_numeric = pd.concat([labels, features], axis=1)\n",
    "\n",
    "# # Split data into training, validation, and test sets\n",
    "# # - train_test_split can only split into two groups, so start with the desired training percentage,\n",
    "# # - then split the remainder in half, or another fraction, to yield validation and test sets.\n",
    "\n",
    "# X_train, X_test, y_train, y_test = train_test_split(features, labels, test_size=0.4, random_state=42)\n",
    "# X_test, X_val, y_test, y_val = train_test_split(X_test, y_test, test_size=0.5, random_state=42)"
   ]
  },
  {
   "cell_type": "markdown",
   "metadata": {},
   "source": [
    "### Verify Split"
   ]
  },
  {
   "cell_type": "code",
   "execution_count": 4,
   "metadata": {},
   "outputs": [],
   "source": [
    "# print('Total records: {}\\nTraining set:\\t{}\\nValidation set:\\t{}\\nTest set:\\t{}'.format(len(labels), len(y_train), len(y_val), len(y_test)))"
   ]
  },
  {
   "cell_type": "markdown",
   "metadata": {},
   "source": [
    "### Look at general distribution of the numeric features in the training set "
   ]
  },
  {
   "cell_type": "code",
   "execution_count": 5,
   "metadata": {},
   "outputs": [
    {
     "data": {
      "text/html": [
       "<div>\n",
       "<style scoped>\n",
       "    .dataframe tbody tr th:only-of-type {\n",
       "        vertical-align: middle;\n",
       "    }\n",
       "\n",
       "    .dataframe tbody tr th {\n",
       "        vertical-align: top;\n",
       "    }\n",
       "\n",
       "    .dataframe thead th {\n",
       "        text-align: right;\n",
       "    }\n",
       "</style>\n",
       "<table border=\"1\" class=\"dataframe\">\n",
       "  <thead>\n",
       "    <tr style=\"text-align: right;\">\n",
       "      <th></th>\n",
       "      <th>Summary</th>\n",
       "      <th>line_length</th>\n",
       "      <th>word_count</th>\n",
       "      <th>verb_percentage</th>\n",
       "      <th>adj_percentage</th>\n",
       "      <th>stopword_percentage</th>\n",
       "      <th>punctuation_percentage</th>\n",
       "      <th>number_percentage</th>\n",
       "      <th>proper_noun_percentage</th>\n",
       "    </tr>\n",
       "  </thead>\n",
       "  <tbody>\n",
       "    <tr>\n",
       "      <th>count</th>\n",
       "      <td>1006.000000</td>\n",
       "      <td>1006.000000</td>\n",
       "      <td>1006.000000</td>\n",
       "      <td>1006.000000</td>\n",
       "      <td>1006.000000</td>\n",
       "      <td>1006.000000</td>\n",
       "      <td>1006.000000</td>\n",
       "      <td>1006.000000</td>\n",
       "      <td>1006.000000</td>\n",
       "    </tr>\n",
       "    <tr>\n",
       "      <th>mean</th>\n",
       "      <td>0.019881</td>\n",
       "      <td>67.814115</td>\n",
       "      <td>10.775348</td>\n",
       "      <td>4.668787</td>\n",
       "      <td>6.797614</td>\n",
       "      <td>2.017097</td>\n",
       "      <td>3.751690</td>\n",
       "      <td>5.096521</td>\n",
       "      <td>32.756064</td>\n",
       "    </tr>\n",
       "    <tr>\n",
       "      <th>std</th>\n",
       "      <td>0.139660</td>\n",
       "      <td>107.621847</td>\n",
       "      <td>17.245700</td>\n",
       "      <td>9.020396</td>\n",
       "      <td>13.240005</td>\n",
       "      <td>2.548894</td>\n",
       "      <td>8.561202</td>\n",
       "      <td>11.985355</td>\n",
       "      <td>33.091974</td>\n",
       "    </tr>\n",
       "    <tr>\n",
       "      <th>min</th>\n",
       "      <td>0.000000</td>\n",
       "      <td>3.000000</td>\n",
       "      <td>1.000000</td>\n",
       "      <td>0.000000</td>\n",
       "      <td>0.000000</td>\n",
       "      <td>0.000000</td>\n",
       "      <td>0.000000</td>\n",
       "      <td>0.000000</td>\n",
       "      <td>0.000000</td>\n",
       "    </tr>\n",
       "    <tr>\n",
       "      <th>25%</th>\n",
       "      <td>0.000000</td>\n",
       "      <td>19.000000</td>\n",
       "      <td>3.000000</td>\n",
       "      <td>0.000000</td>\n",
       "      <td>0.000000</td>\n",
       "      <td>0.000000</td>\n",
       "      <td>0.000000</td>\n",
       "      <td>0.000000</td>\n",
       "      <td>0.000000</td>\n",
       "    </tr>\n",
       "    <tr>\n",
       "      <th>50%</th>\n",
       "      <td>0.000000</td>\n",
       "      <td>40.000000</td>\n",
       "      <td>6.000000</td>\n",
       "      <td>0.000000</td>\n",
       "      <td>0.000000</td>\n",
       "      <td>0.000000</td>\n",
       "      <td>2.100000</td>\n",
       "      <td>0.000000</td>\n",
       "      <td>22.200000</td>\n",
       "    </tr>\n",
       "    <tr>\n",
       "      <th>75%</th>\n",
       "      <td>0.000000</td>\n",
       "      <td>80.000000</td>\n",
       "      <td>13.000000</td>\n",
       "      <td>7.400000</td>\n",
       "      <td>9.100000</td>\n",
       "      <td>3.800000</td>\n",
       "      <td>4.600000</td>\n",
       "      <td>3.800000</td>\n",
       "      <td>58.300000</td>\n",
       "    </tr>\n",
       "    <tr>\n",
       "      <th>max</th>\n",
       "      <td>1.000000</td>\n",
       "      <td>1682.000000</td>\n",
       "      <td>281.000000</td>\n",
       "      <td>100.000000</td>\n",
       "      <td>100.000000</td>\n",
       "      <td>20.000000</td>\n",
       "      <td>100.000000</td>\n",
       "      <td>100.000000</td>\n",
       "      <td>100.000000</td>\n",
       "    </tr>\n",
       "  </tbody>\n",
       "</table>\n",
       "</div>"
      ],
      "text/plain": [
       "           Summary  line_length   word_count  verb_percentage  adj_percentage  \\\n",
       "count  1006.000000  1006.000000  1006.000000      1006.000000     1006.000000   \n",
       "mean      0.019881    67.814115    10.775348         4.668787        6.797614   \n",
       "std       0.139660   107.621847    17.245700         9.020396       13.240005   \n",
       "min       0.000000     3.000000     1.000000         0.000000        0.000000   \n",
       "25%       0.000000    19.000000     3.000000         0.000000        0.000000   \n",
       "50%       0.000000    40.000000     6.000000         0.000000        0.000000   \n",
       "75%       0.000000    80.000000    13.000000         7.400000        9.100000   \n",
       "max       1.000000  1682.000000   281.000000       100.000000      100.000000   \n",
       "\n",
       "       stopword_percentage  punctuation_percentage  number_percentage  \\\n",
       "count          1006.000000             1006.000000        1006.000000   \n",
       "mean              2.017097                3.751690           5.096521   \n",
       "std               2.548894                8.561202          11.985355   \n",
       "min               0.000000                0.000000           0.000000   \n",
       "25%               0.000000                0.000000           0.000000   \n",
       "50%               0.000000                2.100000           0.000000   \n",
       "75%               3.800000                4.600000           3.800000   \n",
       "max              20.000000              100.000000         100.000000   \n",
       "\n",
       "       proper_noun_percentage  \n",
       "count             1006.000000  \n",
       "mean                32.756064  \n",
       "std                 33.091974  \n",
       "min                  0.000000  \n",
       "25%                  0.000000  \n",
       "50%                 22.200000  \n",
       "75%                 58.300000  \n",
       "max                100.000000  "
      ]
     },
     "execution_count": 5,
     "metadata": {},
     "output_type": "execute_result"
    }
   ],
   "source": [
    "target_only_numeric.describe()"
   ]
  },
  {
   "cell_type": "markdown",
   "metadata": {},
   "source": [
    "## Create Correlation Matrix. \n",
    "The best features have a strong correlation with the target variable only. If there is a strong correlation between other features, it can confuse the model. This must still be tested, but looking at a simple correlation matrix is helpful."
   ]
  },
  {
   "cell_type": "code",
   "execution_count": 6,
   "metadata": {
    "scrolled": true
   },
   "outputs": [
    {
     "data": {
      "text/html": [
       "<div>\n",
       "<style scoped>\n",
       "    .dataframe tbody tr th:only-of-type {\n",
       "        vertical-align: middle;\n",
       "    }\n",
       "\n",
       "    .dataframe tbody tr th {\n",
       "        vertical-align: top;\n",
       "    }\n",
       "\n",
       "    .dataframe thead th {\n",
       "        text-align: right;\n",
       "    }\n",
       "</style>\n",
       "<table border=\"1\" class=\"dataframe\">\n",
       "  <thead>\n",
       "    <tr style=\"text-align: right;\">\n",
       "      <th></th>\n",
       "      <th>Summary</th>\n",
       "      <th>line_length</th>\n",
       "      <th>word_count</th>\n",
       "      <th>verb_percentage</th>\n",
       "      <th>adj_percentage</th>\n",
       "      <th>stopword_percentage</th>\n",
       "      <th>punctuation_percentage</th>\n",
       "      <th>number_percentage</th>\n",
       "      <th>proper_noun_percentage</th>\n",
       "    </tr>\n",
       "  </thead>\n",
       "  <tbody>\n",
       "    <tr>\n",
       "      <th>Summary</th>\n",
       "      <td>1.000000</td>\n",
       "      <td>0.100408</td>\n",
       "      <td>0.084894</td>\n",
       "      <td>0.072684</td>\n",
       "      <td>0.025048</td>\n",
       "      <td>0.110852</td>\n",
       "      <td>-0.014176</td>\n",
       "      <td>-0.036041</td>\n",
       "      <td>-0.076780</td>\n",
       "    </tr>\n",
       "    <tr>\n",
       "      <th>line_length</th>\n",
       "      <td>0.100408</td>\n",
       "      <td>1.000000</td>\n",
       "      <td>0.973806</td>\n",
       "      <td>0.176698</td>\n",
       "      <td>0.012307</td>\n",
       "      <td>0.282802</td>\n",
       "      <td>0.017763</td>\n",
       "      <td>-0.096631</td>\n",
       "      <td>-0.179070</td>\n",
       "    </tr>\n",
       "    <tr>\n",
       "      <th>word_count</th>\n",
       "      <td>0.084894</td>\n",
       "      <td>0.973806</td>\n",
       "      <td>1.000000</td>\n",
       "      <td>0.182198</td>\n",
       "      <td>0.002600</td>\n",
       "      <td>0.315680</td>\n",
       "      <td>-0.043828</td>\n",
       "      <td>-0.072898</td>\n",
       "      <td>-0.164799</td>\n",
       "    </tr>\n",
       "    <tr>\n",
       "      <th>verb_percentage</th>\n",
       "      <td>0.072684</td>\n",
       "      <td>0.176698</td>\n",
       "      <td>0.182198</td>\n",
       "      <td>1.000000</td>\n",
       "      <td>-0.029493</td>\n",
       "      <td>0.319386</td>\n",
       "      <td>-0.119124</td>\n",
       "      <td>-0.128322</td>\n",
       "      <td>-0.310029</td>\n",
       "    </tr>\n",
       "    <tr>\n",
       "      <th>adj_percentage</th>\n",
       "      <td>0.025048</td>\n",
       "      <td>0.012307</td>\n",
       "      <td>0.002600</td>\n",
       "      <td>-0.029493</td>\n",
       "      <td>1.000000</td>\n",
       "      <td>-0.001875</td>\n",
       "      <td>-0.008183</td>\n",
       "      <td>-0.153582</td>\n",
       "      <td>-0.260959</td>\n",
       "    </tr>\n",
       "    <tr>\n",
       "      <th>stopword_percentage</th>\n",
       "      <td>0.110852</td>\n",
       "      <td>0.282802</td>\n",
       "      <td>0.315680</td>\n",
       "      <td>0.319386</td>\n",
       "      <td>-0.001875</td>\n",
       "      <td>1.000000</td>\n",
       "      <td>-0.148704</td>\n",
       "      <td>-0.077659</td>\n",
       "      <td>-0.411694</td>\n",
       "    </tr>\n",
       "    <tr>\n",
       "      <th>punctuation_percentage</th>\n",
       "      <td>-0.014176</td>\n",
       "      <td>0.017763</td>\n",
       "      <td>-0.043828</td>\n",
       "      <td>-0.119124</td>\n",
       "      <td>-0.008183</td>\n",
       "      <td>-0.148704</td>\n",
       "      <td>1.000000</td>\n",
       "      <td>0.070862</td>\n",
       "      <td>-0.087919</td>\n",
       "    </tr>\n",
       "    <tr>\n",
       "      <th>number_percentage</th>\n",
       "      <td>-0.036041</td>\n",
       "      <td>-0.096631</td>\n",
       "      <td>-0.072898</td>\n",
       "      <td>-0.128322</td>\n",
       "      <td>-0.153582</td>\n",
       "      <td>-0.077659</td>\n",
       "      <td>0.070862</td>\n",
       "      <td>1.000000</td>\n",
       "      <td>-0.053765</td>\n",
       "    </tr>\n",
       "    <tr>\n",
       "      <th>proper_noun_percentage</th>\n",
       "      <td>-0.076780</td>\n",
       "      <td>-0.179070</td>\n",
       "      <td>-0.164799</td>\n",
       "      <td>-0.310029</td>\n",
       "      <td>-0.260959</td>\n",
       "      <td>-0.411694</td>\n",
       "      <td>-0.087919</td>\n",
       "      <td>-0.053765</td>\n",
       "      <td>1.000000</td>\n",
       "    </tr>\n",
       "  </tbody>\n",
       "</table>\n",
       "</div>"
      ],
      "text/plain": [
       "                         Summary  line_length  word_count  verb_percentage  \\\n",
       "Summary                 1.000000     0.100408    0.084894         0.072684   \n",
       "line_length             0.100408     1.000000    0.973806         0.176698   \n",
       "word_count              0.084894     0.973806    1.000000         0.182198   \n",
       "verb_percentage         0.072684     0.176698    0.182198         1.000000   \n",
       "adj_percentage          0.025048     0.012307    0.002600        -0.029493   \n",
       "stopword_percentage     0.110852     0.282802    0.315680         0.319386   \n",
       "punctuation_percentage -0.014176     0.017763   -0.043828        -0.119124   \n",
       "number_percentage      -0.036041    -0.096631   -0.072898        -0.128322   \n",
       "proper_noun_percentage -0.076780    -0.179070   -0.164799        -0.310029   \n",
       "\n",
       "                        adj_percentage  stopword_percentage  \\\n",
       "Summary                       0.025048             0.110852   \n",
       "line_length                   0.012307             0.282802   \n",
       "word_count                    0.002600             0.315680   \n",
       "verb_percentage              -0.029493             0.319386   \n",
       "adj_percentage                1.000000            -0.001875   \n",
       "stopword_percentage          -0.001875             1.000000   \n",
       "punctuation_percentage       -0.008183            -0.148704   \n",
       "number_percentage            -0.153582            -0.077659   \n",
       "proper_noun_percentage       -0.260959            -0.411694   \n",
       "\n",
       "                        punctuation_percentage  number_percentage  \\\n",
       "Summary                              -0.014176          -0.036041   \n",
       "line_length                           0.017763          -0.096631   \n",
       "word_count                           -0.043828          -0.072898   \n",
       "verb_percentage                      -0.119124          -0.128322   \n",
       "adj_percentage                       -0.008183          -0.153582   \n",
       "stopword_percentage                  -0.148704          -0.077659   \n",
       "punctuation_percentage                1.000000           0.070862   \n",
       "number_percentage                     0.070862           1.000000   \n",
       "proper_noun_percentage               -0.087919          -0.053765   \n",
       "\n",
       "                        proper_noun_percentage  \n",
       "Summary                              -0.076780  \n",
       "line_length                          -0.179070  \n",
       "word_count                           -0.164799  \n",
       "verb_percentage                      -0.310029  \n",
       "adj_percentage                       -0.260959  \n",
       "stopword_percentage                  -0.411694  \n",
       "punctuation_percentage               -0.087919  \n",
       "number_percentage                    -0.053765  \n",
       "proper_noun_percentage                1.000000  "
      ]
     },
     "execution_count": 6,
     "metadata": {},
     "output_type": "execute_result"
    }
   ],
   "source": [
    "# Generate correlation matrix\n",
    "target_only_numeric.corr()"
   ]
  },
  {
   "cell_type": "markdown",
   "metadata": {},
   "source": [
    "## Find Feature Distributions\n",
    "Given a target variable, look at the distribution of each feature for records that are and those that are not that variable.\n",
    "Run a t-test on the two distributions to see if the difference is statistacally significant."
   ]
  },
  {
   "cell_type": "code",
   "execution_count": 7,
   "metadata": {},
   "outputs": [],
   "source": [
    "def describe_cont_feature(feature):\n",
    "    print('\\n*** Results for {}'.format(feature))\n",
    "    print(target_only_numeric.groupby(target)[feature].describe())\n",
    "    print(ttest(feature))\n",
    "    \n",
    "def ttest(feature):\n",
    "    is_target = target_only_numeric[target_only_numeric[target]==1][feature]\n",
    "    not_target = target_only_numeric[target_only_numeric[target]==0][feature]\n",
    "    tstat, pval = stats.ttest_ind(is_target, not_target, equal_var=False)\n",
    "    print('t-statistic: {:.1f}, p-value: {:.3}'.format(tstat,pval))"
   ]
  },
  {
   "cell_type": "code",
   "execution_count": 8,
   "metadata": {},
   "outputs": [
    {
     "name": "stdout",
     "output_type": "stream",
     "text": [
      "\n",
      "*** Results for Summary\n",
      "         count  mean  std  min  25%  50%  75%  max\n",
      "Summary                                           \n",
      "0        986.0   0.0  0.0  0.0  0.0  0.0  0.0  0.0\n",
      "1         20.0   1.0  0.0  1.0  1.0  1.0  1.0  1.0\n",
      "t-statistic: inf, p-value: 0.0\n",
      "None\n",
      "\n",
      "*** Results for line_length\n",
      "         count        mean         std   min   25%   50%    75%     max\n",
      "Summary                                                                \n",
      "0        986.0   66.275862  105.415614   3.0  19.0  40.0  77.75  1682.0\n",
      "1         20.0  143.650000  174.303811  11.0  75.0  88.0  95.75   698.0\n",
      "t-statistic: 2.0, p-value: 0.0624\n",
      "None\n",
      "\n",
      "*** Results for word_count\n",
      "         count       mean        std  min   25%   50%   75%    max\n",
      "Summary                                                           \n",
      "0        986.0  10.566937  17.021637  1.0   3.0   6.0  13.0  281.0\n",
      "1         20.0  21.050000  24.448603  1.0  12.0  14.0  16.0  104.0\n",
      "t-statistic: 1.9, p-value: 0.0713\n",
      "None\n",
      "\n",
      "*** Results for verb_percentage\n",
      "         count      mean       std  min  25%  50%     75%    max\n",
      "Summary                                                         \n",
      "0        986.0  4.575456  9.035867  0.0  0.0  0.0   7.100  100.0\n",
      "1         20.0  9.270000  6.959212  0.0  5.0  7.4  16.025   20.0\n",
      "t-statistic: 3.0, p-value: 0.00754\n",
      "None\n",
      "\n",
      "*** Results for adj_percentage\n",
      "         count      mean        std  min    25%  50%     75%    max\n",
      "Summary                                                            \n",
      "0        986.0  6.750406  13.325723  0.0  0.000  0.0   8.675  100.0\n",
      "1         20.0  9.125000   7.788039  0.0  3.075  7.1  14.575   26.3\n",
      "t-statistic: 1.3, p-value: 0.199\n",
      "None\n",
      "\n",
      "*** Results for stopword_percentage\n",
      "         count      mean       std  min    25%   50%    75%   max\n",
      "Summary                                                          \n",
      "0        986.0  1.976876  2.531754  0.0  0.000  0.00  3.700  20.0\n",
      "1         20.0  4.000000  2.670305  0.0  2.275  4.05  5.425   9.3\n",
      "t-statistic: 3.4, p-value: 0.00318\n",
      "None\n",
      "\n",
      "*** Results for punctuation_percentage\n",
      "         count      mean       std  min    25%  50%    75%    max\n",
      "Summary                                                          \n",
      "0        986.0  3.768966  8.640866  0.0  0.000  2.1  4.675  100.0\n",
      "1         20.0  2.900000  2.308565  0.0  1.275  2.5  3.525    9.1\n",
      "t-statistic: -1.5, p-value: 0.147\n",
      "None\n",
      "\n",
      "*** Results for number_percentage\n",
      "         count      mean        std  min  25%  50%   75%    max\n",
      "Summary                                                        \n",
      "0        986.0  5.158012  12.090090  0.0  0.0  0.0  3.80  100.0\n",
      "1         20.0  2.065000   3.258394  0.0  0.0  0.0  3.65   10.5\n",
      "t-statistic: -3.8, p-value: 0.00072\n",
      "None\n",
      "\n",
      "*** Results for proper_noun_percentage\n",
      "         count       mean        std  min  25%    50%     75%    max\n",
      "Summary                                                             \n",
      "0        986.0  33.117748  33.261369  0.0  0.0  22.45  59.700  100.0\n",
      "1         20.0  14.925000  15.117640  0.0  0.0  13.30  25.425   50.0\n",
      "t-statistic: -5.1, p-value: 3.37e-05\n",
      "None\n"
     ]
    }
   ],
   "source": [
    "tr_feature_names = list(target_only_numeric.columns.values)\n",
    "\n",
    "for feature in tr_feature_names:\n",
    "    describe_cont_feature(feature)"
   ]
  },
  {
   "cell_type": "markdown",
   "metadata": {},
   "source": [
    "## Detect Outliers"
   ]
  },
  {
   "cell_type": "code",
   "execution_count": 9,
   "metadata": {},
   "outputs": [
    {
     "name": "stdout",
     "output_type": "stream",
     "text": [
      "\n",
      "Outlier caps and floors for line_length:\n",
      "   --95p: 215.0 / 51 values exceed that.\n",
      "   --99p: 497.2 / 11 values exceed that.\n",
      "   --3sd: 390.5 / 20 values exceed that.\n",
      "\n",
      "Outlier caps and floors for word_count:\n",
      "   --95p: 36.8 / 51 values exceed that.\n",
      "   --99p: 79.9 / 11 values exceed that.\n",
      "   --3sd: 62.5 / 18 values exceed that.\n",
      "\n",
      "Outlier caps and floors for verb_percentage:\n",
      "   --95p: 20.0 / 41 values exceed that.\n",
      "   --99p: 33.3 / 10 values exceed that.\n",
      "   --3sd: 31.7 / 20 values exceed that.\n",
      "\n",
      "Outlier caps and floors for adj_percentage:\n",
      "   --95p: 32.6 / 51 values exceed that.\n",
      "   --99p: 50.0 / 10 values exceed that.\n",
      "   --3sd: 46.5 / 25 values exceed that.\n",
      "\n",
      "Outlier caps and floors for stopword_percentage:\n",
      "   --95p: 6.5 / 51 values exceed that.\n",
      "   --99p: 10.0 / 7 values exceed that.\n",
      "   --3sd: 9.7 / 13 values exceed that.\n",
      "\n",
      "Outlier caps and floors for punctuation_percentage:\n",
      "   --95p: 13.0 / 50 values exceed that.\n",
      "   --99p: 23.4 / 11 values exceed that.\n",
      "   --3sd: 29.4 / 7 values exceed that.\n",
      "\n",
      "Outlier caps and floors for number_percentage:\n",
      "   --95p: 25.0 / 50 values exceed that.\n",
      "   --99p: 66.7 / 3 values exceed that.\n",
      "   --3sd: 41.0 / 17 values exceed that.\n",
      "\n",
      "Outlier caps and floors for proper_noun_percentage:\n",
      "   --95p: 100.0 / 0 values exceed that.\n",
      "   --99p: 100.0 / 0 values exceed that.\n",
      "   --3sd: 132.0 / 0 values exceed that.\n"
     ]
    }
   ],
   "source": [
    "def detect_outlier(feature):\n",
    "    outliers = []\n",
    "    data = numeric_only[feature]\n",
    "    mean = np.mean(data)\n",
    "    std = np.std(data)\n",
    "    \n",
    "    for y in data:\n",
    "        z_score = (y - mean)/std\n",
    "        if np.abs(z_score) > 3:\n",
    "            outliers.append(y)\n",
    "    print('\\nOutlier caps and floors for {}:'.format(feature))\n",
    "    print('   --95p: {:.1f} / {} values exceed that.'.format(data.quantile(.95),\n",
    "                                                            len([i for i in data\n",
    "                                                                if i > data.quantile(.95)])))\n",
    "    print('   --99p: {:.1f} / {} values exceed that.'.format(data.quantile(.99),\n",
    "                                                     len([i for i in data\n",
    "                                                            if i > data.quantile(.99)])))\n",
    "    print('   --3sd: {:.1f} / {} values exceed that.'.format(mean + 3*(std), len(outliers)))\n",
    "    \n",
    "for feat in features:\n",
    "    detect_outlier(feat)"
   ]
  },
  {
   "cell_type": "markdown",
   "metadata": {},
   "source": [
    "## Cap features\n",
    "Remove all records that are more than 3  σ  from  μ, or in the 99th or 95th percentile."
   ]
  },
  {
   "cell_type": "code",
   "execution_count": 10,
   "metadata": {},
   "outputs": [],
   "source": [
    "# numeric_only['word_count'].clip(upper=35,lower=3,inplace=True)\n",
    "# numeric_only.describe()"
   ]
  },
  {
   "cell_type": "markdown",
   "metadata": {},
   "source": [
    "## Transform Skewed Data\n",
    "####  Process\n",
    "1. Determine what range of exponents to test\n",
    "2. Apply each transformation to each value of your chosen feature\n",
    "3. Use some criteria to determine which of the transformations yeild the best distributions"
   ]
  },
  {
   "cell_type": "markdown",
   "metadata": {},
   "source": [
    "## Visually Inspect Features \n",
    "\n",
    "### Choose a feature to inspect"
   ]
  },
  {
   "cell_type": "code",
   "execution_count": 11,
   "metadata": {},
   "outputs": [
    {
     "name": "stdout",
     "output_type": "stream",
     "text": [
      "line_length\n",
      "word_count\n",
      "verb_percentage\n",
      "adj_percentage\n",
      "stopword_percentage\n",
      "punctuation_percentage\n",
      "number_percentage\n",
      "proper_noun_percentage\n"
     ]
    }
   ],
   "source": [
    "for feature in features.columns.values:\n",
    "    print(feature)"
   ]
  },
  {
   "cell_type": "code",
   "execution_count": 47,
   "metadata": {},
   "outputs": [],
   "source": [
    "# Selecting a feature from the list above\n",
    "feature = 'proper_noun_percentage'"
   ]
  },
  {
   "cell_type": "markdown",
   "metadata": {},
   "source": [
    "#### Generate Overlapping Histograms\n",
    "The orange dispersion plot is all the non-target variables, and that blue is the target variable\n",
    "Stronger features will have clearly different dispersions with the two colors. The more the colors overlap, the weaker the feature at indicating the target variable."
   ]
  },
  {
   "cell_type": "code",
   "execution_count": 48,
   "metadata": {},
   "outputs": [
    {
     "data": {
      "image/png": "[encoded data removed]",
      "text/plain": [
       "<Figure size 432x288 with 1 Axes>"
      ]
     },
     "metadata": {
      "needs_background": "light"
     },
     "output_type": "display_data"
    }
   ],
   "source": [
    "bins = np.linspace(0, 50, 40)\n",
    "\n",
    "pyplot.hist(numeric_only[numeric_only[target]==1][feature], bins, alpha=0.5, label='Target')\n",
    "pyplot.hist(numeric_only[numeric_only[target]==0][feature], bins, alpha=0.5, label='Not Target')\n",
    "pyplot.legend(loc='upper left')\n",
    "pyplot.show()"
   ]
  },
  {
   "cell_type": "markdown",
   "metadata": {},
   "source": [
    "#### Generate QQ Plots\n",
    "The red line represents the theoretical line that would be plotted based on this data set, if the data were perfectly linearly related. The blue dots are the actual data points from the data set, after they have undergone the transformatiion listed at the top of the plot.\n",
    "\n",
    "The goal is to select the transformation that gets the blue dots as close to the red line as possible."
   ]
  },
  {
   "cell_type": "code",
   "execution_count": 49,
   "metadata": {},
   "outputs": [
    {
     "data": {
      "image/png": "[encoded data removed]",
      "text/plain": [
       "<Figure size 432x288 with 1 Axes>"
      ]
     },
     "metadata": {
      "needs_background": "light"
     },
     "output_type": "display_data"
    },
    {
     "data": {
      "image/png": "[encoded data removed]",
      "text/plain": [
       "<Figure size 432x288 with 1 Axes>"
      ]
     },
     "metadata": {
      "needs_background": "light"
     },
     "output_type": "display_data"
    },
    {
     "data": {
      "image/png": "[encoded data removed]",
      "text/plain": [
       "<Figure size 432x288 with 1 Axes>"
      ]
     },
     "metadata": {
      "needs_background": "light"
     },
     "output_type": "display_data"
    },
    {
     "data": {
      "image/png": "[encoded data removed]",
      "text/plain": [
       "<Figure size 432x288 with 1 Axes>"
      ]
     },
     "metadata": {
      "needs_background": "light"
     },
     "output_type": "display_data"
    },
    {
     "data": {
      "image/png": "[encoded data removed]",
      "text/plain": [
       "<Figure size 432x288 with 1 Axes>"
      ]
     },
     "metadata": {
      "needs_background": "light"
     },
     "output_type": "display_data"
    },
    {
     "data": {
      "image/png": "[encoded data removed]",
      "text/plain": [
       "<Figure size 432x288 with 1 Axes>"
      ]
     },
     "metadata": {
      "needs_background": "light"
     },
     "output_type": "display_data"
    },
    {
     "data": {
      "image/png": "[encoded data removed]",
      "text/plain": [
       "<Figure size 432x288 with 1 Axes>"
      ]
     },
     "metadata": {
      "needs_background": "light"
     },
     "output_type": "display_data"
    },
    {
     "data": {
      "image/png": "[encoded data removed]",
      "text/plain": [
       "<Figure size 432x288 with 1 Axes>"
      ]
     },
     "metadata": {
      "needs_background": "light"
     },
     "output_type": "display_data"
    },
    {
     "data": {
      "image/png": "[encoded data removed]",
      "text/plain": [
       "<Figure size 432x288 with 1 Axes>"
      ]
     },
     "metadata": {
      "needs_background": "light"
     },
     "output_type": "display_data"
    },
    {
     "data": {
      "image/png": "[encoded data removed]",
      "text/plain": [
       "<Figure size 432x288 with 1 Axes>"
      ]
     },
     "metadata": {
      "needs_background": "light"
     },
     "output_type": "display_data"
    },
    {
     "data": {
      "image/png": "[encoded data removed]",
      "text/plain": [
       "<Figure size 432x288 with 1 Axes>"
      ]
     },
     "metadata": {
      "needs_background": "light"
     },
     "output_type": "display_data"
    }
   ],
   "source": [
    "for i in [0.5, 1, 2, 3, 4, 5, 6, 7, 8, 9, 10]:\n",
    "    data_t = numeric_only[feature]**(1/i)\n",
    "    qqplot(data_t, line='s')\n",
    "    pyplot.title('Transformation: 1/{}'.format(str(i)))"
   ]
  },
  {
   "cell_type": "markdown",
   "metadata": {},
   "source": [
    "#### Generate Layered Histograms\n",
    "The orange line represents a perfectly normal distribution based on the actual $\\mu$ and $\\sigma$ of the data set.\n",
    "The blue represents the actual distribution of the data set after undergoing the transformation liseted at the top of the plot.\n",
    "\n",
    "The goal is to select the transformation that aligns the blue most closely with the orange"
   ]
  },
  {
   "cell_type": "code",
   "execution_count": 50,
   "metadata": {
    "scrolled": false
   },
   "outputs": [
    {
     "data": {
      "image/png": "[encoded data removed]",
      "text/plain": [
       "<Figure size 432x288 with 1 Axes>"
      ]
     },
     "metadata": {
      "needs_background": "light"
     },
     "output_type": "display_data"
    },
    {
     "data": {
      "image/png": "[encoded data removed]",
      "text/plain": [
       "<Figure size 432x288 with 1 Axes>"
      ]
     },
     "metadata": {
      "needs_background": "light"
     },
     "output_type": "display_data"
    },
    {
     "data": {
      "image/png": "[encoded data removed]",
      "text/plain": [
       "<Figure size 432x288 with 1 Axes>"
      ]
     },
     "metadata": {
      "needs_background": "light"
     },
     "output_type": "display_data"
    }
   ],
   "source": [
    "# Select lower (inclusive) and upper (exclusive) limits for the denominator to be multiplied in the \"feature * 1/n\"  \n",
    "transformations = range(2, 5)\n",
    "\n",
    "for i in transformations:\n",
    "    data_t = numeric_only[feature]**(1/i)\n",
    "    n, bins, pathches = pyplot.hist(data_t, 50, density=True)\n",
    "    mu = np.mean(data_t)\n",
    "    sigma = np.std(data_t)\n",
    "    pyplot.plot(bins, stats.norm.pdf(bins, mu, sigma))\n",
    "    pyplot.title('Transformation: 1/{}'.format(str(i)))\n",
    "    pyplot.show()"
   ]
  },
  {
   "cell_type": "markdown",
   "metadata": {},
   "source": [
    "#### Add Transformed Data\n",
    "Based on investigation above, make any transformations necessary, and add them to separate columns of the training data."
   ]
  },
  {
   "cell_type": "code",
   "execution_count": 51,
   "metadata": {
    "scrolled": true
   },
   "outputs": [
    {
     "data": {
      "text/html": [
       "<div>\n",
       "<style scoped>\n",
       "    .dataframe tbody tr th:only-of-type {\n",
       "        vertical-align: middle;\n",
       "    }\n",
       "\n",
       "    .dataframe tbody tr th {\n",
       "        vertical-align: top;\n",
       "    }\n",
       "\n",
       "    .dataframe thead th {\n",
       "        text-align: right;\n",
       "    }\n",
       "</style>\n",
       "<table border=\"1\" class=\"dataframe\">\n",
       "  <thead>\n",
       "    <tr style=\"text-align: right;\">\n",
       "      <th></th>\n",
       "      <th>line_length</th>\n",
       "      <th>word_count</th>\n",
       "      <th>verb_percentage</th>\n",
       "      <th>adj_percentage</th>\n",
       "      <th>stopword_percentage</th>\n",
       "      <th>punctuation_percentage</th>\n",
       "      <th>number_percentage</th>\n",
       "      <th>proper_noun_percentage</th>\n",
       "      <th>Award</th>\n",
       "      <th>Bullet</th>\n",
       "      <th>...</th>\n",
       "      <th>Unknown</th>\n",
       "      <th>Volunteer</th>\n",
       "      <th>line_length_trans</th>\n",
       "      <th>word_count_trans</th>\n",
       "      <th>verb_percentage_trans</th>\n",
       "      <th>adj_percentage_trans</th>\n",
       "      <th>stopword_percentage_trans</th>\n",
       "      <th>punctuation_percentage_trans</th>\n",
       "      <th>number_percentage_trans</th>\n",
       "      <th>proper_noun_percentage_trans</th>\n",
       "    </tr>\n",
       "  </thead>\n",
       "  <tbody>\n",
       "    <tr>\n",
       "      <th>0</th>\n",
       "      <td>13</td>\n",
       "      <td>2</td>\n",
       "      <td>0.0</td>\n",
       "      <td>0.0</td>\n",
       "      <td>0.0</td>\n",
       "      <td>0.0</td>\n",
       "      <td>0.0</td>\n",
       "      <td>100.0</td>\n",
       "      <td>0</td>\n",
       "      <td>0</td>\n",
       "      <td>...</td>\n",
       "      <td>0</td>\n",
       "      <td>0</td>\n",
       "      <td>1.329755</td>\n",
       "      <td>1.071773</td>\n",
       "      <td>0.000000</td>\n",
       "      <td>0.000000</td>\n",
       "      <td>0.000000</td>\n",
       "      <td>0.000000</td>\n",
       "      <td>0.000000</td>\n",
       "      <td>3.162278</td>\n",
       "    </tr>\n",
       "    <tr>\n",
       "      <th>1</th>\n",
       "      <td>57</td>\n",
       "      <td>7</td>\n",
       "      <td>0.0</td>\n",
       "      <td>7.7</td>\n",
       "      <td>0.0</td>\n",
       "      <td>10.5</td>\n",
       "      <td>23.1</td>\n",
       "      <td>30.8</td>\n",
       "      <td>0</td>\n",
       "      <td>0</td>\n",
       "      <td>...</td>\n",
       "      <td>0</td>\n",
       "      <td>0</td>\n",
       "      <td>1.567102</td>\n",
       "      <td>1.214814</td>\n",
       "      <td>0.000000</td>\n",
       "      <td>1.665799</td>\n",
       "      <td>0.000000</td>\n",
       "      <td>3.240370</td>\n",
       "      <td>4.806246</td>\n",
       "      <td>2.355796</td>\n",
       "    </tr>\n",
       "    <tr>\n",
       "      <th>2</th>\n",
       "      <td>698</td>\n",
       "      <td>104</td>\n",
       "      <td>4.1</td>\n",
       "      <td>4.1</td>\n",
       "      <td>4.9</td>\n",
       "      <td>2.7</td>\n",
       "      <td>2.5</td>\n",
       "      <td>12.3</td>\n",
       "      <td>0</td>\n",
       "      <td>0</td>\n",
       "      <td>...</td>\n",
       "      <td>0</td>\n",
       "      <td>0</td>\n",
       "      <td>2.070065</td>\n",
       "      <td>1.591121</td>\n",
       "      <td>1.600521</td>\n",
       "      <td>1.422971</td>\n",
       "      <td>2.213594</td>\n",
       "      <td>1.643168</td>\n",
       "      <td>1.581139</td>\n",
       "      <td>1.872735</td>\n",
       "    </tr>\n",
       "    <tr>\n",
       "      <th>3</th>\n",
       "      <td>22</td>\n",
       "      <td>2</td>\n",
       "      <td>0.0</td>\n",
       "      <td>50.0</td>\n",
       "      <td>0.0</td>\n",
       "      <td>0.0</td>\n",
       "      <td>0.0</td>\n",
       "      <td>0.0</td>\n",
       "      <td>0</td>\n",
       "      <td>0</td>\n",
       "      <td>...</td>\n",
       "      <td>0</td>\n",
       "      <td>0</td>\n",
       "      <td>1.409802</td>\n",
       "      <td>1.071773</td>\n",
       "      <td>0.000000</td>\n",
       "      <td>2.659148</td>\n",
       "      <td>0.000000</td>\n",
       "      <td>0.000000</td>\n",
       "      <td>0.000000</td>\n",
       "      <td>0.000000</td>\n",
       "    </tr>\n",
       "    <tr>\n",
       "      <th>4</th>\n",
       "      <td>67</td>\n",
       "      <td>9</td>\n",
       "      <td>10.0</td>\n",
       "      <td>0.0</td>\n",
       "      <td>1.5</td>\n",
       "      <td>3.0</td>\n",
       "      <td>20.0</td>\n",
       "      <td>40.0</td>\n",
       "      <td>0</td>\n",
       "      <td>0</td>\n",
       "      <td>...</td>\n",
       "      <td>1</td>\n",
       "      <td>0</td>\n",
       "      <td>1.595501</td>\n",
       "      <td>1.245731</td>\n",
       "      <td>2.154435</td>\n",
       "      <td>0.000000</td>\n",
       "      <td>1.224745</td>\n",
       "      <td>1.732051</td>\n",
       "      <td>4.472136</td>\n",
       "      <td>2.514867</td>\n",
       "    </tr>\n",
       "  </tbody>\n",
       "</table>\n",
       "<p>5 rows × 33 columns</p>\n",
       "</div>"
      ],
      "text/plain": [
       "   line_length  word_count  verb_percentage  adj_percentage  \\\n",
       "0           13           2              0.0             0.0   \n",
       "1           57           7              0.0             7.7   \n",
       "2          698         104              4.1             4.1   \n",
       "3           22           2              0.0            50.0   \n",
       "4           67           9             10.0             0.0   \n",
       "\n",
       "   stopword_percentage  punctuation_percentage  number_percentage  \\\n",
       "0                  0.0                     0.0                0.0   \n",
       "1                  0.0                    10.5               23.1   \n",
       "2                  4.9                     2.7                2.5   \n",
       "3                  0.0                     0.0                0.0   \n",
       "4                  1.5                     3.0               20.0   \n",
       "\n",
       "   proper_noun_percentage  Award  Bullet  ...  Unknown  Volunteer  \\\n",
       "0                   100.0      0       0  ...        0          0   \n",
       "1                    30.8      0       0  ...        0          0   \n",
       "2                    12.3      0       0  ...        0          0   \n",
       "3                     0.0      0       0  ...        0          0   \n",
       "4                    40.0      0       0  ...        1          0   \n",
       "\n",
       "   line_length_trans  word_count_trans  verb_percentage_trans  \\\n",
       "0           1.329755          1.071773               0.000000   \n",
       "1           1.567102          1.214814               0.000000   \n",
       "2           2.070065          1.591121               1.600521   \n",
       "3           1.409802          1.071773               0.000000   \n",
       "4           1.595501          1.245731               2.154435   \n",
       "\n",
       "   adj_percentage_trans  stopword_percentage_trans  \\\n",
       "0              0.000000                   0.000000   \n",
       "1              1.665799                   0.000000   \n",
       "2              1.422971                   2.213594   \n",
       "3              2.659148                   0.000000   \n",
       "4              0.000000                   1.224745   \n",
       "\n",
       "   punctuation_percentage_trans  number_percentage_trans  \\\n",
       "0                      0.000000                 0.000000   \n",
       "1                      3.240370                 4.806246   \n",
       "2                      1.643168                 1.581139   \n",
       "3                      0.000000                 0.000000   \n",
       "4                      1.732051                 4.472136   \n",
       "\n",
       "   proper_noun_percentage_trans  \n",
       "0                      3.162278  \n",
       "1                      2.355796  \n",
       "2                      1.872735  \n",
       "3                      0.000000  \n",
       "4                      2.514867  \n",
       "\n",
       "[5 rows x 33 columns]"
      ]
     },
     "execution_count": 51,
     "metadata": {},
     "output_type": "execute_result"
    }
   ],
   "source": [
    "numeric_only['line_length_trans'] = numeric_only['line_length'].apply(lambda x : x**(1/9))\n",
    "\n",
    "numeric_only['word_count_trans'] = numeric_only['word_count'].apply(lambda x : x**(1/10))\n",
    "\n",
    "numeric_only['verb_percentage_trans'] = numeric_only['verb_percentage'].apply(lambda x : x**(1/3))\n",
    "\n",
    "numeric_only['adj_percentage_trans'] = numeric_only['adj_percentage'].apply(lambda x : x**(1/4))\n",
    "\n",
    "numeric_only['stopword_percentage_trans'] = numeric_only['stopword_percentage'].apply(lambda x : x**(1/2))\n",
    "\n",
    "numeric_only['punctuation_percentage_trans'] = numeric_only['punctuation_percentage'].apply(lambda x : x**(1/2))\n",
    "\n",
    "numeric_only['number_percentage_trans'] = numeric_only['number_percentage'].apply(lambda x : x**(1/2))\n",
    "\n",
    "numeric_only['proper_noun_percentage_trans'] = numeric_only['proper_noun_percentage'].apply(lambda x : x**(1/4))\n",
    "\n",
    "\n",
    "numeric_only.head()"
   ]
  },
  {
   "cell_type": "markdown",
   "metadata": {},
   "source": [
    "## Split data into training, validation, and test sets "
   ]
  },
  {
   "cell_type": "code",
   "execution_count": 52,
   "metadata": {},
   "outputs": [
    {
     "name": "stdout",
     "output_type": "stream",
     "text": [
      "Total records: 1006\n",
      "Training set:\t603\n",
      "Validation set:\t202\n",
      "Test set:\t201\n"
     ]
    }
   ],
   "source": [
    "# Create data frames for features and labels.\n",
    "features = numeric_only.drop(label_list, axis=1)\n",
    "labels = numeric_only[target]\n",
    "\n",
    "# train_test_split can only split into two groups, so start with the desired training percentage,\n",
    "# - then split the remainder in half, or another fraction, to yield validation and test sets.\n",
    "\n",
    "X_train, X_test, y_train, y_test = train_test_split(features, labels, test_size=0.4, random_state=42)\n",
    "X_test, X_val, y_test, y_val = train_test_split(X_test, y_test, test_size=0.5, random_state=42)\n",
    "\n",
    "# Verify split\n",
    "print('Total records: {}\\nTraining set:\\t{}\\nValidation set:\\t{}\\nTest set:\\t{}'.format(len(labels), len(y_train), len(y_val), len(y_test)))"
   ]
  },
  {
   "cell_type": "code",
   "execution_count": 53,
   "metadata": {},
   "outputs": [
    {
     "data": {
      "text/html": [
       "<div>\n",
       "<style scoped>\n",
       "    .dataframe tbody tr th:only-of-type {\n",
       "        vertical-align: middle;\n",
       "    }\n",
       "\n",
       "    .dataframe tbody tr th {\n",
       "        vertical-align: top;\n",
       "    }\n",
       "\n",
       "    .dataframe thead th {\n",
       "        text-align: right;\n",
       "    }\n",
       "</style>\n",
       "<table border=\"1\" class=\"dataframe\">\n",
       "  <thead>\n",
       "    <tr style=\"text-align: right;\">\n",
       "      <th></th>\n",
       "      <th>line_length</th>\n",
       "      <th>word_count</th>\n",
       "      <th>verb_percentage</th>\n",
       "      <th>adj_percentage</th>\n",
       "      <th>stopword_percentage</th>\n",
       "      <th>punctuation_percentage</th>\n",
       "      <th>number_percentage</th>\n",
       "      <th>proper_noun_percentage</th>\n",
       "      <th>line_length_trans</th>\n",
       "      <th>word_count_trans</th>\n",
       "      <th>verb_percentage_trans</th>\n",
       "      <th>adj_percentage_trans</th>\n",
       "      <th>stopword_percentage_trans</th>\n",
       "      <th>punctuation_percentage_trans</th>\n",
       "      <th>number_percentage_trans</th>\n",
       "      <th>proper_noun_percentage_trans</th>\n",
       "    </tr>\n",
       "  </thead>\n",
       "  <tbody>\n",
       "    <tr>\n",
       "      <th>650</th>\n",
       "      <td>9</td>\n",
       "      <td>1</td>\n",
       "      <td>0.0</td>\n",
       "      <td>0.0</td>\n",
       "      <td>0.0</td>\n",
       "      <td>0.0</td>\n",
       "      <td>0.0</td>\n",
       "      <td>0.0</td>\n",
       "      <td>1.276518</td>\n",
       "      <td>1.000000</td>\n",
       "      <td>0.000000</td>\n",
       "      <td>0.000000</td>\n",
       "      <td>0.000000</td>\n",
       "      <td>0.000000</td>\n",
       "      <td>0.00000</td>\n",
       "      <td>0.000000</td>\n",
       "    </tr>\n",
       "    <tr>\n",
       "      <th>448</th>\n",
       "      <td>71</td>\n",
       "      <td>15</td>\n",
       "      <td>6.2</td>\n",
       "      <td>0.0</td>\n",
       "      <td>5.6</td>\n",
       "      <td>1.4</td>\n",
       "      <td>6.2</td>\n",
       "      <td>25.0</td>\n",
       "      <td>1.605814</td>\n",
       "      <td>1.311019</td>\n",
       "      <td>1.837091</td>\n",
       "      <td>0.000000</td>\n",
       "      <td>2.366432</td>\n",
       "      <td>1.183216</td>\n",
       "      <td>2.48998</td>\n",
       "      <td>2.236068</td>\n",
       "    </tr>\n",
       "    <tr>\n",
       "      <th>533</th>\n",
       "      <td>5</td>\n",
       "      <td>2</td>\n",
       "      <td>0.0</td>\n",
       "      <td>0.0</td>\n",
       "      <td>20.0</td>\n",
       "      <td>0.0</td>\n",
       "      <td>0.0</td>\n",
       "      <td>66.7</td>\n",
       "      <td>1.195813</td>\n",
       "      <td>1.071773</td>\n",
       "      <td>0.000000</td>\n",
       "      <td>0.000000</td>\n",
       "      <td>4.472136</td>\n",
       "      <td>0.000000</td>\n",
       "      <td>0.00000</td>\n",
       "      <td>2.857798</td>\n",
       "    </tr>\n",
       "    <tr>\n",
       "      <th>622</th>\n",
       "      <td>36</td>\n",
       "      <td>4</td>\n",
       "      <td>0.0</td>\n",
       "      <td>50.0</td>\n",
       "      <td>0.0</td>\n",
       "      <td>0.0</td>\n",
       "      <td>0.0</td>\n",
       "      <td>0.0</td>\n",
       "      <td>1.489095</td>\n",
       "      <td>1.148698</td>\n",
       "      <td>0.000000</td>\n",
       "      <td>2.659148</td>\n",
       "      <td>0.000000</td>\n",
       "      <td>0.000000</td>\n",
       "      <td>0.00000</td>\n",
       "      <td>0.000000</td>\n",
       "    </tr>\n",
       "    <tr>\n",
       "      <th>752</th>\n",
       "      <td>15</td>\n",
       "      <td>1</td>\n",
       "      <td>0.0</td>\n",
       "      <td>100.0</td>\n",
       "      <td>0.0</td>\n",
       "      <td>6.7</td>\n",
       "      <td>0.0</td>\n",
       "      <td>0.0</td>\n",
       "      <td>1.351067</td>\n",
       "      <td>1.000000</td>\n",
       "      <td>0.000000</td>\n",
       "      <td>3.162278</td>\n",
       "      <td>0.000000</td>\n",
       "      <td>2.588436</td>\n",
       "      <td>0.00000</td>\n",
       "      <td>0.000000</td>\n",
       "    </tr>\n",
       "  </tbody>\n",
       "</table>\n",
       "</div>"
      ],
      "text/plain": [
       "     line_length  word_count  verb_percentage  adj_percentage  \\\n",
       "650            9           1              0.0             0.0   \n",
       "448           71          15              6.2             0.0   \n",
       "533            5           2              0.0             0.0   \n",
       "622           36           4              0.0            50.0   \n",
       "752           15           1              0.0           100.0   \n",
       "\n",
       "     stopword_percentage  punctuation_percentage  number_percentage  \\\n",
       "650                  0.0                     0.0                0.0   \n",
       "448                  5.6                     1.4                6.2   \n",
       "533                 20.0                     0.0                0.0   \n",
       "622                  0.0                     0.0                0.0   \n",
       "752                  0.0                     6.7                0.0   \n",
       "\n",
       "     proper_noun_percentage  line_length_trans  word_count_trans  \\\n",
       "650                     0.0           1.276518          1.000000   \n",
       "448                    25.0           1.605814          1.311019   \n",
       "533                    66.7           1.195813          1.071773   \n",
       "622                     0.0           1.489095          1.148698   \n",
       "752                     0.0           1.351067          1.000000   \n",
       "\n",
       "     verb_percentage_trans  adj_percentage_trans  stopword_percentage_trans  \\\n",
       "650               0.000000              0.000000                   0.000000   \n",
       "448               1.837091              0.000000                   2.366432   \n",
       "533               0.000000              0.000000                   4.472136   \n",
       "622               0.000000              2.659148                   0.000000   \n",
       "752               0.000000              3.162278                   0.000000   \n",
       "\n",
       "     punctuation_percentage_trans  number_percentage_trans  \\\n",
       "650                      0.000000                  0.00000   \n",
       "448                      1.183216                  2.48998   \n",
       "533                      0.000000                  0.00000   \n",
       "622                      0.000000                  0.00000   \n",
       "752                      2.588436                  0.00000   \n",
       "\n",
       "     proper_noun_percentage_trans  \n",
       "650                      0.000000  \n",
       "448                      2.236068  \n",
       "533                      2.857798  \n",
       "622                      0.000000  \n",
       "752                      0.000000  "
      ]
     },
     "execution_count": 53,
     "metadata": {},
     "output_type": "execute_result"
    }
   ],
   "source": [
    "X_train.head()"
   ]
  },
  {
   "cell_type": "code",
   "execution_count": 56,
   "metadata": {},
   "outputs": [],
   "source": [
    "# Define a list of features to be used for each dataset\n",
    "raw_features = ['line_length', 'word_count','verb_percentage','adj_percentage','stopword_percentage','punctuation_percentage','number_percentage', 'proper_noun_percentage']\n",
    "\n",
    "transformed_features = ['line_length_trans','word_count_trans', 'verb_percentage_trans','adj_percentage_trans','stopword_percentage_trans','punctuation_percentage_trans','number_percentage_trans','proper_noun_percentage_trans']\n",
    "\n",
    "reduced_features = ['line_length','word_count','verb_percentage_trans','adj_percentage']"
   ]
  },
  {
   "cell_type": "markdown",
   "metadata": {},
   "source": [
    "### Write out Data "
   ]
  },
  {
   "cell_type": "code",
   "execution_count": 57,
   "metadata": {},
   "outputs": [],
   "source": [
    "# All feature sets\n",
    "X_train.to_csv('../output/train_features_all.csv', index=False)\n",
    "X_val.to_csv('../output/val_features_all.csv', index=False) \n",
    "X_test.to_csv('../output/test_features_all.csv', index=False)\n",
    "\n",
    "# Raw feature sets\n",
    "X_train[raw_features].to_csv('../output/train_features_raw.csv',index=False)\n",
    "X_val[raw_features].to_csv('../output/val_features_raw.csv',index=False)\n",
    "X_test[raw_features].to_csv('../output/test_features_raw.csv',index=False)\n",
    "\n",
    "# Transformed feature sets\n",
    "X_train[transformed_features].to_csv('../output/train_features_trans.csv',index=False)\n",
    "X_val[transformed_features].to_csv('../output/val_features_trans.csv',index=False)\n",
    "X_test[transformed_features].to_csv('../output/test_features_trans.csv',index=False)\n",
    "\n",
    "# Reduced feature sets\n",
    "X_train[reduced_features].to_csv('../output/train_features_reduced.csv',index=False)\n",
    "X_val[reduced_features].to_csv('../output/val_features_reduced.csv',index=False)\n",
    "X_test[reduced_features].to_csv('../output/test_features_reduced.csv',index=False)\n",
    "\n",
    "# Labels\n",
    "y_train.to_csv('../output/train_labels.csv', index=False)\n",
    "y_val.to_csv('../output/val_labels.csv', index=False) \n",
    "y_test.to_csv('../output/test_labels.csv', index=False)"
   ]
  },
  {
   "cell_type": "code",
   "execution_count": null,
   "metadata": {},
   "outputs": [],
   "source": []
  }
 ],
 "metadata": {
  "kernelspec": {
   "display_name": "Python 3",
   "language": "python",
   "name": "python3"
  },
  "language_info": {
   "codemirror_mode": {
    "name": "ipython",
    "version": 3
   },
   "file_extension": ".py",
   "mimetype": "text/x-python",
   "name": "python",
   "nbconvert_exporter": "python",
   "pygments_lexer": "ipython3",
   "version": "3.8.10"
  }
 },
 "nbformat": 4,
 "nbformat_minor": 4
}
